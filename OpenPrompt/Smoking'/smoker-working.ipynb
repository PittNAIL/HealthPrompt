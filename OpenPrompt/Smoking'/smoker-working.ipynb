{
 "cells": [
  {
   "cell_type": "code",
   "execution_count": 1,
   "metadata": {
    "id": "Bgm_jBuEbJb-"
   },
   "outputs": [],
   "source": [
    "!pip install -q openprompt==0.1.1 \\\n",
    "'torch>=1.9.0' \\\n",
    "'transformers>=4.10.0' \\\n",
    "sentencepiece==0.1.96 \\\n",
    "'scikit-learn>=0.24.2' \\\n",
    "'tqdm>=4.62.2' \\\n",
    "tensorboardX \\\n",
    "nltk \\\n",
    "yacs \\\n",
    "dill \\\n",
    "datasets \\\n",
    "rouge==1.0.0 \\\n",
    "scipy==1.4.1 \\\n",
    "fugashi \\\n",
    "ipadic \\\n",
    "unidic-lite"
   ]
  },
  {
   "cell_type": "code",
   "execution_count": 2,
   "metadata": {},
   "outputs": [],
   "source": [
    "import openprompt.plms as plms\n",
    "from openprompt.plms.mlm import MLMTokenizerWrapper\n",
    "from transformers import BertConfig, BertForMaskedLM, BertTokenizer\n",
    "from openprompt.data_utils import InputExample\n",
    "from transformers import AutoTokenizer, AutoModel\n",
    "from openprompt.plms import load_plm\n",
    "from openprompt.prompts import ManualTemplate\n",
    "from openprompt.prompts import PtuningTemplate\n",
    "from openprompt.prompts import ManualVerbalizer\n",
    "from openprompt import PromptForClassification\n",
    "from openprompt import PromptDataLoader\n",
    "import torch\n",
    "\n"
   ]
  },
  {
   "cell_type": "code",
   "execution_count": 3,
   "metadata": {},
   "outputs": [],
   "source": [
    "import xml.etree.ElementTree as ET\n",
    "tree = ET.parse('./smokers_surrogate_train_all_version2.xml')\n",
    "root = tree.getroot()"
   ]
  },
  {
   "cell_type": "code",
   "execution_count": 4,
   "metadata": {},
   "outputs": [
    {
     "name": "stdout",
     "output_type": "stream",
     "text": [
      "RECORD {'ID': '641'}\n",
      "RECORD {'ID': '643'}\n",
      "RECORD {'ID': '681'}\n",
      "RECORD {'ID': '704'}\n",
      "RECORD {'ID': '757'}\n",
      "RECORD {'ID': '786'}\n",
      "RECORD {'ID': '872'}\n",
      "RECORD {'ID': '874'}\n",
      "RECORD {'ID': '535'}\n",
      "RECORD {'ID': '540'}\n"
     ]
    }
   ],
   "source": [
    "root.attrib\n",
    "root.tag\n",
    "counter=0\n",
    "for child in root:\n",
    "    if counter == 10:\n",
    "        break\n",
    "    print(child.tag, child.attrib)\n",
    "    counter +=1\n",
    "    "
   ]
  },
  {
   "cell_type": "code",
   "execution_count": 5,
   "metadata": {},
   "outputs": [
    {
     "name": "stdout",
     "output_type": "stream",
     "text": [
      "ROOT\n",
      "RECORD\n",
      "SMOKING\n",
      "TEXT\n",
      "RECORD\n",
      "SMOKING\n",
      "TEXT\n",
      "RECORD\n",
      "SMOKING\n",
      "TEXT\n"
     ]
    }
   ],
   "source": [
    "[elem.tag for elem in root.iter()]\n",
    "\n",
    "counter=0\n",
    "for elem in root.iter():\n",
    "    if counter==10:\n",
    "        break\n",
    "    print(elem.tag)\n",
    "    counter+=1"
   ]
  },
  {
   "cell_type": "code",
   "execution_count": 6,
   "metadata": {},
   "outputs": [
    {
     "name": "stdout",
     "output_type": "stream",
     "text": [
      "CURRENT SMOKER\n",
      "CURRENT SMOKER\n",
      "CURRENT SMOKER\n",
      "CURRENT SMOKER\n",
      "CURRENT SMOKER\n",
      "CURRENT SMOKER\n",
      "CURRENT SMOKER\n",
      "CURRENT SMOKER\n",
      "CURRENT SMOKER\n",
      "CURRENT SMOKER\n"
     ]
    }
   ],
   "source": [
    "counter=0\n",
    "for smoking in root.iter('SMOKING'):\n",
    "    if counter==10:\n",
    "        break\n",
    "    print(smoking.attrib.get('STATUS'))\n",
    "    counter +=1\n",
    "    \n",
    "# for movie in root.iter('SMOKING'):\n",
    "#     print(movie.attrib)"
   ]
  },
  {
   "cell_type": "code",
   "execution_count": 7,
   "metadata": {},
   "outputs": [
    {
     "name": "stdout",
     "output_type": "stream",
     "text": [
      "\n",
      "977146916\n",
      "HLGMC\n",
      "2878891\n",
      "022690\n",
      "01/27/1997 12:00:00 AM\n",
      "CARCINOMA OF THE COLON .\n",
      "Unsigned\n",
      "DIS\n",
      "Report Status :\n",
      "Unsigned\n",
      "Please do not go above this box important format codes are contained .\n",
      "DISCHARGE SUMMARY\n",
      "ARF32 FA\n",
      "DISCHARGE SUMMARY NAME :\n",
      "GIRRESNET , DIEDREO A\n",
      "UNIT NUMBER :\n",
      "075-71-01\n",
      "ADMISSION DATE :\n",
      "01/27/1997\n",
      "DISCHARGE DATE :\n",
      "01/31/1997\n",
      "PRINCIPAL DIAGNOSIS :\n",
      "Carcinoma of the colon .\n",
      "ASSOCIATED DIAGNOSIS :\n",
      "Urinary tract infection , and cirrhosis of the liver .\n",
      "HISTORY OF PRESENT ILLNESS :\n",
      "The patient is an 80-year-old male , who had a history of colon cancer in the past , resected approximately ten years prior to admission , history of heavy alcohol use , who presented with a two week history of poor PO intake , weight loss , and was noted to have acute on chronic Hepatitis by chemistries and question of pyelonephritis .\n",
      "He lived alone but was driven to the hospital by his son because of reported worsening and general care and deconditioning .\n",
      "Emergency Department course ; he was evaluated in the emergency room , found to be severely cachectic and jaundiced .\n",
      "He was given a liter of normal saline , along with thiamine , folate .\n",
      "An abdominal ultrasound was performed showing no stones .\n",
      "Chest x-ray revealed clear lungs and then he was admitted to Team C for management .\n",
      "PAST MEDICAL HISTORY :\n",
      "Cancer , ten years prior to admission , status post resection .\n",
      "MEDICATIONS ON ADMISSION :\n",
      "Folic acid .\n",
      "ALLERGIES :\n",
      "None .\n",
      "FAMILY HISTORY :\n",
      "Not obtained .\n",
      "SOCIAL HISTORY :\n",
      "Lives in Merca .\n",
      "Drinks ginger brandy to excess , pipe and cigar smoker for many years .\n",
      "PHYSICAL EXAMINATION :\n",
      "In general was a cachectic , jaundiced man .\n",
      "bloodpressure :\n",
      "124/60 , 97.4 , 84 , 22 for vital signs .\n",
      "head , eyes , ears , nose and throat :\n",
      "notable for abscess ulcers on the lower gums .\n",
      "He was edentulous .\n",
      "Neck was supple , lungs were clear except for some scattered mild crackles .\n",
      "Cardiac :\n",
      "tachycardic with a II / VI systolic ejection murmur .\n",
      "Belly was tender in the right upper quadrant .\n",
      "Liver edge , thickened abdominal wall was palpable .\n",
      "No inguinal nodes .\n",
      "Rectal was guaiac negative .\n",
      "On mental status exam , he was somnolent but arousable .\n",
      "Oriented to name , year , and hospital .\n",
      "Skin was jaundiced .\n",
      "LABORATORY DATA :\n",
      "Notable for a BUN and creatinine 14 and 1.8 , phosphorous of .5 , magnesium 1.2 , albumin 2.1 .\n",
      "elevated liver function tests , bilirubin of 14 direct , 17 total .\n",
      "uric acid 11.4 , alkaline phosphatase 173 , serum glutamic oxaloacetic transaminase 309 , amylase 388 .\n",
      "His urinalysis showed 10-20 granular casts and 10-20 white blood cells , 3-5 red blood cells , 5-10 whites , 3-5 white blood cells cast .\n",
      "The white blood cell was 8.5 , hematocrit 34 .\n",
      "platelet count 74 .\n",
      "5% bands on differential .\n",
      "prothrombin time 14.9 , partial thromboplastin time 35 .\n",
      "HOSPITAL COURSE AND TREATMENT :\n",
      "The patient was admitted to the Staviewordna University Of Medical Center .\n",
      "His mental status proceeded to decline as he became more sleepy and less arousable and confused .\n",
      "His Hepatitis worsened , liver failure progressed with his coagulopathy worsening .\n",
      "His renal status also decreased with a drop in urine output , became more shortness of breath as he developed some pulmonary edema .\n",
      "A head computerized tomography scan was planned to evaluate his change in mental status , but after an extensive discussion with the son , who felt that he and other family members wanted to maximize the patient 's comforts and avoid heroic measures in the event of further deterioration , plans were made to make the patient as comfortable as possible .\n",
      "He was continued on antibiotics , and oxygen , and morphine , and small amounts of Dopamine , and at 4 AM on January 31 , was pronounced dead .\n",
      "_________________________ AJO C. CUCHKOTE , M.D.\n",
      "TR :\n",
      "tfv\n",
      "DD :\n",
      "09/08/1997\n",
      "TD :\n",
      "10/13/1997 3:47\n",
      "Pcc :\n",
      "AZEL USANNE WALL , M.D.\n",
      "[ report_end ]\n",
      "\n"
     ]
    }
   ],
   "source": [
    "# for text in root.iter('TEXT'):\n",
    "#     print(text.text)\n",
    "    \n",
    "counter=0\n",
    "for text in root.iter('TEXT'):\n",
    "    if counter==1:\n",
    "        break\n",
    "    print(text.text)\n",
    "    counter +=1    "
   ]
  },
  {
   "cell_type": "code",
   "execution_count": 8,
   "metadata": {},
   "outputs": [],
   "source": [
    "counter=0\n",
    "for text in root.findall(\"./SMOKING/[@STATUS='CURRENT SMOKER']\"):\n",
    "    if counter==10:\n",
    "        break\n",
    "    print(text.attrib)\n",
    "    print(counter)\n",
    "    counter +=1    "
   ]
  },
  {
   "cell_type": "code",
   "execution_count": 9,
   "metadata": {},
   "outputs": [],
   "source": [
    "# doc=xee.fromstring('./smokers_surrogate_train_all_version2.xml')\n",
    "\n",
    "for tag in root.findall('SMOKING'):\n",
    "    if tag.attrib['STATUS']!='CURRENT SMOKER':\n",
    "#         root.remove(tag)\n",
    "        print(tag)\n",
    "        \n",
    "# print(ET.tostring(root))"
   ]
  },
  {
   "cell_type": "code",
   "execution_count": 10,
   "metadata": {},
   "outputs": [
    {
     "name": "stdout",
     "output_type": "stream",
     "text": [
      "641\n",
      "CURRENT SMOKER\n",
      "0\n",
      "643\n",
      "CURRENT SMOKER\n",
      "1\n"
     ]
    }
   ],
   "source": [
    "# node=root\n",
    "# if node.tag == \"SMOKING\":\n",
    "#         status = node.attrib.get(\"STATUS\")\n",
    "#         print(status)\n",
    "#         if status is not None:\n",
    "#             print(node.attrib.get(\"TEXT\"))\n",
    "import xml.etree.ElementTree as ET\n",
    "tree = ET.parse('./smokers_surrogate_train_all_version2.xml')\n",
    "root = tree.getroot()\n",
    "\n",
    "text_list=[]\n",
    "counter =0             \n",
    "for record in root.iter('RECORD'):\n",
    "    if counter == 2:\n",
    "        break\n",
    "    print(record.attrib.get('ID'))\n",
    "    smoking = record.find('SMOKING')\n",
    "    print(smoking.attrib.get('STATUS'))\n",
    "    if smoking.attrib.get('STATUS')==\"CURRENT SMOKER\":\n",
    "        text=record.find('TEXT')\n",
    "        text_list.append(text)\n",
    "        print(counter)\n",
    "    counter +=1"
   ]
  },
  {
   "cell_type": "code",
   "execution_count": 11,
   "metadata": {},
   "outputs": [],
   "source": [
    "import xml.etree.ElementTree as ET\n",
    "tree = ET.parse('./smokers_surrogate_train_all_version2.xml')\n",
    "root = tree.getroot()\n",
    "\n",
    "text_list=[]\n",
    "label_list=[]\n",
    "counter =0             \n",
    "for record in root.iter('RECORD'):\n",
    "#     if counter:\n",
    "#         break\n",
    "#     print(record.attrib.get('ID'))\n",
    "    smoking = record.find('SMOKING')\n",
    "    label_list.append(smoking.attrib.get('STATUS'))\n",
    "#     print(smoking.attrib.get('STATUS'))\n",
    "    text=record.find('TEXT')\n",
    "    text_list.append(text.text)\n",
    "#     print(text_list.__len__())\n",
    "#     print(counter)\n",
    "    counter +=1"
   ]
  },
  {
   "cell_type": "code",
   "execution_count": 12,
   "metadata": {},
   "outputs": [
    {
     "name": "stdout",
     "output_type": "stream",
     "text": [
      "398\n",
      "398\n"
     ]
    }
   ],
   "source": [
    "print(text_list.__len__())\n",
    "print(label_list.__len__())"
   ]
  },
  {
   "cell_type": "code",
   "execution_count": 13,
   "metadata": {},
   "outputs": [
    {
     "data": {
      "text/plain": [
       "list"
      ]
     },
     "execution_count": 13,
     "metadata": {},
     "output_type": "execute_result"
    }
   ],
   "source": [
    "text_list.__class__\n",
    "label_list.__class__"
   ]
  },
  {
   "cell_type": "code",
   "execution_count": 14,
   "metadata": {},
   "outputs": [
    {
     "data": {
      "text/plain": [
       "'\\n026738007\\nCMC\\n15319689\\n3/25/1998 12:00:00 AM\\nMEDIASTINAL ADENOPATHY RT. LUNG MASS\\nSigned\\nDIS\\nAdmission Date :\\n03/25/1998\\nReport Status :\\nSigned\\nDischarge Date :\\n04/08/1998\\nPRINCIPAL DIAGNOSIS :\\nRight lung choriocarcinoma .\\nOTHER DIAGNOSIS :\\nPericardial effusion .\\nHISTORY OF PRESENT ILLNESS :\\nThe patient was in her usual state of health , carrying the diagnosis of right lung chorio carcinoma , when she began to develop dyspnea and on 03/24/98 an echocardiogram revealed a pericardial effusion and possible tamponade clinically .\\nThe patient was first diagnosed in 10/97 , when she presented with the symptoms of menorrhagia .\\nShe had elevated beta HCG levels , no tubal pregnancy was suspected .\\nAright oophorectomy was performed .\\nIn 11/97 , chest x-ray revealed an abnormality in the right upper lobe .\\nA lung biopsy was performed , revealing chorio carcinoma pathologically .\\nAt the time , she also had symptoms of hemoptysis .\\nOn November 26 , a chest CT revealed multiple bilateral cysts and bilateral ill-defined nodules , a right upper lobe mass , and extensive lymphadenopathy in the peritracheal region .\\nThere was also some distal tracheal compression .\\nShe received XRT and chemotherapy with carboplatin and Taxol .\\nA head CT was also performed , revealing frontal lobe lesions consistent with cranial metastasis .\\nVIP therapy and cranial XRT were performed .\\nOn 03/24/98 , an echocardiogram revealed a pericardial effusion .\\nThe patient had presented with shortness of breath .\\nThe patient was admitted to Thoracic Surgery with symptoms of dyspnea and a pericardial effusion revealed on echocardiogram .\\nPAST MEDICAL HISTORY :\\n1. Schizoaffective disorder .\\n2. Status post right oophorectomy .\\n3. History of seizure disorder .\\nALLERGIES :\\n1. Penicillin causes a rash .\\n2. Macrodantin causes joint stiffness .\\n3. Erythromycin causes hallucinations .\\n4. Talwin causes hallucinations .\\n5. Percocet causes hallucinations .\\nMEDICATIONS :\\n1. Clonidine .\\n2. Trazodone 100 mg p.o. q h.s.\\n3. Tegretol 200 mg p.o. t.i.d.\\n4. Klonopin 1 mg p.o. t.i.d.\\nFAMILY HISTORY :\\nThe patient reports no family history of cancer .\\nThe mother died of asthma .\\nThe father of died of coronary artery disease .\\nSOCIAL HISTORY :\\nThe patient lives in Jer by herself .\\nHowever , her boyfriend lives next-door .\\nShe reports having no siblings .\\nHABITS :\\nThe patient has a 20 pack-year smoking history .\\nShe reports having just quit prior to admission .\\nShe denies any alcohol or street drug use .\\nPHYSICAL EXAMINATION :\\nVITAL SIGNS :\\nTemperature 97.5 , heart rate 90 , blood pressure 104/80 , respiratory rate 18 .\\nOxygen saturation is 94% on room air .\\nHEENT :\\nPupils equal , round and reactive to light .\\nNormal mucosa .\\nNECK :\\nSupple .\\nLUNGS :\\nClear to auscultation bilaterally .\\nNo crackles .\\nCARDIOVASCULAR :\\nRegular rate and rhythm , no murmurs .\\nABDOMEN :\\nPositive bowel sounds , soft .\\nEXTREMITIES :\\nNo edema , 2+ pulses bilaterally .\\nDIAGNOSTIC STUDIES :\\nMetabolic 20 panel was unremarkable .\\nCBC was unremarkable .\\nEKG revealed normal sinus rhythm with no ST changes .\\nHOSPITAL COURSE :\\nThe patient remained on the Thoracic Surgery service for the first three days of hospitalization .\\nDuring that time , on 03/26/98 a pericardial centesis was performed and 550 cc of bloody fluid were removed .\\nAmediastinoscopy was also performed at that time .\\nThe patient had some improvement in her symptoms .\\nHowever , on 03/27/98 she had increasing dyspnea , pleuritic chest pain , and mild hemoptysis .\\nApulmonary embolus was suspected .\\nHowever , a VQ scan was performed , which revealed intermediate probability .\\nThe defects were in the right upper lobe and this was felt to be unlikely to be consistent with a pulmonary embolus .\\nOn 03/28/98 another pericardial centesis was performed , withdrawing 350-400 cc fluid .\\nOn 03/29/98 apericardial window was performed , revealing a non malignant effusion .\\nThe patient was transferred over to the Hematology-Oncology service , where her course was relatively uneventful .\\nOn 04/03/98 she began receiving salvage chemo therapy with Cisplatin and Velban .\\nVelban was continued for two days , while Cisplatin was continued for five days , until 04/07/98 .\\nThe patient tolerated chemotherapy very well , with no side effects .\\nDISPOSITION :\\nThe patient will be discharged to home to begin G-CSF therapy .\\nFollow-up will be with Dr. Shock , her primary hematologist-oncologist , on 04/13/98 .\\nDISCHARGE MEDICATIONS :\\n1. Tegretol 200 mg p.o. t.i.d.\\n2. Klonopin 1 mg p.o. b.i.d.\\n3. Colace 100 mg p.o. b.i.d.\\n4. Nicoderm 21 mg q d. topical .\\n5. Zofran 24 mg p.o. q d. x 3 days .\\n6. Mellaril 100 mg p.o. q h.s.\\n7. Trazodone 150 mg p.o. q h.s.\\n8. Compazine 10 mg p.o. q 6 h. p.r.n. for nausea .\\n9. G-CSF 300 microgram subq. q d.\\nDictated By :\\nBIE OODSHUFFPREHE , M.D. VT9\\nAttending :\\nRASHANEMAR S. LANCEDUHE , M.D. SQ2 SM439/6058\\nBatch :\\n25796\\nIndex No. LWART6 IO\\nD :\\n04/08/98\\nT :\\n04/09/98\\nCC :\\n1. DR. SHOCK\\n2. RASHANEMAR S. LANCEDUHE , M.D. PJ9\\n[ report_end ]\\n'"
      ]
     },
     "execution_count": 14,
     "metadata": {},
     "output_type": "execute_result"
    }
   ],
   "source": [
    "text_list[1]"
   ]
  },
  {
   "cell_type": "code",
   "execution_count": null,
   "metadata": {},
   "outputs": [],
   "source": []
  },
  {
   "cell_type": "markdown",
   "metadata": {},
   "source": [
    "# Datset"
   ]
  },
  {
   "cell_type": "code",
   "execution_count": 15,
   "metadata": {},
   "outputs": [
    {
     "name": "stdout",
     "output_type": "stream",
     "text": [
      "cpu\n"
     ]
    }
   ],
   "source": [
    "import torch\n",
    "from torch.utils.data.dataset import Dataset\n",
    "import pandas as pd\n",
    "from torch.utils.data import Dataset, DataLoader\n",
    " \n",
    "use_cuda = torch.cuda.is_available()\n",
    "device = torch.device(\"cuda:0\" if use_cuda else \"cpu\")\n",
    "print(device)\n",
    " \n",
    " \n",
    "class CustomTextDataset(Dataset):\n",
    "    def __init__(self, text, labels):\n",
    "        self.labels = labels\n",
    "        self.text = text\n",
    "        \n",
    "    def __len__(self):\n",
    "            return len(self.labels)\n",
    "        \n",
    "    def __getitem__(self, idx):\n",
    "            label = self.labels[idx]\n",
    "            text = self.text[idx]\n",
    "            sample = {\"Text\": text, \"Class\": label}\n",
    "            return sample"
   ]
  },
  {
   "cell_type": "code",
   "execution_count": 16,
   "metadata": {},
   "outputs": [],
   "source": [
    "import pandas as pd\n",
    "\n",
    "# text = ['Happy', 'Amazing', 'Sad', 'Unhapy', 'Glum']\n",
    "# labels = ['Positive', 'Positive', 'Negative', 'Negative', 'Negative']\n",
    "\n",
    "text_labels_df = pd.DataFrame({'Text': text_list, 'Labels': label_list})\n",
    "\n",
    "TD = CustomTextDataset(text_labels_df['Text'],\n",
    "                       text_labels_df['Labels'])"
   ]
  },
  {
   "cell_type": "code",
   "execution_count": 17,
   "metadata": {},
   "outputs": [
    {
     "name": "stdout",
     "output_type": "stream",
     "text": [
      "\n",
      "First iteration of data set:  {'Text': \"\\n977146916\\nHLGMC\\n2878891\\n022690\\n01/27/1997 12:00:00 AM\\nCARCINOMA OF THE COLON .\\nUnsigned\\nDIS\\nReport Status :\\nUnsigned\\nPlease do not go above this box important format codes are contained .\\nDISCHARGE SUMMARY\\nARF32 FA\\nDISCHARGE SUMMARY NAME :\\nGIRRESNET , DIEDREO A\\nUNIT NUMBER :\\n075-71-01\\nADMISSION DATE :\\n01/27/1997\\nDISCHARGE DATE :\\n01/31/1997\\nPRINCIPAL DIAGNOSIS :\\nCarcinoma of the colon .\\nASSOCIATED DIAGNOSIS :\\nUrinary tract infection , and cirrhosis of the liver .\\nHISTORY OF PRESENT ILLNESS :\\nThe patient is an 80-year-old male , who had a history of colon cancer in the past , resected approximately ten years prior to admission , history of heavy alcohol use , who presented with a two week history of poor PO intake , weight loss , and was noted to have acute on chronic Hepatitis by chemistries and question of pyelonephritis .\\nHe lived alone but was driven to the hospital by his son because of reported worsening and general care and deconditioning .\\nEmergency Department course ; he was evaluated in the emergency room , found to be severely cachectic and jaundiced .\\nHe was given a liter of normal saline , along with thiamine , folate .\\nAn abdominal ultrasound was performed showing no stones .\\nChest x-ray revealed clear lungs and then he was admitted to Team C for management .\\nPAST MEDICAL HISTORY :\\nCancer , ten years prior to admission , status post resection .\\nMEDICATIONS ON ADMISSION :\\nFolic acid .\\nALLERGIES :\\nNone .\\nFAMILY HISTORY :\\nNot obtained .\\nSOCIAL HISTORY :\\nLives in Merca .\\nDrinks ginger brandy to excess , pipe and cigar smoker for many years .\\nPHYSICAL EXAMINATION :\\nIn general was a cachectic , jaundiced man .\\nbloodpressure :\\n124/60 , 97.4 , 84 , 22 for vital signs .\\nhead , eyes , ears , nose and throat :\\nnotable for abscess ulcers on the lower gums .\\nHe was edentulous .\\nNeck was supple , lungs were clear except for some scattered mild crackles .\\nCardiac :\\ntachycardic with a II / VI systolic ejection murmur .\\nBelly was tender in the right upper quadrant .\\nLiver edge , thickened abdominal wall was palpable .\\nNo inguinal nodes .\\nRectal was guaiac negative .\\nOn mental status exam , he was somnolent but arousable .\\nOriented to name , year , and hospital .\\nSkin was jaundiced .\\nLABORATORY DATA :\\nNotable for a BUN and creatinine 14 and 1.8 , phosphorous of .5 , magnesium 1.2 , albumin 2.1 .\\nelevated liver function tests , bilirubin of 14 direct , 17 total .\\nuric acid 11.4 , alkaline phosphatase 173 , serum glutamic oxaloacetic transaminase 309 , amylase 388 .\\nHis urinalysis showed 10-20 granular casts and 10-20 white blood cells , 3-5 red blood cells , 5-10 whites , 3-5 white blood cells cast .\\nThe white blood cell was 8.5 , hematocrit 34 .\\nplatelet count 74 .\\n5% bands on differential .\\nprothrombin time 14.9 , partial thromboplastin time 35 .\\nHOSPITAL COURSE AND TREATMENT :\\nThe patient was admitted to the Staviewordna University Of Medical Center .\\nHis mental status proceeded to decline as he became more sleepy and less arousable and confused .\\nHis Hepatitis worsened , liver failure progressed with his coagulopathy worsening .\\nHis renal status also decreased with a drop in urine output , became more shortness of breath as he developed some pulmonary edema .\\nA head computerized tomography scan was planned to evaluate his change in mental status , but after an extensive discussion with the son , who felt that he and other family members wanted to maximize the patient 's comforts and avoid heroic measures in the event of further deterioration , plans were made to make the patient as comfortable as possible .\\nHe was continued on antibiotics , and oxygen , and morphine , and small amounts of Dopamine , and at 4 AM on January 31 , was pronounced dead .\\n_________________________ AJO C. CUCHKOTE , M.D.\\nTR :\\ntfv\\nDD :\\n09/08/1997\\nTD :\\n10/13/1997 3:47\\nPcc :\\nAZEL USANNE WALL , M.D.\\n[ report_end ]\\n\", 'Class': 'CURRENT SMOKER'} \n",
      "\n",
      "Length of data set:  398 \n",
      "\n"
     ]
    }
   ],
   "source": [
    "# Display text and label.\n",
    "print('\\nFirst iteration of data set: ', next(iter(TD)), '\\n')\n",
    "# Print how many items are in the data set\n",
    "print('Length of data set: ', len(TD), '\\n')\n",
    "# Print entire data set\n",
    "# print('Entire data set: ', list(DataLoader(TD)), '\\n')"
   ]
  },
  {
   "cell_type": "markdown",
   "metadata": {},
   "source": [
    "# Dataset pre-processing"
   ]
  },
  {
   "cell_type": "code",
   "execution_count": 18,
   "metadata": {},
   "outputs": [],
   "source": [
    "text_labels_df=text_labels_df[~text_labels_df.Labels.str.contains(\"UNKNOWN\")]"
   ]
  },
  {
   "cell_type": "code",
   "execution_count": 19,
   "metadata": {},
   "outputs": [
    {
     "data": {
      "text/html": [
       "<div>\n",
       "<style scoped>\n",
       "    .dataframe tbody tr th:only-of-type {\n",
       "        vertical-align: middle;\n",
       "    }\n",
       "\n",
       "    .dataframe tbody tr th {\n",
       "        vertical-align: top;\n",
       "    }\n",
       "\n",
       "    .dataframe thead th {\n",
       "        text-align: right;\n",
       "    }\n",
       "</style>\n",
       "<table border=\"1\" class=\"dataframe\">\n",
       "  <thead>\n",
       "    <tr style=\"text-align: right;\">\n",
       "      <th></th>\n",
       "      <th>Text</th>\n",
       "      <th>Labels</th>\n",
       "    </tr>\n",
       "  </thead>\n",
       "  <tbody>\n",
       "    <tr>\n",
       "      <th>17</th>\n",
       "      <td>\\n139964603\\nNVH\\n40876531\\n11/17/2003 12:00:0...</td>\n",
       "      <td>NON-SMOKER</td>\n",
       "    </tr>\n",
       "    <tr>\n",
       "      <th>18</th>\n",
       "      <td>\\n910458031\\nNVH\\n23238893\\n1/12/1991 12:00:00...</td>\n",
       "      <td>NON-SMOKER</td>\n",
       "    </tr>\n",
       "    <tr>\n",
       "      <th>19</th>\n",
       "      <td>\\n991509188\\nCTMC\\n51356028\\n369929\\n09/05/199...</td>\n",
       "      <td>NON-SMOKER</td>\n",
       "    </tr>\n",
       "    <tr>\n",
       "      <th>20</th>\n",
       "      <td>\\n320422564\\nCTMC\\n09300549\\n340424\\n06/16/199...</td>\n",
       "      <td>NON-SMOKER</td>\n",
       "    </tr>\n",
       "    <tr>\n",
       "      <th>21</th>\n",
       "      <td>\\n988183518\\nPUOMC\\n7961198\\n290757\\n137082\\n1...</td>\n",
       "      <td>NON-SMOKER</td>\n",
       "    </tr>\n",
       "  </tbody>\n",
       "</table>\n",
       "</div>"
      ],
      "text/plain": [
       "                                                 Text      Labels\n",
       "17  \\n139964603\\nNVH\\n40876531\\n11/17/2003 12:00:0...  NON-SMOKER\n",
       "18  \\n910458031\\nNVH\\n23238893\\n1/12/1991 12:00:00...  NON-SMOKER\n",
       "19  \\n991509188\\nCTMC\\n51356028\\n369929\\n09/05/199...  NON-SMOKER\n",
       "20  \\n320422564\\nCTMC\\n09300549\\n340424\\n06/16/199...  NON-SMOKER\n",
       "21  \\n988183518\\nPUOMC\\n7961198\\n290757\\n137082\\n1...  NON-SMOKER"
      ]
     },
     "execution_count": 19,
     "metadata": {},
     "output_type": "execute_result"
    }
   ],
   "source": [
    "text_labels_df_nonsmoker =text_labels_df[text_labels_df.Labels.str.contains(\"NON-SMOKER\")]\n",
    "text_labels_df_nonsmoker.head()"
   ]
  },
  {
   "cell_type": "code",
   "execution_count": 20,
   "metadata": {},
   "outputs": [
    {
     "name": "stderr",
     "output_type": "stream",
     "text": [
      "/ihome/yanshanwang/sos86/.local/lib/python3.8/site-packages/pandas/core/generic.py:5491: SettingWithCopyWarning: \n",
      "A value is trying to be set on a copy of a slice from a DataFrame.\n",
      "Try using .loc[row_indexer,col_indexer] = value instead\n",
      "\n",
      "See the caveats in the documentation: https://pandas.pydata.org/pandas-docs/stable/user_guide/indexing.html#returning-a-view-versus-a-copy\n",
      "  self[name] = value\n"
     ]
    },
    {
     "data": {
      "text/html": [
       "<div>\n",
       "<style scoped>\n",
       "    .dataframe tbody tr th:only-of-type {\n",
       "        vertical-align: middle;\n",
       "    }\n",
       "\n",
       "    .dataframe tbody tr th {\n",
       "        vertical-align: top;\n",
       "    }\n",
       "\n",
       "    .dataframe thead th {\n",
       "        text-align: right;\n",
       "    }\n",
       "</style>\n",
       "<table border=\"1\" class=\"dataframe\">\n",
       "  <thead>\n",
       "    <tr style=\"text-align: right;\">\n",
       "      <th></th>\n",
       "      <th>Text</th>\n",
       "      <th>Labels</th>\n",
       "    </tr>\n",
       "  </thead>\n",
       "  <tbody>\n",
       "    <tr>\n",
       "      <th>0</th>\n",
       "      <td>\\n977146916\\nHLGMC\\n2878891\\n022690\\n01/27/199...</td>\n",
       "      <td>SMOKER</td>\n",
       "    </tr>\n",
       "    <tr>\n",
       "      <th>1</th>\n",
       "      <td>\\n026738007\\nCMC\\n15319689\\n3/25/1998 12:00:00...</td>\n",
       "      <td>SMOKER</td>\n",
       "    </tr>\n",
       "    <tr>\n",
       "      <th>2</th>\n",
       "      <td>\\n071962960\\nBH\\n4236518\\n417454\\n12/10/2001 1...</td>\n",
       "      <td>SMOKER</td>\n",
       "    </tr>\n",
       "    <tr>\n",
       "      <th>3</th>\n",
       "      <td>\\n418520250\\nNVH\\n61562872\\n3/11/1995 12:00:00...</td>\n",
       "      <td>SMOKER</td>\n",
       "    </tr>\n",
       "    <tr>\n",
       "      <th>4</th>\n",
       "      <td>\\n301443520\\nCTMC\\n49020928\\n448922\\n1/11/1990...</td>\n",
       "      <td>SMOKER</td>\n",
       "    </tr>\n",
       "  </tbody>\n",
       "</table>\n",
       "</div>"
      ],
      "text/plain": [
       "                                                Text  Labels\n",
       "0  \\n977146916\\nHLGMC\\n2878891\\n022690\\n01/27/199...  SMOKER\n",
       "1  \\n026738007\\nCMC\\n15319689\\n3/25/1998 12:00:00...  SMOKER\n",
       "2  \\n071962960\\nBH\\n4236518\\n417454\\n12/10/2001 1...  SMOKER\n",
       "3  \\n418520250\\nNVH\\n61562872\\n3/11/1995 12:00:00...  SMOKER\n",
       "4  \\n301443520\\nCTMC\\n49020928\\n448922\\n1/11/1990...  SMOKER"
      ]
     },
     "execution_count": 20,
     "metadata": {},
     "output_type": "execute_result"
    }
   ],
   "source": [
    "text_labels_df_smoker =text_labels_df[~text_labels_df.Labels.str.contains(\"NON-SMOKER\")]\n",
    "text_labels_df_smoker.Labels = \"SMOKER\"\n",
    "text_labels_df_smoker.head()"
   ]
  },
  {
   "cell_type": "code",
   "execution_count": 21,
   "metadata": {},
   "outputs": [
    {
     "data": {
      "text/plain": [
       "SMOKER    80\n",
       "Name: Labels, dtype: int64"
      ]
     },
     "execution_count": 21,
     "metadata": {},
     "output_type": "execute_result"
    }
   ],
   "source": [
    "text_labels_df_smoker.Labels.value_counts()"
   ]
  },
  {
   "cell_type": "code",
   "execution_count": 22,
   "metadata": {},
   "outputs": [],
   "source": [
    "df = text_labels_df_smoker.append(text_labels_df_nonsmoker, ignore_index=True)"
   ]
  },
  {
   "cell_type": "code",
   "execution_count": 23,
   "metadata": {},
   "outputs": [
    {
     "data": {
      "text/plain": [
       "SMOKER        80\n",
       "NON-SMOKER    66\n",
       "Name: Labels, dtype: int64"
      ]
     },
     "execution_count": 23,
     "metadata": {},
     "output_type": "execute_result"
    }
   ],
   "source": [
    "df.Labels.value_counts()"
   ]
  },
  {
   "cell_type": "code",
   "execution_count": 24,
   "metadata": {},
   "outputs": [
    {
     "data": {
      "text/plain": [
       "str"
      ]
     },
     "execution_count": 24,
     "metadata": {},
     "output_type": "execute_result"
    }
   ],
   "source": [
    "x_test=df.Text.to_list()\n",
    "y_test=df.Labels.to_list()\n",
    "x_test[1].__class__"
   ]
  },
  {
   "cell_type": "markdown",
   "metadata": {
    "id": "h40NMlRG5qWE"
   },
   "source": [
    "# BERT\n",
    "OpenPrompt"
   ]
  },
  {
   "cell_type": "code",
   "execution_count": 25,
   "metadata": {
    "id": "rHra-taOa7_R"
   },
   "outputs": [],
   "source": [
    "import openprompt.plms as plms\n",
    "from openprompt.plms.mlm import MLMTokenizerWrapper\n",
    "from transformers import BertConfig, BertForMaskedLM, BertTokenizer"
   ]
  },
  {
   "cell_type": "code",
   "execution_count": 26,
   "metadata": {
    "id": "OZWrokM5cF8I"
   },
   "outputs": [],
   "source": [
    "plms._MODEL_CLASSES['bert'] = plms.ModelClass(**{\n",
    "    'config': BertConfig,\n",
    "    'tokenizer': BertTokenizer,\n",
    "    'model':BertForMaskedLM,\n",
    "    'wrapper': MLMTokenizerWrapper,\n",
    "})"
   ]
  },
  {
   "cell_type": "code",
   "execution_count": 27,
   "metadata": {
    "id": "gsxMMn8pdQx2"
   },
   "outputs": [
    {
     "data": {
      "text/plain": [
       "{'bert': ModelClass(config=<class 'transformers.models.bert.configuration_bert.BertConfig'>, tokenizer=<class 'transformers.models.bert.tokenization_bert.BertTokenizer'>, model=<class 'transformers.models.bert.modeling_bert.BertForMaskedLM'>, wrapper=<class 'openprompt.plms.mlm.MLMTokenizerWrapper'>),\n",
       " 'roberta': ModelClass(config=<class 'transformers.models.roberta.configuration_roberta.RobertaConfig'>, tokenizer=<class 'transformers.models.roberta.tokenization_roberta.RobertaTokenizer'>, model=<class 'transformers.models.roberta.modeling_roberta.RobertaForMaskedLM'>, wrapper=<class 'openprompt.plms.mlm.MLMTokenizerWrapper'>),\n",
       " 'albert': ModelClass(config=<class 'transformers.models.albert.configuration_albert.AlbertConfig'>, tokenizer=<class 'transformers.models.albert.tokenization_albert.AlbertTokenizer'>, model=<class 'transformers.models.albert.modeling_albert.AlbertForMaskedLM'>, wrapper=<class 'openprompt.plms.mlm.MLMTokenizerWrapper'>),\n",
       " 'gpt': ModelClass(config=<class 'transformers.models.openai.configuration_openai.OpenAIGPTConfig'>, tokenizer=<class 'transformers.models.openai.tokenization_openai.OpenAIGPTTokenizer'>, model=<class 'transformers.models.openai.modeling_openai.OpenAIGPTLMHeadModel'>, wrapper=<class 'openprompt.plms.lm.LMTokenizerWrapper'>),\n",
       " 'gpt2': ModelClass(config=<class 'transformers.models.gpt2.configuration_gpt2.GPT2Config'>, tokenizer=<class 'transformers.models.gpt2.tokenization_gpt2.GPT2Tokenizer'>, model=<class 'transformers.models.gpt2.modeling_gpt2.GPT2LMHeadModel'>, wrapper=<class 'openprompt.plms.lm.LMTokenizerWrapper'>),\n",
       " 't5': ModelClass(config=<class 'transformers.models.t5.configuration_t5.T5Config'>, tokenizer=<class 'transformers.models.t5.tokenization_t5.T5Tokenizer'>, model=<class 'transformers.models.t5.modeling_t5.T5ForConditionalGeneration'>, wrapper=<class 'openprompt.plms.seq2seq.T5TokenizerWrapper'>),\n",
       " 't5-lm': ModelClass(config=<class 'transformers.models.t5.configuration_t5.T5Config'>, tokenizer=<class 'transformers.models.t5.tokenization_t5.T5Tokenizer'>, model=<class 'transformers.models.t5.modeling_t5.T5ForConditionalGeneration'>, wrapper=<class 'openprompt.plms.seq2seq.T5LMTokenizerWrapper'>)}"
      ]
     },
     "execution_count": 27,
     "metadata": {},
     "output_type": "execute_result"
    }
   ],
   "source": [
    "plms._MODEL_CLASSES"
   ]
  },
  {
   "cell_type": "markdown",
   "metadata": {
    "id": "lqqf6NKRKVgI"
   },
   "source": [
    "# Step 1: Define a task\n",
    "|"
   ]
  },
  {
   "cell_type": "code",
   "execution_count": 28,
   "metadata": {
    "id": "YnhS5PiJJuPM"
   },
   "outputs": [],
   "source": [
    "\n",
    "def prompt_classification(text):\n",
    "    classes = [ \n",
    "        \"SMOKER\",\n",
    "        \"NON-SMOKER\",\n",
    "    ]\n",
    "#     print(text)\n",
    "\n",
    "    dataset = [ \n",
    "          InputExample(\n",
    "    #         guid = 0,\n",
    "            text_a =text\n",
    "#               \"Asthma affects lungs  and can be hard to diagnose. The signs of asthma can seem like the signs of COPD, pneumonia, bronchitis, pulmonary embolism, anxiety, and heart disease.\", #lung\n",
    "        ),\n",
    "    #     InputExample(\n",
    "    #         guid = 1,\n",
    "    #         text_a = \"COVID-19 is caused by a coronavirus called SARS-CoV-2\", #virus\n",
    "    #     ),\n",
    "    #     InputExample(\n",
    "    #         guid = 2,\n",
    "    #         text_a = \"When your brain is damaged, it can affect many different things, including your memory, your sensation, and even your personality. Brain disorders include any conditions or disabilities that affect your brain.\", #brain\n",
    "    #     ),\n",
    "    #     InputExample(\n",
    "    #         guid = 3,\n",
    "    #         text_a = \"Symptoms may appear 2-14 days after exposure to the virus\", #virus\n",
    "    #     ),\n",
    "#             InputExample(\n",
    "#     #         guid = 4,\n",
    "#             text_a = \"\"\"Neurodegenerative diseases cause your brain and nerves to deteriorate over time. They can change your personality and cause confusion. They can also destroy your brain’s tissue and nerves.\n",
    "\n",
    "#     Some brain diseases, such as Alzheimer’s disease, may develop as you age. \"\"\", #brain\n",
    "#         ),\n",
    "    ]\n",
    "\n",
    "\n",
    "#     plm, tokenizer, model_config, WrapperClass = load_plm_fn()\n",
    "\n",
    "\n",
    "    # template_text = '{\"placeholder\":\"text_a\"}: This effects {\"mask\"}'\n",
    "    template_text= 'A {\"mask\"} disorder :  {\"placeholder\": \"text_a\"}'\n",
    "\n",
    "    promptTemplate = ManualTemplate(\n",
    "        text = template_text,\n",
    "        tokenizer = tokenizer,\n",
    "    )\n",
    "\n",
    "    promptVerbalizer = ManualVerbalizer(\n",
    "        classes = classes,\n",
    "        label_words = {\n",
    "            \"SMOKER\": [\"smoke\", \"smoking\", \"tobacco\", \"lung\", \"chest\"],\n",
    "            \"NON-SMOKER\": [\"healthy\"] #\"healthy\", \n",
    "        },\n",
    "        tokenizer = tokenizer,\n",
    "    )\n",
    "\n",
    "    promptModel = PromptForClassification(\n",
    "        template = promptTemplate,\n",
    "        plm = plm,\n",
    "        verbalizer = promptVerbalizer\n",
    "    )\n",
    "\n",
    "\n",
    "    data_loader = PromptDataLoader(\n",
    "        dataset = dataset,\n",
    "        tokenizer = tokenizer, \n",
    "        template = promptTemplate, \n",
    "        tokenizer_wrapper_class=WrapperClass,\n",
    "        max_seq_length=256, decoder_max_length=3, \n",
    "        batch_size=1,shuffle=False, teacher_forcing=False, predict_eos_token=False,\n",
    "        truncate_method=\"head\"\n",
    "    )\n",
    "\n",
    "    promptModel.eval()\n",
    "    with torch.no_grad():\n",
    "        for batch in data_loader:\n",
    "            logits = promptModel(batch)\n",
    "    #         print(logits)\n",
    "            preds = torch.argmax(logits, dim = -1)\n",
    "#             print(classes[preds])\n",
    "            \n",
    "    return classes[preds]\n",
    "\n",
    "\n"
   ]
  },
  {
   "cell_type": "code",
   "execution_count": 29,
   "metadata": {},
   "outputs": [
    {
     "name": "stderr",
     "output_type": "stream",
     "text": [
      "Some weights of the model checkpoint at bert-base-uncased were not used when initializing BertForMaskedLM: ['cls.seq_relationship.bias', 'cls.seq_relationship.weight']\n",
      "- This IS expected if you are initializing BertForMaskedLM from the checkpoint of a model trained on another task or with another architecture (e.g. initializing a BertForSequenceClassification model from a BertForPreTraining model).\n",
      "- This IS NOT expected if you are initializing BertForMaskedLM from the checkpoint of a model that you expect to be exactly identical (initializing a BertForSequenceClassification model from a BertForSequenceClassification model).\n"
     ]
    }
   ],
   "source": [
    "#if __name__ == \"__main__\":\n",
    "    \n",
    "#     st.title(\"HealthPrompt: Classifying clinical texts\")\n",
    "#     st.write(\"Upload Clinical text, Classify it..\")\n",
    "\n",
    "#     @st.cache(allow_output_mutation=True)\n",
    "def load_plm_fn():\n",
    "        plm, tokenizer, model_config, WrapperClass = load_plm(\"bert\", \"bert-base-uncased\")\n",
    "#         plm, tokenizer, model_config, WrapperClass = load_plm(\"bert\", \"emilyalsentzer/Bio_ClinicalBERT\")\n",
    "#         plm, tokenizer, model_config, WrapperClass = load_plm(\"bert\", \"mrm8488/bioclinicalBERT-finetuned-covid-papers\")\n",
    "        return plm, tokenizer, model_config, WrapperClass\n",
    "    \n",
    "#     with st.spinner(\"Loading PLM into memory...\"):\n",
    "plm, tokenizer, model_config, WrapperClass = load_plm_fn()\n",
    "        \n",
    "#     text = st.text_input('Enter the clinical text here: ')\n",
    "        \n",
    "#     if text:\n",
    "#         st.write(\"Response: \")\n",
    "#         with st.spinner(\"Searching for classes..\"):\n",
    "#             res=prompt_classification(text)\n",
    "#             st.write(\"Class : {} - disease\".format(res))\n",
    "#         st.write(\"\")\n",
    "\n",
    "# res=prompt_classification(text)"
   ]
  },
  {
   "cell_type": "code",
   "execution_count": 30,
   "metadata": {},
   "outputs": [
    {
     "name": "stderr",
     "output_type": "stream",
     "text": [
      "tokenizing: 0it [00:00, ?it/s]Token indices sequence length is longer than the specified maximum sequence length for this model (961 > 512). Running this sequence through the model will result in indexing errors\n",
      "tokenizing: 1it [00:00, 61.08it/s]\n",
      "tokenizing: 1it [00:00, 46.24it/s]\n",
      "tokenizing: 1it [00:00, 33.35it/s]\n",
      "tokenizing: 1it [00:00, 28.12it/s]\n",
      "tokenizing: 1it [00:00, 81.70it/s]\n",
      "tokenizing: 1it [00:00, 48.54it/s]\n",
      "tokenizing: 1it [00:00, 73.16it/s]\n",
      "tokenizing: 1it [00:00, 49.50it/s]\n",
      "tokenizing: 1it [00:00, 53.84it/s]\n",
      "tokenizing: 1it [00:00, 52.80it/s]\n",
      "tokenizing: 1it [00:00, 78.01it/s]\n",
      "tokenizing: 1it [00:00, 27.52it/s]\n",
      "tokenizing: 1it [00:00, 28.18it/s]\n",
      "tokenizing: 1it [00:00, 34.77it/s]\n",
      "tokenizing: 1it [00:00, 48.35it/s]\n",
      "tokenizing: 1it [00:00, 36.08it/s]\n",
      "tokenizing: 1it [00:00, 109.63it/s]\n",
      "tokenizing: 1it [00:00, 31.05it/s]\n",
      "tokenizing: 1it [00:00, 38.62it/s]\n",
      "tokenizing: 1it [00:00, 53.26it/s]\n",
      "tokenizing: 1it [00:00, 88.22it/s]\n",
      "tokenizing: 1it [00:00, 34.66it/s]\n",
      "tokenizing: 1it [00:00, 144.76it/s]\n",
      "tokenizing: 1it [00:00, 53.58it/s]\n",
      "tokenizing: 1it [00:00, 47.44it/s]\n",
      "tokenizing: 1it [00:00, 25.40it/s]\n",
      "tokenizing: 1it [00:00, 24.19it/s]\n",
      "tokenizing: 1it [00:00, 27.06it/s]\n",
      "tokenizing: 1it [00:00, 47.96it/s]\n",
      "tokenizing: 1it [00:00, 56.79it/s]\n",
      "tokenizing: 1it [00:00, 40.33it/s]\n",
      "tokenizing: 1it [00:00, 44.57it/s]\n",
      "tokenizing: 1it [00:00, 32.60it/s]\n",
      "tokenizing: 1it [00:00, 57.02it/s]\n",
      "tokenizing: 1it [00:00, 41.59it/s]\n",
      "tokenizing: 1it [00:00, 60.20it/s]\n",
      "tokenizing: 1it [00:00, 45.72it/s]\n",
      "tokenizing: 1it [00:00, 48.97it/s]\n",
      "tokenizing: 1it [00:00, 70.22it/s]\n",
      "tokenizing: 1it [00:00, 36.54it/s]\n",
      "tokenizing: 1it [00:00, 157.49it/s]\n",
      "tokenizing: 1it [00:00, 36.82it/s]\n",
      "tokenizing: 1it [00:00, 87.10it/s]\n",
      "tokenizing: 1it [00:00, 48.76it/s]\n",
      "tokenizing: 1it [00:00, 35.93it/s]\n",
      "tokenizing: 1it [00:00, 82.18it/s]\n",
      "tokenizing: 1it [00:00, 30.55it/s]\n",
      "tokenizing: 1it [00:00, 119.28it/s]\n",
      "tokenizing: 1it [00:00, 104.71it/s]\n",
      "tokenizing: 1it [00:00, 83.38it/s]\n",
      "tokenizing: 1it [00:00, 85.54it/s]\n",
      "tokenizing: 1it [00:00, 126.69it/s]\n",
      "tokenizing: 1it [00:00, 76.24it/s]\n",
      "tokenizing: 1it [00:00, 62.88it/s]\n",
      "tokenizing: 1it [00:00, 93.44it/s]\n",
      "tokenizing: 1it [00:00, 33.80it/s]\n",
      "tokenizing: 1it [00:00, 72.47it/s]\n",
      "tokenizing: 1it [00:00, 68.88it/s]\n",
      "tokenizing: 1it [00:00, 80.08it/s]\n",
      "tokenizing: 1it [00:00, 28.51it/s]\n",
      "tokenizing: 1it [00:00, 144.86it/s]\n",
      "tokenizing: 1it [00:00, 44.06it/s]\n",
      "tokenizing: 1it [00:00, 99.84it/s]\n",
      "tokenizing: 1it [00:00, 34.91it/s]\n",
      "tokenizing: 1it [00:00, 40.34it/s]\n",
      "tokenizing: 1it [00:00, 42.41it/s]\n",
      "tokenizing: 1it [00:00, 50.42it/s]\n",
      "tokenizing: 1it [00:00, 56.06it/s]\n",
      "tokenizing: 1it [00:00, 64.29it/s]\n",
      "tokenizing: 1it [00:00, 41.35it/s]\n",
      "tokenizing: 1it [00:00, 56.66it/s]\n",
      "tokenizing: 1it [00:00, 74.74it/s]\n",
      "tokenizing: 1it [00:00, 59.95it/s]\n",
      "tokenizing: 1it [00:00, 81.98it/s]\n",
      "tokenizing: 1it [00:00, 35.79it/s]\n",
      "tokenizing: 1it [00:00, 38.08it/s]\n",
      "tokenizing: 1it [00:00, 40.83it/s]\n",
      "tokenizing: 1it [00:00, 72.41it/s]\n",
      "tokenizing: 1it [00:00, 46.48it/s]\n",
      "tokenizing: 1it [00:00, 86.37it/s]\n",
      "tokenizing: 1it [00:00, 35.77it/s]\n",
      "tokenizing: 1it [00:00, 30.02it/s]\n",
      "tokenizing: 1it [00:00, 40.47it/s]\n",
      "tokenizing: 1it [00:00, 80.35it/s]\n",
      "tokenizing: 1it [00:00, 35.49it/s]\n",
      "tokenizing: 1it [00:00, 29.73it/s]\n",
      "tokenizing: 1it [00:00, 26.05it/s]\n",
      "tokenizing: 1it [00:00, 82.30it/s]\n",
      "tokenizing: 1it [00:00, 74.26it/s]\n",
      "tokenizing: 1it [00:00, 81.05it/s]\n",
      "tokenizing: 1it [00:00, 48.27it/s]\n",
      "tokenizing: 1it [00:00, 39.79it/s]\n",
      "tokenizing: 1it [00:00, 28.25it/s]\n",
      "tokenizing: 1it [00:00, 27.50it/s]\n",
      "tokenizing: 1it [00:00, 44.93it/s]\n",
      "tokenizing: 1it [00:00, 58.13it/s]\n",
      "tokenizing: 1it [00:00, 22.70it/s]\n",
      "tokenizing: 1it [00:00, 68.54it/s]\n",
      "tokenizing: 1it [00:00, 41.68it/s]\n",
      "tokenizing: 1it [00:00, 53.39it/s]\n",
      "tokenizing: 1it [00:00, 25.88it/s]\n",
      "tokenizing: 1it [00:00, 45.87it/s]\n",
      "tokenizing: 1it [00:00, 45.08it/s]\n",
      "tokenizing: 1it [00:00, 94.10it/s]\n",
      "tokenizing: 1it [00:00, 26.33it/s]\n",
      "tokenizing: 1it [00:00, 76.36it/s]\n",
      "tokenizing: 1it [00:00, 39.21it/s]\n",
      "tokenizing: 1it [00:00, 31.20it/s]\n",
      "tokenizing: 1it [00:00, 35.29it/s]\n",
      "tokenizing: 1it [00:00, 38.82it/s]\n",
      "tokenizing: 1it [00:00, 45.76it/s]\n",
      "tokenizing: 1it [00:00, 33.24it/s]\n",
      "tokenizing: 1it [00:00, 33.43it/s]\n",
      "tokenizing: 1it [00:00, 47.65it/s]\n",
      "tokenizing: 1it [00:00, 69.02it/s]\n",
      "tokenizing: 1it [00:00, 30.14it/s]\n",
      "tokenizing: 1it [00:00, 55.10it/s]\n",
      "tokenizing: 1it [00:00, 27.68it/s]\n",
      "tokenizing: 1it [00:00, 54.86it/s]\n",
      "tokenizing: 1it [00:00, 22.11it/s]\n",
      "tokenizing: 1it [00:00, 35.79it/s]\n",
      "tokenizing: 1it [00:00, 40.02it/s]\n",
      "tokenizing: 1it [00:00, 20.39it/s]\n",
      "tokenizing: 1it [00:00, 24.96it/s]\n",
      "tokenizing: 1it [00:00, 37.08it/s]\n",
      "tokenizing: 1it [00:00, 123.61it/s]\n",
      "tokenizing: 1it [00:00, 70.75it/s]\n",
      "tokenizing: 1it [00:00, 98.48it/s]\n",
      "tokenizing: 1it [00:00, 92.48it/s]\n",
      "tokenizing: 1it [00:00, 83.71it/s]\n",
      "tokenizing: 1it [00:00, 65.24it/s]\n",
      "tokenizing: 1it [00:00, 43.98it/s]\n",
      "tokenizing: 1it [00:00, 85.72it/s]\n",
      "tokenizing: 1it [00:00, 75.40it/s]\n",
      "tokenizing: 1it [00:00, 62.83it/s]\n",
      "tokenizing: 1it [00:00, 51.78it/s]\n",
      "tokenizing: 1it [00:00, 42.80it/s]\n",
      "tokenizing: 1it [00:00, 56.29it/s]\n",
      "tokenizing: 1it [00:00, 28.94it/s]\n",
      "tokenizing: 1it [00:00, 39.71it/s]\n",
      "tokenizing: 1it [00:00, 80.08it/s]\n",
      "tokenizing: 1it [00:00, 33.80it/s]\n",
      "tokenizing: 1it [00:00, 71.93it/s]\n",
      "tokenizing: 1it [00:00, 95.40it/s]\n",
      "tokenizing: 1it [00:00, 33.75it/s]\n",
      "tokenizing: 1it [00:00, 64.48it/s]\n"
     ]
    },
    {
     "data": {
      "text/plain": [
       "146"
      ]
     },
     "execution_count": 30,
     "metadata": {},
     "output_type": "execute_result"
    }
   ],
   "source": [
    "y_pred=[]\n",
    "for x in x_test:\n",
    "    pred_label=prompt_classification(x)\n",
    "#     print(pred_label)\n",
    "    y_pred.append(pred_label)\n",
    "    \n",
    "y_pred.__len__()"
   ]
  },
  {
   "cell_type": "code",
   "execution_count": 31,
   "metadata": {
    "id": "YT4WwqpYK1Z0"
   },
   "outputs": [],
   "source": [
    "# # making zero-shot inference using pretrained MLM with prompt\n",
    "# import torch\n",
    "# promptModel.eval()\n",
    "# with torch.no_grad():\n",
    "#     for batch in data_loader:\n",
    "#         logits = promptModel(batch)\n",
    "#         print(logits)\n",
    "#         preds = torch.argmax(logits, dim = -1)\n",
    "        \n",
    "#         print(classes[preds])\n",
    "# # predictions would be 1, 0 for classes 'positive', 'negative'\n"
   ]
  },
  {
   "cell_type": "code",
   "execution_count": 34,
   "metadata": {
    "id": "RsY1V4xFQvIw"
   },
   "outputs": [
    {
     "name": "stdout",
     "output_type": "stream",
     "text": [
      "[[ 0 66]\n",
      " [ 0 80]]\n",
      "Classification accuracy is:  0.547945205479452\n"
     ]
    }
   ],
   "source": [
    "from sklearn.metrics import confusion_matrix\n",
    "import numpy as np\n",
    "confusion = confusion_matrix(y_test, y_pred)\n",
    "print(confusion)\n",
    "print(\"Classification accuracy is: \", (confusion[0][0] + confusion[1][1]) / np.sum(confusion))"
   ]
  },
  {
   "cell_type": "code",
   "execution_count": 35,
   "metadata": {},
   "outputs": [
    {
     "data": {
      "text/html": [
       "<div>\n",
       "<style scoped>\n",
       "    .dataframe tbody tr th:only-of-type {\n",
       "        vertical-align: middle;\n",
       "    }\n",
       "\n",
       "    .dataframe tbody tr th {\n",
       "        vertical-align: top;\n",
       "    }\n",
       "\n",
       "    .dataframe thead th {\n",
       "        text-align: right;\n",
       "    }\n",
       "</style>\n",
       "<table border=\"1\" class=\"dataframe\">\n",
       "  <thead>\n",
       "    <tr style=\"text-align: right;\">\n",
       "      <th></th>\n",
       "      <th>Text</th>\n",
       "      <th>Labels</th>\n",
       "      <th>Predicted</th>\n",
       "    </tr>\n",
       "  </thead>\n",
       "  <tbody>\n",
       "    <tr>\n",
       "      <th>0</th>\n",
       "      <td>\\n977146916\\nHLGMC\\n2878891\\n022690\\n01/27/199...</td>\n",
       "      <td>SMOKER</td>\n",
       "      <td>SMOKER</td>\n",
       "    </tr>\n",
       "    <tr>\n",
       "      <th>1</th>\n",
       "      <td>\\n026738007\\nCMC\\n15319689\\n3/25/1998 12:00:00...</td>\n",
       "      <td>SMOKER</td>\n",
       "      <td>SMOKER</td>\n",
       "    </tr>\n",
       "    <tr>\n",
       "      <th>2</th>\n",
       "      <td>\\n071962960\\nBH\\n4236518\\n417454\\n12/10/2001 1...</td>\n",
       "      <td>SMOKER</td>\n",
       "      <td>SMOKER</td>\n",
       "    </tr>\n",
       "    <tr>\n",
       "      <th>3</th>\n",
       "      <td>\\n418520250\\nNVH\\n61562872\\n3/11/1995 12:00:00...</td>\n",
       "      <td>SMOKER</td>\n",
       "      <td>SMOKER</td>\n",
       "    </tr>\n",
       "    <tr>\n",
       "      <th>4</th>\n",
       "      <td>\\n301443520\\nCTMC\\n49020928\\n448922\\n1/11/1990...</td>\n",
       "      <td>SMOKER</td>\n",
       "      <td>SMOKER</td>\n",
       "    </tr>\n",
       "  </tbody>\n",
       "</table>\n",
       "</div>"
      ],
      "text/plain": [
       "                                                Text  Labels Predicted\n",
       "0  \\n977146916\\nHLGMC\\n2878891\\n022690\\n01/27/199...  SMOKER    SMOKER\n",
       "1  \\n026738007\\nCMC\\n15319689\\n3/25/1998 12:00:00...  SMOKER    SMOKER\n",
       "2  \\n071962960\\nBH\\n4236518\\n417454\\n12/10/2001 1...  SMOKER    SMOKER\n",
       "3  \\n418520250\\nNVH\\n61562872\\n3/11/1995 12:00:00...  SMOKER    SMOKER\n",
       "4  \\n301443520\\nCTMC\\n49020928\\n448922\\n1/11/1990...  SMOKER    SMOKER"
      ]
     },
     "execution_count": 35,
     "metadata": {},
     "output_type": "execute_result"
    }
   ],
   "source": [
    "# DEBUGGING\n",
    "df_debug = pd.DataFrame({'Text': x_test, 'Labels': y_test, 'Predicted':y_pred})\n",
    "df_debug.head()"
   ]
  },
  {
   "cell_type": "code",
   "execution_count": 37,
   "metadata": {},
   "outputs": [
    {
     "data": {
      "text/plain": [
       "SMOKER    146\n",
       "Name: Predicted, dtype: int64"
      ]
     },
     "execution_count": 37,
     "metadata": {},
     "output_type": "execute_result"
    }
   ],
   "source": [
    "df_debug.Predicted.value_counts()"
   ]
  },
  {
   "cell_type": "code",
   "execution_count": null,
   "metadata": {},
   "outputs": [],
   "source": []
  },
  {
   "cell_type": "code",
   "execution_count": null,
   "metadata": {},
   "outputs": [],
   "source": []
  },
  {
   "cell_type": "code",
   "execution_count": null,
   "metadata": {},
   "outputs": [],
   "source": []
  }
 ],
 "metadata": {
  "colab": {
   "collapsed_sections": [],
   "name": "Openprompt-health example working.ipynb",
   "provenance": []
  },
  "kernelspec": {
   "display_name": "Python 3 (ipykernel)",
   "language": "python",
   "name": "python3"
  },
  "language_info": {
   "codemirror_mode": {
    "name": "ipython",
    "version": 3
   },
   "file_extension": ".py",
   "mimetype": "text/x-python",
   "name": "python",
   "nbconvert_exporter": "python",
   "pygments_lexer": "ipython3",
   "version": "3.8.5"
  }
 },
 "nbformat": 4,
 "nbformat_minor": 4
}
