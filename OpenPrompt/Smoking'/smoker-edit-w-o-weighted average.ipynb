{
 "cells": [
  {
   "cell_type": "code",
   "execution_count": 1,
   "metadata": {
    "id": "Bgm_jBuEbJb-"
   },
   "outputs": [],
   "source": [
    "!pip install -q openprompt==0.1.1 \\\n",
    "'torch>=1.9.0' \\\n",
    "'transformers>=4.10.0' \\\n",
    "sentencepiece==0.1.96 \\\n",
    "'scikit-learn>=0.24.2' \\\n",
    "'tqdm>=4.62.2' \\\n",
    "tensorboardX \\\n",
    "nltk \\\n",
    "yacs \\\n",
    "dill \\\n",
    "datasets \\\n",
    "rouge==1.0.0 \\\n",
    "scipy==1.4.1 \\\n",
    "fugashi \\\n",
    "ipadic \\\n",
    "unidic-lite"
   ]
  },
  {
   "cell_type": "code",
   "execution_count": 1,
   "metadata": {},
   "outputs": [],
   "source": [
    "# !pip install -q matplotlib\n",
    "!pip install -q plotly"
   ]
  },
  {
   "cell_type": "code",
   "execution_count": 108,
   "metadata": {},
   "outputs": [],
   "source": [
    "import openprompt.plms as plms\n",
    "from openprompt.plms.mlm import MLMTokenizerWrapper\n",
    "from transformers import BertConfig, BertForMaskedLM, BertTokenizer\n",
    "from openprompt.data_utils import InputExample\n",
    "from transformers import AutoTokenizer, AutoModel\n",
    "from openprompt.plms import load_plm\n",
    "from openprompt.prompts import ManualTemplate\n",
    "from openprompt.prompts import PtuningTemplate\n",
    "from openprompt.prompts import ManualVerbalizer\n",
    "from openprompt import PromptForClassification\n",
    "from openprompt import PromptDataLoader\n",
    "import torch\n",
    "\n"
   ]
  },
  {
   "cell_type": "code",
   "execution_count": 109,
   "metadata": {},
   "outputs": [],
   "source": [
    "import xml.etree.ElementTree as ET\n",
    "tree = ET.parse('./smokers_surrogate_train_all_version2.xml')\n",
    "root = tree.getroot()"
   ]
  },
  {
   "cell_type": "code",
   "execution_count": 110,
   "metadata": {},
   "outputs": [
    {
     "name": "stdout",
     "output_type": "stream",
     "text": [
      "RECORD {'ID': '641'}\n",
      "RECORD {'ID': '643'}\n",
      "RECORD {'ID': '681'}\n",
      "RECORD {'ID': '704'}\n",
      "RECORD {'ID': '757'}\n",
      "RECORD {'ID': '786'}\n",
      "RECORD {'ID': '872'}\n",
      "RECORD {'ID': '874'}\n",
      "RECORD {'ID': '535'}\n",
      "RECORD {'ID': '540'}\n"
     ]
    }
   ],
   "source": [
    "root.attrib\n",
    "root.tag\n",
    "counter=0\n",
    "for child in root:\n",
    "    if counter == 10:\n",
    "        break\n",
    "    print(child.tag, child.attrib)\n",
    "    counter +=1\n",
    "    "
   ]
  },
  {
   "cell_type": "code",
   "execution_count": 111,
   "metadata": {},
   "outputs": [
    {
     "name": "stdout",
     "output_type": "stream",
     "text": [
      "ROOT\n",
      "RECORD\n",
      "SMOKING\n",
      "TEXT\n",
      "RECORD\n",
      "SMOKING\n",
      "TEXT\n",
      "RECORD\n",
      "SMOKING\n",
      "TEXT\n"
     ]
    }
   ],
   "source": [
    "[elem.tag for elem in root.iter()]\n",
    "\n",
    "counter=0\n",
    "for elem in root.iter():\n",
    "    if counter==10:\n",
    "        break\n",
    "    print(elem.tag)\n",
    "    counter+=1"
   ]
  },
  {
   "cell_type": "code",
   "execution_count": 112,
   "metadata": {},
   "outputs": [
    {
     "name": "stdout",
     "output_type": "stream",
     "text": [
      "CURRENT SMOKER\n",
      "CURRENT SMOKER\n",
      "CURRENT SMOKER\n",
      "CURRENT SMOKER\n",
      "CURRENT SMOKER\n",
      "CURRENT SMOKER\n",
      "CURRENT SMOKER\n",
      "CURRENT SMOKER\n",
      "CURRENT SMOKER\n",
      "CURRENT SMOKER\n"
     ]
    }
   ],
   "source": [
    "counter=0\n",
    "for smoking in root.iter('SMOKING'):\n",
    "    if counter==10:\n",
    "        break\n",
    "    print(smoking.attrib.get('STATUS'))\n",
    "    counter +=1\n",
    "    \n",
    "# for movie in root.iter('SMOKING'):\n",
    "#     print(movie.attrib)"
   ]
  },
  {
   "cell_type": "code",
   "execution_count": 113,
   "metadata": {},
   "outputs": [
    {
     "name": "stdout",
     "output_type": "stream",
     "text": [
      "\n",
      "977146916\n",
      "HLGMC\n",
      "2878891\n",
      "022690\n",
      "01/27/1997 12:00:00 AM\n",
      "CARCINOMA OF THE COLON .\n",
      "Unsigned\n",
      "DIS\n",
      "Report Status :\n",
      "Unsigned\n",
      "Please do not go above this box important format codes are contained .\n",
      "DISCHARGE SUMMARY\n",
      "ARF32 FA\n",
      "DISCHARGE SUMMARY NAME :\n",
      "GIRRESNET , DIEDREO A\n",
      "UNIT NUMBER :\n",
      "075-71-01\n",
      "ADMISSION DATE :\n",
      "01/27/1997\n",
      "DISCHARGE DATE :\n",
      "01/31/1997\n",
      "PRINCIPAL DIAGNOSIS :\n",
      "Carcinoma of the colon .\n",
      "ASSOCIATED DIAGNOSIS :\n",
      "Urinary tract infection , and cirrhosis of the liver .\n",
      "HISTORY OF PRESENT ILLNESS :\n",
      "The patient is an 80-year-old male , who had a history of colon cancer in the past , resected approximately ten years prior to admission , history of heavy alcohol use , who presented with a two week history of poor PO intake , weight loss , and was noted to have acute on chronic Hepatitis by chemistries and question of pyelonephritis .\n",
      "He lived alone but was driven to the hospital by his son because of reported worsening and general care and deconditioning .\n",
      "Emergency Department course ; he was evaluated in the emergency room , found to be severely cachectic and jaundiced .\n",
      "He was given a liter of normal saline , along with thiamine , folate .\n",
      "An abdominal ultrasound was performed showing no stones .\n",
      "Chest x-ray revealed clear lungs and then he was admitted to Team C for management .\n",
      "PAST MEDICAL HISTORY :\n",
      "Cancer , ten years prior to admission , status post resection .\n",
      "MEDICATIONS ON ADMISSION :\n",
      "Folic acid .\n",
      "ALLERGIES :\n",
      "None .\n",
      "FAMILY HISTORY :\n",
      "Not obtained .\n",
      "SOCIAL HISTORY :\n",
      "Lives in Merca .\n",
      "Drinks ginger brandy to excess , pipe and cigar smoker for many years .\n",
      "PHYSICAL EXAMINATION :\n",
      "In general was a cachectic , jaundiced man .\n",
      "bloodpressure :\n",
      "124/60 , 97.4 , 84 , 22 for vital signs .\n",
      "head , eyes , ears , nose and throat :\n",
      "notable for abscess ulcers on the lower gums .\n",
      "He was edentulous .\n",
      "Neck was supple , lungs were clear except for some scattered mild crackles .\n",
      "Cardiac :\n",
      "tachycardic with a II / VI systolic ejection murmur .\n",
      "Belly was tender in the right upper quadrant .\n",
      "Liver edge , thickened abdominal wall was palpable .\n",
      "No inguinal nodes .\n",
      "Rectal was guaiac negative .\n",
      "On mental status exam , he was somnolent but arousable .\n",
      "Oriented to name , year , and hospital .\n",
      "Skin was jaundiced .\n",
      "LABORATORY DATA :\n",
      "Notable for a BUN and creatinine 14 and 1.8 , phosphorous of .5 , magnesium 1.2 , albumin 2.1 .\n",
      "elevated liver function tests , bilirubin of 14 direct , 17 total .\n",
      "uric acid 11.4 , alkaline phosphatase 173 , serum glutamic oxaloacetic transaminase 309 , amylase 388 .\n",
      "His urinalysis showed 10-20 granular casts and 10-20 white blood cells , 3-5 red blood cells , 5-10 whites , 3-5 white blood cells cast .\n",
      "The white blood cell was 8.5 , hematocrit 34 .\n",
      "platelet count 74 .\n",
      "5% bands on differential .\n",
      "prothrombin time 14.9 , partial thromboplastin time 35 .\n",
      "HOSPITAL COURSE AND TREATMENT :\n",
      "The patient was admitted to the Staviewordna University Of Medical Center .\n",
      "His mental status proceeded to decline as he became more sleepy and less arousable and confused .\n",
      "His Hepatitis worsened , liver failure progressed with his coagulopathy worsening .\n",
      "His renal status also decreased with a drop in urine output , became more shortness of breath as he developed some pulmonary edema .\n",
      "A head computerized tomography scan was planned to evaluate his change in mental status , but after an extensive discussion with the son , who felt that he and other family members wanted to maximize the patient 's comforts and avoid heroic measures in the event of further deterioration , plans were made to make the patient as comfortable as possible .\n",
      "He was continued on antibiotics , and oxygen , and morphine , and small amounts of Dopamine , and at 4 AM on January 31 , was pronounced dead .\n",
      "_________________________ AJO C. CUCHKOTE , M.D.\n",
      "TR :\n",
      "tfv\n",
      "DD :\n",
      "09/08/1997\n",
      "TD :\n",
      "10/13/1997 3:47\n",
      "Pcc :\n",
      "AZEL USANNE WALL , M.D.\n",
      "[ report_end ]\n",
      "\n"
     ]
    }
   ],
   "source": [
    "# for text in root.iter('TEXT'):\n",
    "#     print(text.text)\n",
    "    \n",
    "counter=0\n",
    "for text in root.iter('TEXT'):\n",
    "    if counter==1:\n",
    "        break\n",
    "    print(text.text)\n",
    "    counter +=1    "
   ]
  },
  {
   "cell_type": "code",
   "execution_count": 114,
   "metadata": {},
   "outputs": [],
   "source": [
    "counter=0\n",
    "for text in root.findall(\"./SMOKING/[@STATUS='CURRENT SMOKER']\"):\n",
    "    if counter==10:\n",
    "        break\n",
    "    print(text.attrib)\n",
    "    print(counter)\n",
    "    counter +=1    "
   ]
  },
  {
   "cell_type": "code",
   "execution_count": 115,
   "metadata": {},
   "outputs": [],
   "source": [
    "# doc=xee.fromstring('./smokers_surrogate_train_all_version2.xml')\n",
    "\n",
    "for tag in root.findall('SMOKING'):\n",
    "    if tag.attrib['STATUS']!='CURRENT SMOKER':\n",
    "#         root.remove(tag)\n",
    "        print(tag)\n",
    "        \n",
    "# print(ET.tostring(root))"
   ]
  },
  {
   "cell_type": "code",
   "execution_count": 116,
   "metadata": {},
   "outputs": [
    {
     "name": "stdout",
     "output_type": "stream",
     "text": [
      "641\n",
      "CURRENT SMOKER\n",
      "0\n",
      "643\n",
      "CURRENT SMOKER\n",
      "1\n"
     ]
    }
   ],
   "source": [
    "# node=root\n",
    "# if node.tag == \"SMOKING\":\n",
    "#         status = node.attrib.get(\"STATUS\")\n",
    "#         print(status)\n",
    "#         if status is not None:\n",
    "#             print(node.attrib.get(\"TEXT\"))\n",
    "import xml.etree.ElementTree as ET\n",
    "tree = ET.parse('./smokers_surrogate_train_all_version2.xml')\n",
    "root = tree.getroot()\n",
    "\n",
    "text_list=[]\n",
    "counter =0             \n",
    "for record in root.iter('RECORD'):\n",
    "    if counter == 2:\n",
    "        break\n",
    "    print(record.attrib.get('ID'))\n",
    "    smoking = record.find('SMOKING')\n",
    "    print(smoking.attrib.get('STATUS'))\n",
    "    if smoking.attrib.get('STATUS')==\"CURRENT SMOKER\":\n",
    "        text=record.find('TEXT')\n",
    "        text_list.append(text)\n",
    "        print(counter)\n",
    "    counter +=1"
   ]
  },
  {
   "cell_type": "code",
   "execution_count": 117,
   "metadata": {},
   "outputs": [],
   "source": [
    "import xml.etree.ElementTree as ET\n",
    "tree = ET.parse('./smokers_surrogate_train_all_version2.xml')\n",
    "root = tree.getroot()\n",
    "\n",
    "text_list=[]\n",
    "label_list=[]\n",
    "counter =0             \n",
    "for record in root.iter('RECORD'):\n",
    "#     if counter:\n",
    "#         break\n",
    "#     print(record.attrib.get('ID'))\n",
    "    smoking = record.find('SMOKING')\n",
    "    label_list.append(smoking.attrib.get('STATUS'))\n",
    "#     print(smoking.attrib.get('STATUS'))\n",
    "    text=record.find('TEXT')\n",
    "    text_list.append(text.text)\n",
    "#     print(text_list.__len__())\n",
    "#     print(counter)\n",
    "    counter +=1"
   ]
  },
  {
   "cell_type": "code",
   "execution_count": 118,
   "metadata": {},
   "outputs": [
    {
     "name": "stdout",
     "output_type": "stream",
     "text": [
      "398\n",
      "398\n"
     ]
    }
   ],
   "source": [
    "print(text_list.__len__())\n",
    "print(label_list.__len__())"
   ]
  },
  {
   "cell_type": "code",
   "execution_count": 119,
   "metadata": {},
   "outputs": [
    {
     "data": {
      "text/plain": [
       "list"
      ]
     },
     "execution_count": 119,
     "metadata": {},
     "output_type": "execute_result"
    }
   ],
   "source": [
    "text_list.__class__\n",
    "label_list.__class__"
   ]
  },
  {
   "cell_type": "code",
   "execution_count": 120,
   "metadata": {},
   "outputs": [
    {
     "data": {
      "text/plain": [
       "'\\n026738007\\nCMC\\n15319689\\n3/25/1998 12:00:00 AM\\nMEDIASTINAL ADENOPATHY RT. LUNG MASS\\nSigned\\nDIS\\nAdmission Date :\\n03/25/1998\\nReport Status :\\nSigned\\nDischarge Date :\\n04/08/1998\\nPRINCIPAL DIAGNOSIS :\\nRight lung choriocarcinoma .\\nOTHER DIAGNOSIS :\\nPericardial effusion .\\nHISTORY OF PRESENT ILLNESS :\\nThe patient was in her usual state of health , carrying the diagnosis of right lung chorio carcinoma , when she began to develop dyspnea and on 03/24/98 an echocardiogram revealed a pericardial effusion and possible tamponade clinically .\\nThe patient was first diagnosed in 10/97 , when she presented with the symptoms of menorrhagia .\\nShe had elevated beta HCG levels , no tubal pregnancy was suspected .\\nAright oophorectomy was performed .\\nIn 11/97 , chest x-ray revealed an abnormality in the right upper lobe .\\nA lung biopsy was performed , revealing chorio carcinoma pathologically .\\nAt the time , she also had symptoms of hemoptysis .\\nOn November 26 , a chest CT revealed multiple bilateral cysts and bilateral ill-defined nodules , a right upper lobe mass , and extensive lymphadenopathy in the peritracheal region .\\nThere was also some distal tracheal compression .\\nShe received XRT and chemotherapy with carboplatin and Taxol .\\nA head CT was also performed , revealing frontal lobe lesions consistent with cranial metastasis .\\nVIP therapy and cranial XRT were performed .\\nOn 03/24/98 , an echocardiogram revealed a pericardial effusion .\\nThe patient had presented with shortness of breath .\\nThe patient was admitted to Thoracic Surgery with symptoms of dyspnea and a pericardial effusion revealed on echocardiogram .\\nPAST MEDICAL HISTORY :\\n1. Schizoaffective disorder .\\n2. Status post right oophorectomy .\\n3. History of seizure disorder .\\nALLERGIES :\\n1. Penicillin causes a rash .\\n2. Macrodantin causes joint stiffness .\\n3. Erythromycin causes hallucinations .\\n4. Talwin causes hallucinations .\\n5. Percocet causes hallucinations .\\nMEDICATIONS :\\n1. Clonidine .\\n2. Trazodone 100 mg p.o. q h.s.\\n3. Tegretol 200 mg p.o. t.i.d.\\n4. Klonopin 1 mg p.o. t.i.d.\\nFAMILY HISTORY :\\nThe patient reports no family history of cancer .\\nThe mother died of asthma .\\nThe father of died of coronary artery disease .\\nSOCIAL HISTORY :\\nThe patient lives in Jer by herself .\\nHowever , her boyfriend lives next-door .\\nShe reports having no siblings .\\nHABITS :\\nThe patient has a 20 pack-year smoking history .\\nShe reports having just quit prior to admission .\\nShe denies any alcohol or street drug use .\\nPHYSICAL EXAMINATION :\\nVITAL SIGNS :\\nTemperature 97.5 , heart rate 90 , blood pressure 104/80 , respiratory rate 18 .\\nOxygen saturation is 94% on room air .\\nHEENT :\\nPupils equal , round and reactive to light .\\nNormal mucosa .\\nNECK :\\nSupple .\\nLUNGS :\\nClear to auscultation bilaterally .\\nNo crackles .\\nCARDIOVASCULAR :\\nRegular rate and rhythm , no murmurs .\\nABDOMEN :\\nPositive bowel sounds , soft .\\nEXTREMITIES :\\nNo edema , 2+ pulses bilaterally .\\nDIAGNOSTIC STUDIES :\\nMetabolic 20 panel was unremarkable .\\nCBC was unremarkable .\\nEKG revealed normal sinus rhythm with no ST changes .\\nHOSPITAL COURSE :\\nThe patient remained on the Thoracic Surgery service for the first three days of hospitalization .\\nDuring that time , on 03/26/98 a pericardial centesis was performed and 550 cc of bloody fluid were removed .\\nAmediastinoscopy was also performed at that time .\\nThe patient had some improvement in her symptoms .\\nHowever , on 03/27/98 she had increasing dyspnea , pleuritic chest pain , and mild hemoptysis .\\nApulmonary embolus was suspected .\\nHowever , a VQ scan was performed , which revealed intermediate probability .\\nThe defects were in the right upper lobe and this was felt to be unlikely to be consistent with a pulmonary embolus .\\nOn 03/28/98 another pericardial centesis was performed , withdrawing 350-400 cc fluid .\\nOn 03/29/98 apericardial window was performed , revealing a non malignant effusion .\\nThe patient was transferred over to the Hematology-Oncology service , where her course was relatively uneventful .\\nOn 04/03/98 she began receiving salvage chemo therapy with Cisplatin and Velban .\\nVelban was continued for two days , while Cisplatin was continued for five days , until 04/07/98 .\\nThe patient tolerated chemotherapy very well , with no side effects .\\nDISPOSITION :\\nThe patient will be discharged to home to begin G-CSF therapy .\\nFollow-up will be with Dr. Shock , her primary hematologist-oncologist , on 04/13/98 .\\nDISCHARGE MEDICATIONS :\\n1. Tegretol 200 mg p.o. t.i.d.\\n2. Klonopin 1 mg p.o. b.i.d.\\n3. Colace 100 mg p.o. b.i.d.\\n4. Nicoderm 21 mg q d. topical .\\n5. Zofran 24 mg p.o. q d. x 3 days .\\n6. Mellaril 100 mg p.o. q h.s.\\n7. Trazodone 150 mg p.o. q h.s.\\n8. Compazine 10 mg p.o. q 6 h. p.r.n. for nausea .\\n9. G-CSF 300 microgram subq. q d.\\nDictated By :\\nBIE OODSHUFFPREHE , M.D. VT9\\nAttending :\\nRASHANEMAR S. LANCEDUHE , M.D. SQ2 SM439/6058\\nBatch :\\n25796\\nIndex No. LWART6 IO\\nD :\\n04/08/98\\nT :\\n04/09/98\\nCC :\\n1. DR. SHOCK\\n2. RASHANEMAR S. LANCEDUHE , M.D. PJ9\\n[ report_end ]\\n'"
      ]
     },
     "execution_count": 120,
     "metadata": {},
     "output_type": "execute_result"
    }
   ],
   "source": [
    "text_list[1]"
   ]
  },
  {
   "cell_type": "code",
   "execution_count": null,
   "metadata": {},
   "outputs": [],
   "source": []
  },
  {
   "cell_type": "markdown",
   "metadata": {},
   "source": [
    "# Datset"
   ]
  },
  {
   "cell_type": "code",
   "execution_count": 185,
   "metadata": {},
   "outputs": [
    {
     "name": "stdout",
     "output_type": "stream",
     "text": [
      "cuda:0\n"
     ]
    }
   ],
   "source": [
    "import torch\n",
    "from torch.utils.data.dataset import Dataset\n",
    "import pandas as pd\n",
    "from torch.utils.data import Dataset, DataLoader\n",
    " \n",
    "use_cuda = torch.cuda.is_available()\n",
    "device = torch.device(\"cuda:0\" if use_cuda else \"cpu\")\n",
    "print(device)\n",
    " \n",
    " \n",
    "class CustomTextDataset(Dataset):\n",
    "    def __init__(self, text, labels):\n",
    "        self.labels = labels\n",
    "        self.text = text\n",
    "        \n",
    "    def __len__(self):\n",
    "            return len(self.labels)\n",
    "        \n",
    "    def __getitem__(self, idx):\n",
    "            label = self.labels[idx]\n",
    "            text = self.text[idx]\n",
    "            sample = {\"Text\": text, \"Class\": label}\n",
    "            return sample"
   ]
  },
  {
   "cell_type": "code",
   "execution_count": 186,
   "metadata": {},
   "outputs": [],
   "source": [
    "import pandas as pd\n",
    "\n",
    "# text = ['Happy', 'Amazing', 'Sad', 'Unhapy', 'Glum']\n",
    "# labels = ['Positive', 'Positive', 'Negative', 'Negative', 'Negative']\n",
    "\n",
    "text_labels_df = pd.DataFrame({'Text': text_list, 'Labels': label_list})\n",
    "\n",
    "TD = CustomTextDataset(text_labels_df['Text'],\n",
    "                       text_labels_df['Labels'])"
   ]
  },
  {
   "cell_type": "code",
   "execution_count": 187,
   "metadata": {},
   "outputs": [
    {
     "data": {
      "text/html": [
       "<div>\n",
       "<style scoped>\n",
       "    .dataframe tbody tr th:only-of-type {\n",
       "        vertical-align: middle;\n",
       "    }\n",
       "\n",
       "    .dataframe tbody tr th {\n",
       "        vertical-align: top;\n",
       "    }\n",
       "\n",
       "    .dataframe thead th {\n",
       "        text-align: right;\n",
       "    }\n",
       "</style>\n",
       "<table border=\"1\" class=\"dataframe\">\n",
       "  <thead>\n",
       "    <tr style=\"text-align: right;\">\n",
       "      <th></th>\n",
       "      <th>Text</th>\n",
       "      <th>Labels</th>\n",
       "    </tr>\n",
       "  </thead>\n",
       "  <tbody>\n",
       "    <tr>\n",
       "      <th>0</th>\n",
       "      <td>\\n977146916\\nHLGMC\\n2878891\\n022690\\n01/27/199...</td>\n",
       "      <td>CURRENT SMOKER</td>\n",
       "    </tr>\n",
       "    <tr>\n",
       "      <th>1</th>\n",
       "      <td>\\n026738007\\nCMC\\n15319689\\n3/25/1998 12:00:00...</td>\n",
       "      <td>CURRENT SMOKER</td>\n",
       "    </tr>\n",
       "    <tr>\n",
       "      <th>2</th>\n",
       "      <td>\\n071962960\\nBH\\n4236518\\n417454\\n12/10/2001 1...</td>\n",
       "      <td>CURRENT SMOKER</td>\n",
       "    </tr>\n",
       "    <tr>\n",
       "      <th>3</th>\n",
       "      <td>\\n418520250\\nNVH\\n61562872\\n3/11/1995 12:00:00...</td>\n",
       "      <td>CURRENT SMOKER</td>\n",
       "    </tr>\n",
       "    <tr>\n",
       "      <th>4</th>\n",
       "      <td>\\n301443520\\nCTMC\\n49020928\\n448922\\n1/11/1990...</td>\n",
       "      <td>CURRENT SMOKER</td>\n",
       "    </tr>\n",
       "  </tbody>\n",
       "</table>\n",
       "</div>"
      ],
      "text/plain": [
       "                                                Text          Labels\n",
       "0  \\n977146916\\nHLGMC\\n2878891\\n022690\\n01/27/199...  CURRENT SMOKER\n",
       "1  \\n026738007\\nCMC\\n15319689\\n3/25/1998 12:00:00...  CURRENT SMOKER\n",
       "2  \\n071962960\\nBH\\n4236518\\n417454\\n12/10/2001 1...  CURRENT SMOKER\n",
       "3  \\n418520250\\nNVH\\n61562872\\n3/11/1995 12:00:00...  CURRENT SMOKER\n",
       "4  \\n301443520\\nCTMC\\n49020928\\n448922\\n1/11/1990...  CURRENT SMOKER"
      ]
     },
     "execution_count": 187,
     "metadata": {},
     "output_type": "execute_result"
    }
   ],
   "source": [
    "text_labels_df.head()"
   ]
  },
  {
   "cell_type": "code",
   "execution_count": 188,
   "metadata": {},
   "outputs": [
    {
     "name": "stdout",
     "output_type": "stream",
     "text": [
      "\n",
      "First iteration of data set:  {'Text': \"\\n977146916\\nHLGMC\\n2878891\\n022690\\n01/27/1997 12:00:00 AM\\nCARCINOMA OF THE COLON .\\nUnsigned\\nDIS\\nReport Status :\\nUnsigned\\nPlease do not go above this box important format codes are contained .\\nDISCHARGE SUMMARY\\nARF32 FA\\nDISCHARGE SUMMARY NAME :\\nGIRRESNET , DIEDREO A\\nUNIT NUMBER :\\n075-71-01\\nADMISSION DATE :\\n01/27/1997\\nDISCHARGE DATE :\\n01/31/1997\\nPRINCIPAL DIAGNOSIS :\\nCarcinoma of the colon .\\nASSOCIATED DIAGNOSIS :\\nUrinary tract infection , and cirrhosis of the liver .\\nHISTORY OF PRESENT ILLNESS :\\nThe patient is an 80-year-old male , who had a history of colon cancer in the past , resected approximately ten years prior to admission , history of heavy alcohol use , who presented with a two week history of poor PO intake , weight loss , and was noted to have acute on chronic Hepatitis by chemistries and question of pyelonephritis .\\nHe lived alone but was driven to the hospital by his son because of reported worsening and general care and deconditioning .\\nEmergency Department course ; he was evaluated in the emergency room , found to be severely cachectic and jaundiced .\\nHe was given a liter of normal saline , along with thiamine , folate .\\nAn abdominal ultrasound was performed showing no stones .\\nChest x-ray revealed clear lungs and then he was admitted to Team C for management .\\nPAST MEDICAL HISTORY :\\nCancer , ten years prior to admission , status post resection .\\nMEDICATIONS ON ADMISSION :\\nFolic acid .\\nALLERGIES :\\nNone .\\nFAMILY HISTORY :\\nNot obtained .\\nSOCIAL HISTORY :\\nLives in Merca .\\nDrinks ginger brandy to excess , pipe and cigar smoker for many years .\\nPHYSICAL EXAMINATION :\\nIn general was a cachectic , jaundiced man .\\nbloodpressure :\\n124/60 , 97.4 , 84 , 22 for vital signs .\\nhead , eyes , ears , nose and throat :\\nnotable for abscess ulcers on the lower gums .\\nHe was edentulous .\\nNeck was supple , lungs were clear except for some scattered mild crackles .\\nCardiac :\\ntachycardic with a II / VI systolic ejection murmur .\\nBelly was tender in the right upper quadrant .\\nLiver edge , thickened abdominal wall was palpable .\\nNo inguinal nodes .\\nRectal was guaiac negative .\\nOn mental status exam , he was somnolent but arousable .\\nOriented to name , year , and hospital .\\nSkin was jaundiced .\\nLABORATORY DATA :\\nNotable for a BUN and creatinine 14 and 1.8 , phosphorous of .5 , magnesium 1.2 , albumin 2.1 .\\nelevated liver function tests , bilirubin of 14 direct , 17 total .\\nuric acid 11.4 , alkaline phosphatase 173 , serum glutamic oxaloacetic transaminase 309 , amylase 388 .\\nHis urinalysis showed 10-20 granular casts and 10-20 white blood cells , 3-5 red blood cells , 5-10 whites , 3-5 white blood cells cast .\\nThe white blood cell was 8.5 , hematocrit 34 .\\nplatelet count 74 .\\n5% bands on differential .\\nprothrombin time 14.9 , partial thromboplastin time 35 .\\nHOSPITAL COURSE AND TREATMENT :\\nThe patient was admitted to the Staviewordna University Of Medical Center .\\nHis mental status proceeded to decline as he became more sleepy and less arousable and confused .\\nHis Hepatitis worsened , liver failure progressed with his coagulopathy worsening .\\nHis renal status also decreased with a drop in urine output , became more shortness of breath as he developed some pulmonary edema .\\nA head computerized tomography scan was planned to evaluate his change in mental status , but after an extensive discussion with the son , who felt that he and other family members wanted to maximize the patient 's comforts and avoid heroic measures in the event of further deterioration , plans were made to make the patient as comfortable as possible .\\nHe was continued on antibiotics , and oxygen , and morphine , and small amounts of Dopamine , and at 4 AM on January 31 , was pronounced dead .\\n_________________________ AJO C. CUCHKOTE , M.D.\\nTR :\\ntfv\\nDD :\\n09/08/1997\\nTD :\\n10/13/1997 3:47\\nPcc :\\nAZEL USANNE WALL , M.D.\\n[ report_end ]\\n\", 'Class': 'CURRENT SMOKER'} \n",
      "\n",
      "Length of data set:  398 \n",
      "\n"
     ]
    }
   ],
   "source": [
    "# Display text and label.\n",
    "print('\\nFirst iteration of data set: ', next(iter(TD)), '\\n')\n",
    "# Print how many items are in the data set\n",
    "print('Length of data set: ', len(TD), '\\n')\n",
    "# Print entire data set\n",
    "# print('Entire data set: ', list(DataLoader(TD)), '\\n')"
   ]
  },
  {
   "cell_type": "markdown",
   "metadata": {},
   "source": [
    "# Dataset pre-processing"
   ]
  },
  {
   "cell_type": "code",
   "execution_count": 189,
   "metadata": {},
   "outputs": [],
   "source": [
    "text_labels_df=text_labels_df[~text_labels_df.Labels.str.contains(\"UNKNOWN\")]"
   ]
  },
  {
   "cell_type": "code",
   "execution_count": 190,
   "metadata": {},
   "outputs": [
    {
     "data": {
      "text/html": [
       "<div>\n",
       "<style scoped>\n",
       "    .dataframe tbody tr th:only-of-type {\n",
       "        vertical-align: middle;\n",
       "    }\n",
       "\n",
       "    .dataframe tbody tr th {\n",
       "        vertical-align: top;\n",
       "    }\n",
       "\n",
       "    .dataframe thead th {\n",
       "        text-align: right;\n",
       "    }\n",
       "</style>\n",
       "<table border=\"1\" class=\"dataframe\">\n",
       "  <thead>\n",
       "    <tr style=\"text-align: right;\">\n",
       "      <th></th>\n",
       "      <th>Text</th>\n",
       "      <th>Labels</th>\n",
       "    </tr>\n",
       "  </thead>\n",
       "  <tbody>\n",
       "    <tr>\n",
       "      <th>17</th>\n",
       "      <td>\\n139964603\\nNVH\\n40876531\\n11/17/2003 12:00:0...</td>\n",
       "      <td>NON-SMOKER</td>\n",
       "    </tr>\n",
       "    <tr>\n",
       "      <th>18</th>\n",
       "      <td>\\n910458031\\nNVH\\n23238893\\n1/12/1991 12:00:00...</td>\n",
       "      <td>NON-SMOKER</td>\n",
       "    </tr>\n",
       "    <tr>\n",
       "      <th>19</th>\n",
       "      <td>\\n991509188\\nCTMC\\n51356028\\n369929\\n09/05/199...</td>\n",
       "      <td>NON-SMOKER</td>\n",
       "    </tr>\n",
       "    <tr>\n",
       "      <th>20</th>\n",
       "      <td>\\n320422564\\nCTMC\\n09300549\\n340424\\n06/16/199...</td>\n",
       "      <td>NON-SMOKER</td>\n",
       "    </tr>\n",
       "    <tr>\n",
       "      <th>21</th>\n",
       "      <td>\\n988183518\\nPUOMC\\n7961198\\n290757\\n137082\\n1...</td>\n",
       "      <td>NON-SMOKER</td>\n",
       "    </tr>\n",
       "  </tbody>\n",
       "</table>\n",
       "</div>"
      ],
      "text/plain": [
       "                                                 Text      Labels\n",
       "17  \\n139964603\\nNVH\\n40876531\\n11/17/2003 12:00:0...  NON-SMOKER\n",
       "18  \\n910458031\\nNVH\\n23238893\\n1/12/1991 12:00:00...  NON-SMOKER\n",
       "19  \\n991509188\\nCTMC\\n51356028\\n369929\\n09/05/199...  NON-SMOKER\n",
       "20  \\n320422564\\nCTMC\\n09300549\\n340424\\n06/16/199...  NON-SMOKER\n",
       "21  \\n988183518\\nPUOMC\\n7961198\\n290757\\n137082\\n1...  NON-SMOKER"
      ]
     },
     "execution_count": 190,
     "metadata": {},
     "output_type": "execute_result"
    }
   ],
   "source": [
    "text_labels_df_nonsmoker =text_labels_df[text_labels_df.Labels.str.contains(\"NON-SMOKER\")]\n",
    "text_labels_df_nonsmoker.head()"
   ]
  },
  {
   "cell_type": "code",
   "execution_count": 191,
   "metadata": {},
   "outputs": [
    {
     "name": "stderr",
     "output_type": "stream",
     "text": [
      "/ihome/yanshanwang/sos86/.local/lib/python3.8/site-packages/pandas/core/generic.py:5491: SettingWithCopyWarning:\n",
      "\n",
      "\n",
      "A value is trying to be set on a copy of a slice from a DataFrame.\n",
      "Try using .loc[row_indexer,col_indexer] = value instead\n",
      "\n",
      "See the caveats in the documentation: https://pandas.pydata.org/pandas-docs/stable/user_guide/indexing.html#returning-a-view-versus-a-copy\n",
      "\n"
     ]
    },
    {
     "data": {
      "text/html": [
       "<div>\n",
       "<style scoped>\n",
       "    .dataframe tbody tr th:only-of-type {\n",
       "        vertical-align: middle;\n",
       "    }\n",
       "\n",
       "    .dataframe tbody tr th {\n",
       "        vertical-align: top;\n",
       "    }\n",
       "\n",
       "    .dataframe thead th {\n",
       "        text-align: right;\n",
       "    }\n",
       "</style>\n",
       "<table border=\"1\" class=\"dataframe\">\n",
       "  <thead>\n",
       "    <tr style=\"text-align: right;\">\n",
       "      <th></th>\n",
       "      <th>Text</th>\n",
       "      <th>Labels</th>\n",
       "    </tr>\n",
       "  </thead>\n",
       "  <tbody>\n",
       "    <tr>\n",
       "      <th>0</th>\n",
       "      <td>\\n977146916\\nHLGMC\\n2878891\\n022690\\n01/27/199...</td>\n",
       "      <td>SMOKER</td>\n",
       "    </tr>\n",
       "    <tr>\n",
       "      <th>1</th>\n",
       "      <td>\\n026738007\\nCMC\\n15319689\\n3/25/1998 12:00:00...</td>\n",
       "      <td>SMOKER</td>\n",
       "    </tr>\n",
       "    <tr>\n",
       "      <th>2</th>\n",
       "      <td>\\n071962960\\nBH\\n4236518\\n417454\\n12/10/2001 1...</td>\n",
       "      <td>SMOKER</td>\n",
       "    </tr>\n",
       "    <tr>\n",
       "      <th>3</th>\n",
       "      <td>\\n418520250\\nNVH\\n61562872\\n3/11/1995 12:00:00...</td>\n",
       "      <td>SMOKER</td>\n",
       "    </tr>\n",
       "    <tr>\n",
       "      <th>4</th>\n",
       "      <td>\\n301443520\\nCTMC\\n49020928\\n448922\\n1/11/1990...</td>\n",
       "      <td>SMOKER</td>\n",
       "    </tr>\n",
       "  </tbody>\n",
       "</table>\n",
       "</div>"
      ],
      "text/plain": [
       "                                                Text  Labels\n",
       "0  \\n977146916\\nHLGMC\\n2878891\\n022690\\n01/27/199...  SMOKER\n",
       "1  \\n026738007\\nCMC\\n15319689\\n3/25/1998 12:00:00...  SMOKER\n",
       "2  \\n071962960\\nBH\\n4236518\\n417454\\n12/10/2001 1...  SMOKER\n",
       "3  \\n418520250\\nNVH\\n61562872\\n3/11/1995 12:00:00...  SMOKER\n",
       "4  \\n301443520\\nCTMC\\n49020928\\n448922\\n1/11/1990...  SMOKER"
      ]
     },
     "execution_count": 191,
     "metadata": {},
     "output_type": "execute_result"
    }
   ],
   "source": [
    "text_labels_df_smoker =text_labels_df[~text_labels_df.Labels.str.contains(\"NON-SMOKER\")]\n",
    "text_labels_df_smoker.Labels = \"SMOKER\"\n",
    "text_labels_df_smoker.head()"
   ]
  },
  {
   "cell_type": "code",
   "execution_count": 192,
   "metadata": {},
   "outputs": [
    {
     "data": {
      "text/plain": [
       "SMOKER    80\n",
       "Name: Labels, dtype: int64"
      ]
     },
     "execution_count": 192,
     "metadata": {},
     "output_type": "execute_result"
    }
   ],
   "source": [
    "text_labels_df_smoker.Labels.value_counts()"
   ]
  },
  {
   "cell_type": "code",
   "execution_count": 193,
   "metadata": {},
   "outputs": [],
   "source": [
    "df = text_labels_df_smoker.append(text_labels_df_nonsmoker, ignore_index=True)"
   ]
  },
  {
   "cell_type": "code",
   "execution_count": 194,
   "metadata": {},
   "outputs": [
    {
     "data": {
      "text/plain": [
       "SMOKER        80\n",
       "NON-SMOKER    66\n",
       "Name: Labels, dtype: int64"
      ]
     },
     "execution_count": 194,
     "metadata": {},
     "output_type": "execute_result"
    }
   ],
   "source": [
    "df.Labels.value_counts()"
   ]
  },
  {
   "cell_type": "code",
   "execution_count": 195,
   "metadata": {},
   "outputs": [
    {
     "data": {
      "text/plain": [
       "str"
      ]
     },
     "execution_count": 195,
     "metadata": {},
     "output_type": "execute_result"
    }
   ],
   "source": [
    "x_test=df.Text.to_list()\n",
    "y_test=df.Labels.to_list()\n",
    "x_test[1].__class__"
   ]
  },
  {
   "cell_type": "markdown",
   "metadata": {},
   "source": [
    "# TEXT Cleaning"
   ]
  },
  {
   "cell_type": "code",
   "execution_count": 196,
   "metadata": {},
   "outputs": [],
   "source": [
    "data=df\n",
    "# remove NULL Values from data\n",
    "data = data[pd.notnull(data['Text'])]"
   ]
  },
  {
   "cell_type": "code",
   "execution_count": 197,
   "metadata": {},
   "outputs": [
    {
     "data": {
      "text/plain": [
       "<AxesSubplot:ylabel='Frequency'>"
      ]
     },
     "execution_count": 197,
     "metadata": {},
     "output_type": "execute_result"
    },
    {
     "data": {
      "image/png": "[encoded data removed]",
      "text/plain": [
       "<Figure size 432x288 with 1 Axes>"
      ]
     },
     "metadata": {
      "needs_background": "light"
     },
     "output_type": "display_data"
    }
   ],
   "source": [
    "import matplotlib.pyplot as plt\n",
    "data['len'] = data['Text'].apply(lambda s : len(s))\n",
    "data['len'].plot.hist(bins=100)"
   ]
  },
  {
   "cell_type": "code",
   "execution_count": 198,
   "metadata": {},
   "outputs": [
    {
     "data": {
      "text/plain": [
       "9392.0"
      ]
     },
     "execution_count": 198,
     "metadata": {},
     "output_type": "execute_result"
    }
   ],
   "source": [
    "data.len.quantile(0.9)"
   ]
  },
  {
   "cell_type": "code",
   "execution_count": 199,
   "metadata": {},
   "outputs": [
    {
     "data": {
      "text/html": [
       "<div>\n",
       "<style scoped>\n",
       "    .dataframe tbody tr th:only-of-type {\n",
       "        vertical-align: middle;\n",
       "    }\n",
       "\n",
       "    .dataframe tbody tr th {\n",
       "        vertical-align: top;\n",
       "    }\n",
       "\n",
       "    .dataframe thead th {\n",
       "        text-align: right;\n",
       "    }\n",
       "</style>\n",
       "<table border=\"1\" class=\"dataframe\">\n",
       "  <thead>\n",
       "    <tr style=\"text-align: right;\">\n",
       "      <th></th>\n",
       "      <th>Labels</th>\n",
       "      <th>Text</th>\n",
       "    </tr>\n",
       "  </thead>\n",
       "  <tbody>\n",
       "    <tr>\n",
       "      <th>1</th>\n",
       "      <td>SMOKER</td>\n",
       "      <td>80</td>\n",
       "    </tr>\n",
       "    <tr>\n",
       "      <th>0</th>\n",
       "      <td>NON-SMOKER</td>\n",
       "      <td>66</td>\n",
       "    </tr>\n",
       "  </tbody>\n",
       "</table>\n",
       "</div>"
      ],
      "text/plain": [
       "       Labels  Text\n",
       "1      SMOKER    80\n",
       "0  NON-SMOKER    66"
      ]
     },
     "execution_count": 199,
     "metadata": {},
     "output_type": "execute_result"
    }
   ],
   "source": [
    "count_df = data[['Labels','Text']].groupby('Labels').aggregate({'Text':'count'}).reset_index().sort_values('Text',ascending=False)\n",
    "count_df.head()"
   ]
  },
  {
   "cell_type": "code",
   "execution_count": 200,
   "metadata": {},
   "outputs": [],
   "source": [
    "target_conditions = count_df[count_df['Text']>3000]['Labels'].values"
   ]
  },
  {
   "cell_type": "code",
   "execution_count": 201,
   "metadata": {},
   "outputs": [],
   "source": [
    "# BUGGGGGGGGGGGGGGGGG\n",
    "#def condition_parser(x):\n",
    "#     if x in target_conditions:\n",
    "#         return x\n",
    "#     else:\n",
    "#         return \"OTHER\"\n",
    "    \n",
    "# data['Labels'] = data['Labels'].apply(lambda x: condition_parser(x)) \n",
    "# data = data[data['Labels']!='OTHER']"
   ]
  },
  {
   "cell_type": "code",
   "execution_count": 202,
   "metadata": {},
   "outputs": [
    {
     "data": {
      "application/vnd.plotly.v1+json": {
       "config": {
        "plotlyServerURL": "https://plot.ly"
       },
       "data": [],
       "layout": {
        "autosize": true,
        "barmode": "relative",
        "legend": {
         "tracegroupgap": 0
        },
        "margin": {
         "t": 60
        },
        "template": {
         "data": {
          "bar": [
           {
            "error_x": {
             "color": "#2a3f5f"
            },
            "error_y": {
             "color": "#2a3f5f"
            },
            "marker": {
             "line": {
              "color": "#E5ECF6",
              "width": 0.5
             },
             "pattern": {
              "fillmode": "overlay",
              "size": 10,
              "solidity": 0.2
             }
            },
            "type": "bar"
           }
          ],
          "barpolar": [
           {
            "marker": {
             "line": {
              "color": "#E5ECF6",
              "width": 0.5
             },
             "pattern": {
              "fillmode": "overlay",
              "size": 10,
              "solidity": 0.2
             }
            },
            "type": "barpolar"
           }
          ],
          "carpet": [
           {
            "aaxis": {
             "endlinecolor": "#2a3f5f",
             "gridcolor": "white",
             "linecolor": "white",
             "minorgridcolor": "white",
             "startlinecolor": "#2a3f5f"
            },
            "baxis": {
             "endlinecolor": "#2a3f5f",
             "gridcolor": "white",
             "linecolor": "white",
             "minorgridcolor": "white",
             "startlinecolor": "#2a3f5f"
            },
            "type": "carpet"
           }
          ],
          "choropleth": [
           {
            "colorbar": {
             "outlinewidth": 0,
             "ticks": ""
            },
            "type": "choropleth"
           }
          ],
          "contour": [
           {
            "colorbar": {
             "outlinewidth": 0,
             "ticks": ""
            },
            "colorscale": [
             [
              0,
              "#0d0887"
             ],
             [
              0.1111111111111111,
              "#46039f"
             ],
             [
              0.2222222222222222,
              "#7201a8"
             ],
             [
              0.3333333333333333,
              "#9c179e"
             ],
             [
              0.4444444444444444,
              "#bd3786"
             ],
             [
              0.5555555555555556,
              "#d8576b"
             ],
             [
              0.6666666666666666,
              "#ed7953"
             ],
             [
              0.7777777777777778,
              "#fb9f3a"
             ],
             [
              0.8888888888888888,
              "#fdca26"
             ],
             [
              1,
              "#f0f921"
             ]
            ],
            "type": "contour"
           }
          ],
          "contourcarpet": [
           {
            "colorbar": {
             "outlinewidth": 0,
             "ticks": ""
            },
            "type": "contourcarpet"
           }
          ],
          "heatmap": [
           {
            "colorbar": {
             "outlinewidth": 0,
             "ticks": ""
            },
            "colorscale": [
             [
              0,
              "#0d0887"
             ],
             [
              0.1111111111111111,
              "#46039f"
             ],
             [
              0.2222222222222222,
              "#7201a8"
             ],
             [
              0.3333333333333333,
              "#9c179e"
             ],
             [
              0.4444444444444444,
              "#bd3786"
             ],
             [
              0.5555555555555556,
              "#d8576b"
             ],
             [
              0.6666666666666666,
              "#ed7953"
             ],
             [
              0.7777777777777778,
              "#fb9f3a"
             ],
             [
              0.8888888888888888,
              "#fdca26"
             ],
             [
              1,
              "#f0f921"
             ]
            ],
            "type": "heatmap"
           }
          ],
          "heatmapgl": [
           {
            "colorbar": {
             "outlinewidth": 0,
             "ticks": ""
            },
            "colorscale": [
             [
              0,
              "#0d0887"
             ],
             [
              0.1111111111111111,
              "#46039f"
             ],
             [
              0.2222222222222222,
              "#7201a8"
             ],
             [
              0.3333333333333333,
              "#9c179e"
             ],
             [
              0.4444444444444444,
              "#bd3786"
             ],
             [
              0.5555555555555556,
              "#d8576b"
             ],
             [
              0.6666666666666666,
              "#ed7953"
             ],
             [
              0.7777777777777778,
              "#fb9f3a"
             ],
             [
              0.8888888888888888,
              "#fdca26"
             ],
             [
              1,
              "#f0f921"
             ]
            ],
            "type": "heatmapgl"
           }
          ],
          "histogram": [
           {
            "marker": {
             "pattern": {
              "fillmode": "overlay",
              "size": 10,
              "solidity": 0.2
             }
            },
            "type": "histogram"
           }
          ],
          "histogram2d": [
           {
            "colorbar": {
             "outlinewidth": 0,
             "ticks": ""
            },
            "colorscale": [
             [
              0,
              "#0d0887"
             ],
             [
              0.1111111111111111,
              "#46039f"
             ],
             [
              0.2222222222222222,
              "#7201a8"
             ],
             [
              0.3333333333333333,
              "#9c179e"
             ],
             [
              0.4444444444444444,
              "#bd3786"
             ],
             [
              0.5555555555555556,
              "#d8576b"
             ],
             [
              0.6666666666666666,
              "#ed7953"
             ],
             [
              0.7777777777777778,
              "#fb9f3a"
             ],
             [
              0.8888888888888888,
              "#fdca26"
             ],
             [
              1,
              "#f0f921"
             ]
            ],
            "type": "histogram2d"
           }
          ],
          "histogram2dcontour": [
           {
            "colorbar": {
             "outlinewidth": 0,
             "ticks": ""
            },
            "colorscale": [
             [
              0,
              "#0d0887"
             ],
             [
              0.1111111111111111,
              "#46039f"
             ],
             [
              0.2222222222222222,
              "#7201a8"
             ],
             [
              0.3333333333333333,
              "#9c179e"
             ],
             [
              0.4444444444444444,
              "#bd3786"
             ],
             [
              0.5555555555555556,
              "#d8576b"
             ],
             [
              0.6666666666666666,
              "#ed7953"
             ],
             [
              0.7777777777777778,
              "#fb9f3a"
             ],
             [
              0.8888888888888888,
              "#fdca26"
             ],
             [
              1,
              "#f0f921"
             ]
            ],
            "type": "histogram2dcontour"
           }
          ],
          "mesh3d": [
           {
            "colorbar": {
             "outlinewidth": 0,
             "ticks": ""
            },
            "type": "mesh3d"
           }
          ],
          "parcoords": [
           {
            "line": {
             "colorbar": {
              "outlinewidth": 0,
              "ticks": ""
             }
            },
            "type": "parcoords"
           }
          ],
          "pie": [
           {
            "automargin": true,
            "type": "pie"
           }
          ],
          "scatter": [
           {
            "marker": {
             "colorbar": {
              "outlinewidth": 0,
              "ticks": ""
             }
            },
            "type": "scatter"
           }
          ],
          "scatter3d": [
           {
            "line": {
             "colorbar": {
              "outlinewidth": 0,
              "ticks": ""
             }
            },
            "marker": {
             "colorbar": {
              "outlinewidth": 0,
              "ticks": ""
             }
            },
            "type": "scatter3d"
           }
          ],
          "scattercarpet": [
           {
            "marker": {
             "colorbar": {
              "outlinewidth": 0,
              "ticks": ""
             }
            },
            "type": "scattercarpet"
           }
          ],
          "scattergeo": [
           {
            "marker": {
             "colorbar": {
              "outlinewidth": 0,
              "ticks": ""
             }
            },
            "type": "scattergeo"
           }
          ],
          "scattergl": [
           {
            "marker": {
             "colorbar": {
              "outlinewidth": 0,
              "ticks": ""
             }
            },
            "type": "scattergl"
           }
          ],
          "scattermapbox": [
           {
            "marker": {
             "colorbar": {
              "outlinewidth": 0,
              "ticks": ""
             }
            },
            "type": "scattermapbox"
           }
          ],
          "scatterpolar": [
           {
            "marker": {
             "colorbar": {
              "outlinewidth": 0,
              "ticks": ""
             }
            },
            "type": "scatterpolar"
           }
          ],
          "scatterpolargl": [
           {
            "marker": {
             "colorbar": {
              "outlinewidth": 0,
              "ticks": ""
             }
            },
            "type": "scatterpolargl"
           }
          ],
          "scatterternary": [
           {
            "marker": {
             "colorbar": {
              "outlinewidth": 0,
              "ticks": ""
             }
            },
            "type": "scatterternary"
           }
          ],
          "surface": [
           {
            "colorbar": {
             "outlinewidth": 0,
             "ticks": ""
            },
            "colorscale": [
             [
              0,
              "#0d0887"
             ],
             [
              0.1111111111111111,
              "#46039f"
             ],
             [
              0.2222222222222222,
              "#7201a8"
             ],
             [
              0.3333333333333333,
              "#9c179e"
             ],
             [
              0.4444444444444444,
              "#bd3786"
             ],
             [
              0.5555555555555556,
              "#d8576b"
             ],
             [
              0.6666666666666666,
              "#ed7953"
             ],
             [
              0.7777777777777778,
              "#fb9f3a"
             ],
             [
              0.8888888888888888,
              "#fdca26"
             ],
             [
              1,
              "#f0f921"
             ]
            ],
            "type": "surface"
           }
          ],
          "table": [
           {
            "cells": {
             "fill": {
              "color": "#EBF0F8"
             },
             "line": {
              "color": "white"
             }
            },
            "header": {
             "fill": {
              "color": "#C8D4E3"
             },
             "line": {
              "color": "white"
             }
            },
            "type": "table"
           }
          ]
         },
         "layout": {
          "annotationdefaults": {
           "arrowcolor": "#2a3f5f",
           "arrowhead": 0,
           "arrowwidth": 1
          },
          "autotypenumbers": "strict",
          "coloraxis": {
           "colorbar": {
            "outlinewidth": 0,
            "ticks": ""
           }
          },
          "colorscale": {
           "diverging": [
            [
             0,
             "#8e0152"
            ],
            [
             0.1,
             "#c51b7d"
            ],
            [
             0.2,
             "#de77ae"
            ],
            [
             0.3,
             "#f1b6da"
            ],
            [
             0.4,
             "#fde0ef"
            ],
            [
             0.5,
             "#f7f7f7"
            ],
            [
             0.6,
             "#e6f5d0"
            ],
            [
             0.7,
             "#b8e186"
            ],
            [
             0.8,
             "#7fbc41"
            ],
            [
             0.9,
             "#4d9221"
            ],
            [
             1,
             "#276419"
            ]
           ],
           "sequential": [
            [
             0,
             "#0d0887"
            ],
            [
             0.1111111111111111,
             "#46039f"
            ],
            [
             0.2222222222222222,
             "#7201a8"
            ],
            [
             0.3333333333333333,
             "#9c179e"
            ],
            [
             0.4444444444444444,
             "#bd3786"
            ],
            [
             0.5555555555555556,
             "#d8576b"
            ],
            [
             0.6666666666666666,
             "#ed7953"
            ],
            [
             0.7777777777777778,
             "#fb9f3a"
            ],
            [
             0.8888888888888888,
             "#fdca26"
            ],
            [
             1,
             "#f0f921"
            ]
           ],
           "sequentialminus": [
            [
             0,
             "#0d0887"
            ],
            [
             0.1111111111111111,
             "#46039f"
            ],
            [
             0.2222222222222222,
             "#7201a8"
            ],
            [
             0.3333333333333333,
             "#9c179e"
            ],
            [
             0.4444444444444444,
             "#bd3786"
            ],
            [
             0.5555555555555556,
             "#d8576b"
            ],
            [
             0.6666666666666666,
             "#ed7953"
            ],
            [
             0.7777777777777778,
             "#fb9f3a"
            ],
            [
             0.8888888888888888,
             "#fdca26"
            ],
            [
             1,
             "#f0f921"
            ]
           ]
          },
          "colorway": [
           "#636efa",
           "#EF553B",
           "#00cc96",
           "#ab63fa",
           "#FFA15A",
           "#19d3f3",
           "#FF6692",
           "#B6E880",
           "#FF97FF",
           "#FECB52"
          ],
          "font": {
           "color": "#2a3f5f"
          },
          "geo": {
           "bgcolor": "white",
           "lakecolor": "white",
           "landcolor": "#E5ECF6",
           "showlakes": true,
           "showland": true,
           "subunitcolor": "white"
          },
          "hoverlabel": {
           "align": "left"
          },
          "hovermode": "closest",
          "mapbox": {
           "style": "light"
          },
          "paper_bgcolor": "white",
          "plot_bgcolor": "#E5ECF6",
          "polar": {
           "angularaxis": {
            "gridcolor": "white",
            "linecolor": "white",
            "ticks": ""
           },
           "bgcolor": "#E5ECF6",
           "radialaxis": {
            "gridcolor": "white",
            "linecolor": "white",
            "ticks": ""
           }
          },
          "scene": {
           "xaxis": {
            "backgroundcolor": "#E5ECF6",
            "gridcolor": "white",
            "gridwidth": 2,
            "linecolor": "white",
            "showbackground": true,
            "ticks": "",
            "zerolinecolor": "white"
           },
           "yaxis": {
            "backgroundcolor": "#E5ECF6",
            "gridcolor": "white",
            "gridwidth": 2,
            "linecolor": "white",
            "showbackground": true,
            "ticks": "",
            "zerolinecolor": "white"
           },
           "zaxis": {
            "backgroundcolor": "#E5ECF6",
            "gridcolor": "white",
            "gridwidth": 2,
            "linecolor": "white",
            "showbackground": true,
            "ticks": "",
            "zerolinecolor": "white"
           }
          },
          "shapedefaults": {
           "line": {
            "color": "#2a3f5f"
           }
          },
          "ternary": {
           "aaxis": {
            "gridcolor": "white",
            "linecolor": "white",
            "ticks": ""
           },
           "baxis": {
            "gridcolor": "white",
            "linecolor": "white",
            "ticks": ""
           },
           "bgcolor": "#E5ECF6",
           "caxis": {
            "gridcolor": "white",
            "linecolor": "white",
            "ticks": ""
           }
          },
          "title": {
           "x": 0.05
          },
          "xaxis": {
           "automargin": true,
           "gridcolor": "white",
           "linecolor": "white",
           "ticks": "",
           "title": {
            "standoff": 15
           },
           "zerolinecolor": "white",
           "zerolinewidth": 2
          },
          "yaxis": {
           "automargin": true,
           "gridcolor": "white",
           "linecolor": "white",
           "ticks": "",
           "title": {
            "standoff": 15
           },
           "zerolinecolor": "white",
           "zerolinewidth": 2
          }
         }
        },
        "xaxis": {
         "anchor": "y",
         "autorange": true,
         "domain": [
          0,
          1
         ],
         "range": [
          -1,
          6
         ],
         "title": {
          "text": "Labels"
         }
        },
        "yaxis": {
         "anchor": "x",
         "autorange": true,
         "domain": [
          0,
          1
         ],
         "range": [
          -1,
          4
         ],
         "title": {
          "text": "Text"
         }
        }
       }
      },
      "image/png": "[encoded data removed]",
      "text/html": [
       "<div>                            <div id=\"9348a9dd-4794-4d13-8bc7-2185c2727e88\" class=\"plotly-graph-div\" style=\"height:525px; width:100%;\"></div>            <script type=\"text/javascript\">                require([\"plotly\"], function(Plotly) {                    window.PLOTLYENV=window.PLOTLYENV || {};                                    if (document.getElementById(\"9348a9dd-4794-4d13-8bc7-2185c2727e88\")) {                    Plotly.newPlot(                        \"9348a9dd-4794-4d13-8bc7-2185c2727e88\",                        [],                        {\"template\":{\"data\":{\"bar\":[{\"error_x\":{\"color\":\"#2a3f5f\"},\"error_y\":{\"color\":\"#2a3f5f\"},\"marker\":{\"line\":{\"color\":\"#E5ECF6\",\"width\":0.5},\"pattern\":{\"fillmode\":\"overlay\",\"size\":10,\"solidity\":0.2}},\"type\":\"bar\"}],\"barpolar\":[{\"marker\":{\"line\":{\"color\":\"#E5ECF6\",\"width\":0.5},\"pattern\":{\"fillmode\":\"overlay\",\"size\":10,\"solidity\":0.2}},\"type\":\"barpolar\"}],\"carpet\":[{\"aaxis\":{\"endlinecolor\":\"#2a3f5f\",\"gridcolor\":\"white\",\"linecolor\":\"white\",\"minorgridcolor\":\"white\",\"startlinecolor\":\"#2a3f5f\"},\"baxis\":{\"endlinecolor\":\"#2a3f5f\",\"gridcolor\":\"white\",\"linecolor\":\"white\",\"minorgridcolor\":\"white\",\"startlinecolor\":\"#2a3f5f\"},\"type\":\"carpet\"}],\"choropleth\":[{\"colorbar\":{\"outlinewidth\":0,\"ticks\":\"\"},\"type\":\"choropleth\"}],\"contour\":[{\"colorbar\":{\"outlinewidth\":0,\"ticks\":\"\"},\"colorscale\":[[0.0,\"#0d0887\"],[0.1111111111111111,\"#46039f\"],[0.2222222222222222,\"#7201a8\"],[0.3333333333333333,\"#9c179e\"],[0.4444444444444444,\"#bd3786\"],[0.5555555555555556,\"#d8576b\"],[0.6666666666666666,\"#ed7953\"],[0.7777777777777778,\"#fb9f3a\"],[0.8888888888888888,\"#fdca26\"],[1.0,\"#f0f921\"]],\"type\":\"contour\"}],\"contourcarpet\":[{\"colorbar\":{\"outlinewidth\":0,\"ticks\":\"\"},\"type\":\"contourcarpet\"}],\"heatmap\":[{\"colorbar\":{\"outlinewidth\":0,\"ticks\":\"\"},\"colorscale\":[[0.0,\"#0d0887\"],[0.1111111111111111,\"#46039f\"],[0.2222222222222222,\"#7201a8\"],[0.3333333333333333,\"#9c179e\"],[0.4444444444444444,\"#bd3786\"],[0.5555555555555556,\"#d8576b\"],[0.6666666666666666,\"#ed7953\"],[0.7777777777777778,\"#fb9f3a\"],[0.8888888888888888,\"#fdca26\"],[1.0,\"#f0f921\"]],\"type\":\"heatmap\"}],\"heatmapgl\":[{\"colorbar\":{\"outlinewidth\":0,\"ticks\":\"\"},\"colorscale\":[[0.0,\"#0d0887\"],[0.1111111111111111,\"#46039f\"],[0.2222222222222222,\"#7201a8\"],[0.3333333333333333,\"#9c179e\"],[0.4444444444444444,\"#bd3786\"],[0.5555555555555556,\"#d8576b\"],[0.6666666666666666,\"#ed7953\"],[0.7777777777777778,\"#fb9f3a\"],[0.8888888888888888,\"#fdca26\"],[1.0,\"#f0f921\"]],\"type\":\"heatmapgl\"}],\"histogram\":[{\"marker\":{\"pattern\":{\"fillmode\":\"overlay\",\"size\":10,\"solidity\":0.2}},\"type\":\"histogram\"}],\"histogram2d\":[{\"colorbar\":{\"outlinewidth\":0,\"ticks\":\"\"},\"colorscale\":[[0.0,\"#0d0887\"],[0.1111111111111111,\"#46039f\"],[0.2222222222222222,\"#7201a8\"],[0.3333333333333333,\"#9c179e\"],[0.4444444444444444,\"#bd3786\"],[0.5555555555555556,\"#d8576b\"],[0.6666666666666666,\"#ed7953\"],[0.7777777777777778,\"#fb9f3a\"],[0.8888888888888888,\"#fdca26\"],[1.0,\"#f0f921\"]],\"type\":\"histogram2d\"}],\"histogram2dcontour\":[{\"colorbar\":{\"outlinewidth\":0,\"ticks\":\"\"},\"colorscale\":[[0.0,\"#0d0887\"],[0.1111111111111111,\"#46039f\"],[0.2222222222222222,\"#7201a8\"],[0.3333333333333333,\"#9c179e\"],[0.4444444444444444,\"#bd3786\"],[0.5555555555555556,\"#d8576b\"],[0.6666666666666666,\"#ed7953\"],[0.7777777777777778,\"#fb9f3a\"],[0.8888888888888888,\"#fdca26\"],[1.0,\"#f0f921\"]],\"type\":\"histogram2dcontour\"}],\"mesh3d\":[{\"colorbar\":{\"outlinewidth\":0,\"ticks\":\"\"},\"type\":\"mesh3d\"}],\"parcoords\":[{\"line\":{\"colorbar\":{\"outlinewidth\":0,\"ticks\":\"\"}},\"type\":\"parcoords\"}],\"pie\":[{\"automargin\":true,\"type\":\"pie\"}],\"scatter\":[{\"marker\":{\"colorbar\":{\"outlinewidth\":0,\"ticks\":\"\"}},\"type\":\"scatter\"}],\"scatter3d\":[{\"line\":{\"colorbar\":{\"outlinewidth\":0,\"ticks\":\"\"}},\"marker\":{\"colorbar\":{\"outlinewidth\":0,\"ticks\":\"\"}},\"type\":\"scatter3d\"}],\"scattercarpet\":[{\"marker\":{\"colorbar\":{\"outlinewidth\":0,\"ticks\":\"\"}},\"type\":\"scattercarpet\"}],\"scattergeo\":[{\"marker\":{\"colorbar\":{\"outlinewidth\":0,\"ticks\":\"\"}},\"type\":\"scattergeo\"}],\"scattergl\":[{\"marker\":{\"colorbar\":{\"outlinewidth\":0,\"ticks\":\"\"}},\"type\":\"scattergl\"}],\"scattermapbox\":[{\"marker\":{\"colorbar\":{\"outlinewidth\":0,\"ticks\":\"\"}},\"type\":\"scattermapbox\"}],\"scatterpolar\":[{\"marker\":{\"colorbar\":{\"outlinewidth\":0,\"ticks\":\"\"}},\"type\":\"scatterpolar\"}],\"scatterpolargl\":[{\"marker\":{\"colorbar\":{\"outlinewidth\":0,\"ticks\":\"\"}},\"type\":\"scatterpolargl\"}],\"scatterternary\":[{\"marker\":{\"colorbar\":{\"outlinewidth\":0,\"ticks\":\"\"}},\"type\":\"scatterternary\"}],\"surface\":[{\"colorbar\":{\"outlinewidth\":0,\"ticks\":\"\"},\"colorscale\":[[0.0,\"#0d0887\"],[0.1111111111111111,\"#46039f\"],[0.2222222222222222,\"#7201a8\"],[0.3333333333333333,\"#9c179e\"],[0.4444444444444444,\"#bd3786\"],[0.5555555555555556,\"#d8576b\"],[0.6666666666666666,\"#ed7953\"],[0.7777777777777778,\"#fb9f3a\"],[0.8888888888888888,\"#fdca26\"],[1.0,\"#f0f921\"]],\"type\":\"surface\"}],\"table\":[{\"cells\":{\"fill\":{\"color\":\"#EBF0F8\"},\"line\":{\"color\":\"white\"}},\"header\":{\"fill\":{\"color\":\"#C8D4E3\"},\"line\":{\"color\":\"white\"}},\"type\":\"table\"}]},\"layout\":{\"annotationdefaults\":{\"arrowcolor\":\"#2a3f5f\",\"arrowhead\":0,\"arrowwidth\":1},\"autotypenumbers\":\"strict\",\"coloraxis\":{\"colorbar\":{\"outlinewidth\":0,\"ticks\":\"\"}},\"colorscale\":{\"diverging\":[[0,\"#8e0152\"],[0.1,\"#c51b7d\"],[0.2,\"#de77ae\"],[0.3,\"#f1b6da\"],[0.4,\"#fde0ef\"],[0.5,\"#f7f7f7\"],[0.6,\"#e6f5d0\"],[0.7,\"#b8e186\"],[0.8,\"#7fbc41\"],[0.9,\"#4d9221\"],[1,\"#276419\"]],\"sequential\":[[0.0,\"#0d0887\"],[0.1111111111111111,\"#46039f\"],[0.2222222222222222,\"#7201a8\"],[0.3333333333333333,\"#9c179e\"],[0.4444444444444444,\"#bd3786\"],[0.5555555555555556,\"#d8576b\"],[0.6666666666666666,\"#ed7953\"],[0.7777777777777778,\"#fb9f3a\"],[0.8888888888888888,\"#fdca26\"],[1.0,\"#f0f921\"]],\"sequentialminus\":[[0.0,\"#0d0887\"],[0.1111111111111111,\"#46039f\"],[0.2222222222222222,\"#7201a8\"],[0.3333333333333333,\"#9c179e\"],[0.4444444444444444,\"#bd3786\"],[0.5555555555555556,\"#d8576b\"],[0.6666666666666666,\"#ed7953\"],[0.7777777777777778,\"#fb9f3a\"],[0.8888888888888888,\"#fdca26\"],[1.0,\"#f0f921\"]]},\"colorway\":[\"#636efa\",\"#EF553B\",\"#00cc96\",\"#ab63fa\",\"#FFA15A\",\"#19d3f3\",\"#FF6692\",\"#B6E880\",\"#FF97FF\",\"#FECB52\"],\"font\":{\"color\":\"#2a3f5f\"},\"geo\":{\"bgcolor\":\"white\",\"lakecolor\":\"white\",\"landcolor\":\"#E5ECF6\",\"showlakes\":true,\"showland\":true,\"subunitcolor\":\"white\"},\"hoverlabel\":{\"align\":\"left\"},\"hovermode\":\"closest\",\"mapbox\":{\"style\":\"light\"},\"paper_bgcolor\":\"white\",\"plot_bgcolor\":\"#E5ECF6\",\"polar\":{\"angularaxis\":{\"gridcolor\":\"white\",\"linecolor\":\"white\",\"ticks\":\"\"},\"bgcolor\":\"#E5ECF6\",\"radialaxis\":{\"gridcolor\":\"white\",\"linecolor\":\"white\",\"ticks\":\"\"}},\"scene\":{\"xaxis\":{\"backgroundcolor\":\"#E5ECF6\",\"gridcolor\":\"white\",\"gridwidth\":2,\"linecolor\":\"white\",\"showbackground\":true,\"ticks\":\"\",\"zerolinecolor\":\"white\"},\"yaxis\":{\"backgroundcolor\":\"#E5ECF6\",\"gridcolor\":\"white\",\"gridwidth\":2,\"linecolor\":\"white\",\"showbackground\":true,\"ticks\":\"\",\"zerolinecolor\":\"white\"},\"zaxis\":{\"backgroundcolor\":\"#E5ECF6\",\"gridcolor\":\"white\",\"gridwidth\":2,\"linecolor\":\"white\",\"showbackground\":true,\"ticks\":\"\",\"zerolinecolor\":\"white\"}},\"shapedefaults\":{\"line\":{\"color\":\"#2a3f5f\"}},\"ternary\":{\"aaxis\":{\"gridcolor\":\"white\",\"linecolor\":\"white\",\"ticks\":\"\"},\"baxis\":{\"gridcolor\":\"white\",\"linecolor\":\"white\",\"ticks\":\"\"},\"bgcolor\":\"#E5ECF6\",\"caxis\":{\"gridcolor\":\"white\",\"linecolor\":\"white\",\"ticks\":\"\"}},\"title\":{\"x\":0.05},\"xaxis\":{\"automargin\":true,\"gridcolor\":\"white\",\"linecolor\":\"white\",\"ticks\":\"\",\"title\":{\"standoff\":15},\"zerolinecolor\":\"white\",\"zerolinewidth\":2},\"yaxis\":{\"automargin\":true,\"gridcolor\":\"white\",\"linecolor\":\"white\",\"ticks\":\"\",\"title\":{\"standoff\":15},\"zerolinecolor\":\"white\",\"zerolinewidth\":2}}},\"xaxis\":{\"anchor\":\"y\",\"domain\":[0.0,1.0],\"title\":{\"text\":\"Labels\"}},\"yaxis\":{\"anchor\":\"x\",\"domain\":[0.0,1.0],\"title\":{\"text\":\"Text\"}},\"legend\":{\"tracegroupgap\":0},\"margin\":{\"t\":60},\"barmode\":\"relative\"},                        {\"responsive\": true}                    ).then(function(){\n",
       "                            \n",
       "var gd = document.getElementById('9348a9dd-4794-4d13-8bc7-2185c2727e88');\n",
       "var x = new MutationObserver(function (mutations, observer) {{\n",
       "        var display = window.getComputedStyle(gd).display;\n",
       "        if (!display || display === 'none') {{\n",
       "            console.log([gd, 'removed!']);\n",
       "            Plotly.purge(gd);\n",
       "            observer.disconnect();\n",
       "        }}\n",
       "}});\n",
       "\n",
       "// Listen for the removal of the full notebook cells\n",
       "var notebookContainer = gd.closest('#notebook-container');\n",
       "if (notebookContainer) {{\n",
       "    x.observe(notebookContainer, {childList: true});\n",
       "}}\n",
       "\n",
       "// Listen for the clearing of the current output cell\n",
       "var outputEl = gd.closest('.output');\n",
       "if (outputEl) {{\n",
       "    x.observe(outputEl, {childList: true});\n",
       "}}\n",
       "\n",
       "                        })                };                });            </script>        </div>"
      ]
     },
     "metadata": {},
     "output_type": "display_data"
    }
   ],
   "source": [
    "import plotly.express as px\n",
    "px.bar(count_df[count_df['Text']>3000],x='Labels',y='Text')"
   ]
  },
  {
   "cell_type": "code",
   "execution_count": 203,
   "metadata": {},
   "outputs": [],
   "source": [
    "import re\n",
    "\n",
    "def clean_text(x):\n",
    "    pattern = r'[^a-zA-z0-9\\s]'\n",
    "    text = re.sub(pattern, '', x)\n",
    "    return x\n",
    "\n",
    "def clean_numbers(x):\n",
    "    if bool(re.search(r'\\d', x)):\n",
    "        x = re.sub('[0-9]{5,}', '#####', x)\n",
    "        x = re.sub('[0-9]{4}', '####', x)\n",
    "        x = re.sub('[0-9]{3}', '###', x)\n",
    "        x = re.sub('[0-9]{2}', '##', x)\n",
    "    return x"
   ]
  },
  {
   "cell_type": "code",
   "execution_count": 204,
   "metadata": {},
   "outputs": [
    {
     "data": {
      "text/plain": [
       "'this is a text with contraction'"
      ]
     },
     "execution_count": 204,
     "metadata": {},
     "output_type": "execute_result"
    }
   ],
   "source": [
    "\n",
    "contraction_dict = {\"ain't\": \"is not\", \"aren't\": \"are not\",\"can't\": \"cannot\", \"'cause\": \"because\", \"could've\": \"could have\", \"couldn't\": \"could not\", \"didn't\": \"did not\",  \"doesn't\": \"does not\", \"don't\": \"do not\", \"hadn't\": \"had not\", \"hasn't\": \"has not\", \"haven't\": \"have not\", \"he'd\": \"he would\",\"he'll\": \"he will\", \"he's\": \"he is\", \"how'd\": \"how did\", \"how'd'y\": \"how do you\", \"how'll\": \"how will\", \"how's\": \"how is\",  \"I'd\": \"I would\", \"I'd've\": \"I would have\", \"I'll\": \"I will\", \"I'll've\": \"I will have\",\"I'm\": \"I am\", \"I've\": \"I have\", \"i'd\": \"i would\", \"i'd've\": \"i would have\", \"i'll\": \"i will\",  \"i'll've\": \"i will have\",\"i'm\": \"i am\", \"i've\": \"i have\", \"isn't\": \"is not\", \"it'd\": \"it would\", \"it'd've\": \"it would have\", \"it'll\": \"it will\", \"it'll've\": \"it will have\",\"it's\": \"it is\", \"let's\": \"let us\", \"ma'am\": \"madam\", \"mayn't\": \"may not\", \"might've\": \"might have\",\"mightn't\": \"might not\",\"mightn't've\": \"might not have\", \"must've\": \"must have\", \"mustn't\": \"must not\", \"mustn't've\": \"must not have\", \"needn't\": \"need not\", \"needn't've\": \"need not have\",\"o'clock\": \"of the clock\", \"oughtn't\": \"ought not\", \"oughtn't've\": \"ought not have\", \"shan't\": \"shall not\", \"sha'n't\": \"shall not\", \"shan't've\": \"shall not have\", \"she'd\": \"she would\", \"she'd've\": \"she would have\", \"she'll\": \"she will\", \"she'll've\": \"she will have\", \"she's\": \"she is\", \"should've\": \"should have\", \"shouldn't\": \"should not\", \"shouldn't've\": \"should not have\", \"so've\": \"so have\",\"so's\": \"so as\", \"this's\": \"this is\",\"that'd\": \"that would\", \"that'd've\": \"that would have\", \"that's\": \"that is\", \"there'd\": \"there would\", \"there'd've\": \"there would have\", \"there's\": \"there is\", \"here's\": \"here is\",\"they'd\": \"they would\", \"they'd've\": \"they would have\", \"they'll\": \"they will\", \"they'll've\": \"they will have\", \"they're\": \"they are\", \"they've\": \"they have\", \"to've\": \"to have\", \"wasn't\": \"was not\", \"we'd\": \"we would\", \"we'd've\": \"we would have\", \"we'll\": \"we will\", \"we'll've\": \"we will have\", \"we're\": \"we are\", \"we've\": \"we have\", \"weren't\": \"were not\", \"what'll\": \"what will\", \"what'll've\": \"what will have\", \"what're\": \"what are\",  \"what's\": \"what is\", \"what've\": \"what have\", \"when's\": \"when is\", \"when've\": \"when have\", \"where'd\": \"where did\", \"where's\": \"where is\", \"where've\": \"where have\", \"who'll\": \"who will\", \"who'll've\": \"who will have\", \"who's\": \"who is\", \"who've\": \"who have\", \"why's\": \"why is\", \"why've\": \"why have\", \"will've\": \"will have\", \"won't\": \"will not\", \"won't've\": \"will not have\", \"would've\": \"would have\", \"wouldn't\": \"would not\", \"wouldn't've\": \"would not have\", \"y'all\": \"you all\", \"y'all'd\": \"you all would\",\"y'all'd've\": \"you all would have\",\"y'all're\": \"you all are\",\"y'all've\": \"you all have\",\"you'd\": \"you would\", \"you'd've\": \"you would have\", \"you'll\": \"you will\", \"you'll've\": \"you will have\", \"you're\": \"you are\", \"you've\": \"you have\"}\n",
    "def _get_contractions(contraction_dict):\n",
    "    contraction_re = re.compile('(%s)' % '|'.join(contraction_dict.keys()))\n",
    "    return contraction_dict, contraction_re\n",
    "contractions, contractions_re = _get_contractions(contraction_dict)\n",
    "def replace_contractions(text):\n",
    "    def replace(match):\n",
    "        return contractions[match.group(0)]\n",
    "    return contractions_re.sub(replace, text)\n",
    "# Usage\n",
    "replace_contractions(\"this's a text with contraction\")"
   ]
  },
  {
   "cell_type": "code",
   "execution_count": 205,
   "metadata": {},
   "outputs": [],
   "source": [
    "# lower the text\n",
    "data[\"Text\"] = data[\"Text\"].apply(lambda x: x.lower())\n",
    "\n",
    "# Clean the text\n",
    "data[\"Text\"] = data[\"Text\"].apply(lambda x: clean_text(x))\n",
    "\n",
    "# Clean numbers\n",
    "data[\"Text\"] = data[\"Text\"].apply(lambda x: clean_numbers(x))\n",
    "\n",
    "# Clean Contractions\n",
    "data[\"Text\"] = data[\"Text\"].apply(lambda x: replace_contractions(x))"
   ]
  },
  {
   "cell_type": "code",
   "execution_count": 206,
   "metadata": {},
   "outputs": [
    {
     "data": {
      "text/html": [
       "<div>\n",
       "<style scoped>\n",
       "    .dataframe tbody tr th:only-of-type {\n",
       "        vertical-align: middle;\n",
       "    }\n",
       "\n",
       "    .dataframe tbody tr th {\n",
       "        vertical-align: top;\n",
       "    }\n",
       "\n",
       "    .dataframe thead th {\n",
       "        text-align: right;\n",
       "    }\n",
       "</style>\n",
       "<table border=\"1\" class=\"dataframe\">\n",
       "  <thead>\n",
       "    <tr style=\"text-align: right;\">\n",
       "      <th></th>\n",
       "      <th>Text</th>\n",
       "      <th>Labels</th>\n",
       "      <th>len</th>\n",
       "    </tr>\n",
       "  </thead>\n",
       "  <tbody>\n",
       "    <tr>\n",
       "      <th>0</th>\n",
       "      <td>\\n#####\\nhlgmc\\n#####\\n#####\\n##/##/#### ##:##...</td>\n",
       "      <td>SMOKER</td>\n",
       "      <td>3855</td>\n",
       "    </tr>\n",
       "    <tr>\n",
       "      <th>1</th>\n",
       "      <td>\\n#####\\ncmc\\n#####\\n3/##/#### ##:##:## am\\nme...</td>\n",
       "      <td>SMOKER</td>\n",
       "      <td>4985</td>\n",
       "    </tr>\n",
       "    <tr>\n",
       "      <th>2</th>\n",
       "      <td>\\n#####\\nbh\\n#####\\n#####\\n##/##/#### ##:##:##...</td>\n",
       "      <td>SMOKER</td>\n",
       "      <td>7926</td>\n",
       "    </tr>\n",
       "    <tr>\n",
       "      <th>3</th>\n",
       "      <td>\\n#####\\nnvh\\n#####\\n3/##/#### ##:##:## am\\ndi...</td>\n",
       "      <td>SMOKER</td>\n",
       "      <td>8872</td>\n",
       "    </tr>\n",
       "    <tr>\n",
       "      <th>4</th>\n",
       "      <td>\\n#####\\nctmc\\n#####\\n#####\\n1/##/#### ##:##:#...</td>\n",
       "      <td>SMOKER</td>\n",
       "      <td>3087</td>\n",
       "    </tr>\n",
       "  </tbody>\n",
       "</table>\n",
       "</div>"
      ],
      "text/plain": [
       "                                                Text  Labels   len\n",
       "0  \\n#####\\nhlgmc\\n#####\\n#####\\n##/##/#### ##:##...  SMOKER  3855\n",
       "1  \\n#####\\ncmc\\n#####\\n3/##/#### ##:##:## am\\nme...  SMOKER  4985\n",
       "2  \\n#####\\nbh\\n#####\\n#####\\n##/##/#### ##:##:##...  SMOKER  7926\n",
       "3  \\n#####\\nnvh\\n#####\\n3/##/#### ##:##:## am\\ndi...  SMOKER  8872\n",
       "4  \\n#####\\nctmc\\n#####\\n#####\\n1/##/#### ##:##:#...  SMOKER  3087"
      ]
     },
     "execution_count": 206,
     "metadata": {},
     "output_type": "execute_result"
    }
   ],
   "source": [
    "data.head()"
   ]
  },
  {
   "cell_type": "code",
   "execution_count": 207,
   "metadata": {},
   "outputs": [
    {
     "data": {
      "text/plain": [
       "(146, 3)"
      ]
     },
     "execution_count": 207,
     "metadata": {},
     "output_type": "execute_result"
    }
   ],
   "source": [
    "data['Labels'].unique()\n",
    "data.shape"
   ]
  },
  {
   "cell_type": "code",
   "execution_count": 208,
   "metadata": {},
   "outputs": [
    {
     "data": {
      "text/html": [
       "<div>\n",
       "<style scoped>\n",
       "    .dataframe tbody tr th:only-of-type {\n",
       "        vertical-align: middle;\n",
       "    }\n",
       "\n",
       "    .dataframe tbody tr th {\n",
       "        vertical-align: top;\n",
       "    }\n",
       "\n",
       "    .dataframe thead th {\n",
       "        text-align: right;\n",
       "    }\n",
       "</style>\n",
       "<table border=\"1\" class=\"dataframe\">\n",
       "  <thead>\n",
       "    <tr style=\"text-align: right;\">\n",
       "      <th></th>\n",
       "      <th>Text</th>\n",
       "      <th>Labels</th>\n",
       "      <th>len</th>\n",
       "    </tr>\n",
       "  </thead>\n",
       "  <tbody>\n",
       "    <tr>\n",
       "      <th>0</th>\n",
       "      <td>\\n#####\\nhlgmc\\n#####\\n#####\\n##/##/#### ##:##...</td>\n",
       "      <td>SMOKER</td>\n",
       "      <td>3855</td>\n",
       "    </tr>\n",
       "    <tr>\n",
       "      <th>1</th>\n",
       "      <td>\\n#####\\ncmc\\n#####\\n3/##/#### ##:##:## am\\nme...</td>\n",
       "      <td>SMOKER</td>\n",
       "      <td>4985</td>\n",
       "    </tr>\n",
       "    <tr>\n",
       "      <th>2</th>\n",
       "      <td>\\n#####\\nbh\\n#####\\n#####\\n##/##/#### ##:##:##...</td>\n",
       "      <td>SMOKER</td>\n",
       "      <td>7926</td>\n",
       "    </tr>\n",
       "    <tr>\n",
       "      <th>3</th>\n",
       "      <td>\\n#####\\nnvh\\n#####\\n3/##/#### ##:##:## am\\ndi...</td>\n",
       "      <td>SMOKER</td>\n",
       "      <td>8872</td>\n",
       "    </tr>\n",
       "    <tr>\n",
       "      <th>4</th>\n",
       "      <td>\\n#####\\nctmc\\n#####\\n#####\\n1/##/#### ##:##:#...</td>\n",
       "      <td>SMOKER</td>\n",
       "      <td>3087</td>\n",
       "    </tr>\n",
       "  </tbody>\n",
       "</table>\n",
       "</div>"
      ],
      "text/plain": [
       "                                                Text  Labels   len\n",
       "0  \\n#####\\nhlgmc\\n#####\\n#####\\n##/##/#### ##:##...  SMOKER  3855\n",
       "1  \\n#####\\ncmc\\n#####\\n3/##/#### ##:##:## am\\nme...  SMOKER  4985\n",
       "2  \\n#####\\nbh\\n#####\\n#####\\n##/##/#### ##:##:##...  SMOKER  7926\n",
       "3  \\n#####\\nnvh\\n#####\\n3/##/#### ##:##:## am\\ndi...  SMOKER  8872\n",
       "4  \\n#####\\nctmc\\n#####\\n#####\\n1/##/#### ##:##:#...  SMOKER  3087"
      ]
     },
     "execution_count": 208,
     "metadata": {},
     "output_type": "execute_result"
    }
   ],
   "source": [
    "data_nonsmoker=data[data['Labels']==\"SMOKER\"]\n",
    "data_nonsmoker.head()"
   ]
  },
  {
   "cell_type": "code",
   "execution_count": 209,
   "metadata": {},
   "outputs": [],
   "source": [
    "# import nltk\n",
    "# nltk.download('punkt')\n",
    "# # text = \"I do not like green eggs and ham. I do like them Sam-I-am.\"\n",
    "# text=data_nonsmoker.Text.to_list()\n",
    "# print(text.__len__())\n",
    "# a_list = nltk.tokenize.sent_tokenize(text[5])\n",
    "\n",
    "# print(a_list)"
   ]
  },
  {
   "cell_type": "code",
   "execution_count": 210,
   "metadata": {},
   "outputs": [
    {
     "data": {
      "text/plain": [
       "str"
      ]
     },
     "execution_count": 210,
     "metadata": {},
     "output_type": "execute_result"
    }
   ],
   "source": [
    "x_test=data.Text.to_list()\n",
    "y_test=data.Labels.to_list()\n",
    "x_test[1].__class__"
   ]
  },
  {
   "cell_type": "code",
   "execution_count": 211,
   "metadata": {},
   "outputs": [],
   "source": [
    "# test_occurrences = collections.Counter(y_test)\n",
    "# test_occurrences=dict(test_occurrences)\n",
    "# print(test_occurrences)"
   ]
  },
  {
   "cell_type": "code",
   "execution_count": null,
   "metadata": {},
   "outputs": [],
   "source": []
  },
  {
   "cell_type": "code",
   "execution_count": null,
   "metadata": {},
   "outputs": [],
   "source": []
  },
  {
   "cell_type": "markdown",
   "metadata": {
    "id": "h40NMlRG5qWE"
   },
   "source": [
    "# BERT\n",
    "OpenPrompt"
   ]
  },
  {
   "cell_type": "code",
   "execution_count": 212,
   "metadata": {
    "id": "rHra-taOa7_R"
   },
   "outputs": [],
   "source": [
    "import openprompt.plms as plms\n",
    "from openprompt.plms.mlm import MLMTokenizerWrapper\n",
    "from transformers import BertConfig, BertForMaskedLM, BertTokenizer"
   ]
  },
  {
   "cell_type": "code",
   "execution_count": 213,
   "metadata": {
    "id": "OZWrokM5cF8I"
   },
   "outputs": [],
   "source": [
    "plms._MODEL_CLASSES['bert'] = plms.ModelClass(**{\n",
    "    'config': BertConfig,\n",
    "    'tokenizer': BertTokenizer,\n",
    "    'model':BertForMaskedLM,\n",
    "    'wrapper': MLMTokenizerWrapper,\n",
    "})"
   ]
  },
  {
   "cell_type": "code",
   "execution_count": 214,
   "metadata": {
    "id": "gsxMMn8pdQx2"
   },
   "outputs": [
    {
     "data": {
      "text/plain": [
       "{'bert': ModelClass(config=<class 'transformers.models.bert.configuration_bert.BertConfig'>, tokenizer=<class 'transformers.models.bert.tokenization_bert.BertTokenizer'>, model=<class 'transformers.models.bert.modeling_bert.BertForMaskedLM'>, wrapper=<class 'openprompt.plms.mlm.MLMTokenizerWrapper'>),\n",
       " 'roberta': ModelClass(config=<class 'transformers.models.roberta.configuration_roberta.RobertaConfig'>, tokenizer=<class 'transformers.models.roberta.tokenization_roberta.RobertaTokenizer'>, model=<class 'transformers.models.roberta.modeling_roberta.RobertaForMaskedLM'>, wrapper=<class 'openprompt.plms.mlm.MLMTokenizerWrapper'>),\n",
       " 'albert': ModelClass(config=<class 'transformers.models.albert.configuration_albert.AlbertConfig'>, tokenizer=<class 'transformers.models.albert.tokenization_albert.AlbertTokenizer'>, model=<class 'transformers.models.albert.modeling_albert.AlbertForMaskedLM'>, wrapper=<class 'openprompt.plms.mlm.MLMTokenizerWrapper'>),\n",
       " 'gpt': ModelClass(config=<class 'transformers.models.openai.configuration_openai.OpenAIGPTConfig'>, tokenizer=<class 'transformers.models.openai.tokenization_openai.OpenAIGPTTokenizer'>, model=<class 'transformers.models.openai.modeling_openai.OpenAIGPTLMHeadModel'>, wrapper=<class 'openprompt.plms.lm.LMTokenizerWrapper'>),\n",
       " 'gpt2': ModelClass(config=<class 'transformers.models.gpt2.configuration_gpt2.GPT2Config'>, tokenizer=<class 'transformers.models.gpt2.tokenization_gpt2.GPT2Tokenizer'>, model=<class 'transformers.models.gpt2.modeling_gpt2.GPT2LMHeadModel'>, wrapper=<class 'openprompt.plms.lm.LMTokenizerWrapper'>),\n",
       " 't5': ModelClass(config=<class 'transformers.models.t5.configuration_t5.T5Config'>, tokenizer=<class 'transformers.models.t5.tokenization_t5.T5Tokenizer'>, model=<class 'transformers.models.t5.modeling_t5.T5ForConditionalGeneration'>, wrapper=<class 'openprompt.plms.seq2seq.T5TokenizerWrapper'>),\n",
       " 't5-lm': ModelClass(config=<class 'transformers.models.t5.configuration_t5.T5Config'>, tokenizer=<class 'transformers.models.t5.tokenization_t5.T5Tokenizer'>, model=<class 'transformers.models.t5.modeling_t5.T5ForConditionalGeneration'>, wrapper=<class 'openprompt.plms.seq2seq.T5LMTokenizerWrapper'>)}"
      ]
     },
     "execution_count": 214,
     "metadata": {},
     "output_type": "execute_result"
    }
   ],
   "source": [
    "plms._MODEL_CLASSES"
   ]
  },
  {
   "cell_type": "markdown",
   "metadata": {
    "id": "lqqf6NKRKVgI"
   },
   "source": [
    "# PROMPT Function\n"
   ]
  },
  {
   "cell_type": "code",
   "execution_count": 215,
   "metadata": {
    "id": "YnhS5PiJJuPM"
   },
   "outputs": [],
   "source": [
    "\n",
    "def prompt_classification(text):\n",
    "    classes = [ \n",
    "        \"SMOKER\",\n",
    "        \"NON-SMOKER\",\n",
    "    ]\n",
    "#     print(text)\n",
    "\n",
    "    dataset = [ \n",
    "          InputExample(\n",
    "    #         guid = 0,\n",
    "            text_a =text\n",
    "#               \"Asthma affects lungs  and can be hard to diagnose. The signs of asthma can seem like the signs of COPD, pneumonia, bronchitis, pulmonary embolism, anxiety, and heart disease.\", #lung\n",
    "        ),\n",
    "    #     InputExample(\n",
    "    #         guid = 1,\n",
    "    #         text_a = \"COVID-19 is caused by a coronavirus called SARS-CoV-2\", #virus\n",
    "    #     ),\n",
    "    #     InputExample(\n",
    "    #         guid = 2,\n",
    "    #         text_a = \"When your brain is damaged, it can affect many different things, including your memory, your sensation, and even your personality. Brain disorders include any conditions or disabilities that affect your brain.\", #brain\n",
    "    #     ),\n",
    "    #     InputExample(\n",
    "    #         guid = 3,\n",
    "    #         text_a = \"Symptoms may appear 2-14 days after exposure to the virus\", #virus\n",
    "    #     ),\n",
    "#             InputExample(\n",
    "#     #         guid = 4,\n",
    "#             text_a = \"\"\"Neurodegenerative diseases cause your brain and nerves to deteriorate over time. They can change your personality and cause confusion. They can also destroy your brain’s tissue and nerves.\n",
    "\n",
    "#     Some brain diseases, such as Alzheimer’s disease, may develop as you age. \"\"\", #brain\n",
    "#         ),\n",
    "    ]\n",
    "\n",
    "\n",
    "#     plm, tokenizer, model_config, WrapperClass = load_plm_fn()\n",
    "\n",
    "\n",
    "    # template_text = '{\"placeholder\":\"text_a\"}: This effects {\"mask\"}'\n",
    "    template_text= 'A {\"mask\"} disorder :  {\"placeholder\": \"text_a\"}'\n",
    "\n",
    "    promptTemplate = ManualTemplate(\n",
    "        text = template_text,\n",
    "        tokenizer = tokenizer,\n",
    "    )\n",
    "\n",
    "    promptVerbalizer = ManualVerbalizer(\n",
    "        classes = classes,\n",
    "        label_words = {\n",
    "            \"SMOKER\": [\"cigar smoker\", \"tobacco user\", \"pipe smoker\", \"chain-smoker\"],\n",
    "            \"NON-SMOKER\": [\"person who does not smoke tobacco\", \"non-smoker\"\n",
    "                           \"nonsmoker\", \"ex-smoker\", \"never-smoker\"] #\"healthy\", \n",
    "        },\n",
    "        tokenizer = tokenizer,\n",
    "    )\n",
    "\n",
    "    promptModel = PromptForClassification(\n",
    "        template = promptTemplate,\n",
    "        plm = plm,\n",
    "        verbalizer = promptVerbalizer\n",
    "    )\n",
    "\n",
    "\n",
    "    data_loader = PromptDataLoader(\n",
    "        dataset = dataset,\n",
    "        tokenizer = tokenizer, \n",
    "        template = promptTemplate, \n",
    "        tokenizer_wrapper_class=WrapperClass,\n",
    "        max_seq_length=256, decoder_max_length=3, \n",
    "        batch_size=1,shuffle=False, teacher_forcing=False, predict_eos_token=False,\n",
    "        truncate_method=\"head\"\n",
    "    )\n",
    "\n",
    "    promptModel.eval()\n",
    "    with torch.no_grad():\n",
    "        for batch in data_loader:\n",
    "            logits = promptModel(batch)\n",
    "    #         print(logits)\n",
    "            preds = torch.argmax(logits, dim = -1)\n",
    "#             print(classes[preds])\n",
    "            \n",
    "    return classes[preds]\n",
    "\n",
    "\n"
   ]
  },
  {
   "cell_type": "code",
   "execution_count": 216,
   "metadata": {},
   "outputs": [],
   "source": [
    "# import collections\n",
    "# import nltk\n",
    "# nltk.download('punkt')\n",
    "\n",
    "# def prompt_classification_weighted(text):\n",
    "\n",
    "#     #convert to list\n",
    "#     # text = \"I do not like green eggs and ham. I do like them Sam-I-am.\"\n",
    "#     a_list = nltk.tokenize.sent_tokenize(text)\n",
    "# #     print(a_list)\n",
    "# #     print(a_list.__len__())\n",
    "#     y_pred=[]\n",
    "#     for x  in a_list:\n",
    "#         pred_label=prompt_classification(x)\n",
    "#     #     print(pred_label)\n",
    "#         y_pred.append(pred_label)\n",
    "    \n",
    "# #     print(y_pred.__len__())\n",
    "    \n",
    "#     # Weighted prediction\n",
    "#     weight=0.1\n",
    "#     occurrences = collections.Counter(y_pred)\n",
    "#     occurrences=dict(occurrences)\n",
    "# #     print(occurrences)\n",
    "#     ## CHANGE CMOKER TO CLASS 1\n",
    "#     if occurrences.get(\"SMOKER\", 0) > (weight*occurrences[\"NON-SMOKER\"]):\n",
    "#         print(\"SMOKER\")\n",
    "#         return \"SMOKER\"\n",
    "#     else:\n",
    "#         print(\"NON-SMOKER\")\n",
    "#         return \"NON-SMOKER\"\n"
   ]
  },
  {
   "cell_type": "code",
   "execution_count": 217,
   "metadata": {},
   "outputs": [
    {
     "name": "stderr",
     "output_type": "stream",
     "text": [
      "Some weights of the model checkpoint at emilyalsentzer/Bio_ClinicalBERT were not used when initializing BertForMaskedLM: ['cls.seq_relationship.bias', 'cls.seq_relationship.weight']\n",
      "- This IS expected if you are initializing BertForMaskedLM from the checkpoint of a model trained on another task or with another architecture (e.g. initializing a BertForSequenceClassification model from a BertForPreTraining model).\n",
      "- This IS NOT expected if you are initializing BertForMaskedLM from the checkpoint of a model that you expect to be exactly identical (initializing a BertForSequenceClassification model from a BertForSequenceClassification model).\n"
     ]
    }
   ],
   "source": [
    "#if __name__ == \"__main__\":\n",
    "    \n",
    "#     st.title(\"HealthPrompt: Classifying clinical texts\")\n",
    "#     st.write(\"Upload Clinical text, Classify it..\")\n",
    "\n",
    "#     @st.cache(allow_output_mutation=True)\n",
    "def load_plm_fn():\n",
    "#         plm, tokenizer, model_config, WrapperClass = load_plm(\"bert\", \"bert-base-uncased\")\n",
    "         plm, tokenizer, model_config, WrapperClass = load_plm(\"bert\", \"emilyalsentzer/Bio_ClinicalBERT\")\n",
    "#        plm, tokenizer, model_config, WrapperClass = load_plm(\"bert\", \"dmis-lab/biobert-v1.1\")\n",
    "#         plm, tokenizer, model_config, WrapperClass = load_plm(\"bert\", \"mrm8488/bioclinicalBERT-finetuned-covid-papers\")\n",
    "         return plm, tokenizer, model_config, WrapperClass\n",
    "    \n",
    "#     with st.spinner(\"Loading PLM into memory...\"):\n",
    "plm, tokenizer, model_config, WrapperClass = load_plm_fn()\n",
    "        \n",
    "#     text = st.text_input('Enter the clinical text here: ')\n",
    "        \n",
    "#     if text:\n",
    "#         st.write(\"Response: \")\n",
    "#         with st.spinner(\"Searching for classes..\"):\n",
    "#             res=prompt_classification(text)\n",
    "#             st.write(\"Class : {} - disease\".format(res))\n",
    "#         st.write(\"\")\n",
    "\n",
    "# res=prompt_classification(text)"
   ]
  },
  {
   "cell_type": "code",
   "execution_count": 218,
   "metadata": {},
   "outputs": [],
   "source": [
    "# pred_label=prompt_classification_weighted(x_test[40])"
   ]
  },
  {
   "cell_type": "code",
   "execution_count": 219,
   "metadata": {},
   "outputs": [
    {
     "name": "stderr",
     "output_type": "stream",
     "text": [
      "tokenizing: 1it [00:00, 51.32it/s]\n",
      "tokenizing: 1it [00:00, 25.86it/s]\n",
      "tokenizing: 1it [00:00, 13.51it/s]\n",
      "tokenizing: 1it [00:00,  9.62it/s]\n",
      "tokenizing: 1it [00:00, 59.71it/s]\n",
      "tokenizing: 1it [00:00, 21.78it/s]\n",
      "tokenizing: 1it [00:00, 36.38it/s]\n",
      "tokenizing: 1it [00:00, 16.96it/s]\n",
      "tokenizing: 1it [00:00, 21.64it/s]\n",
      "tokenizing: 1it [00:00, 16.63it/s]\n",
      "tokenizing: 1it [00:00, 20.59it/s]\n",
      "tokenizing: 1it [00:00,  9.29it/s]\n",
      "tokenizing: 1it [00:00, 11.59it/s]\n",
      "tokenizing: 1it [00:00, 11.64it/s]\n",
      "tokenizing: 1it [00:00, 17.09it/s]\n",
      "tokenizing: 1it [00:00, 15.89it/s]\n",
      "tokenizing: 1it [00:00, 83.83it/s]\n",
      "tokenizing: 1it [00:00, 11.05it/s]\n",
      "tokenizing: 1it [00:00, 14.51it/s]\n",
      "tokenizing: 1it [00:00, 19.60it/s]\n",
      "tokenizing: 1it [00:00, 35.62it/s]\n",
      "tokenizing: 1it [00:00, 15.65it/s]\n",
      "tokenizing: 1it [00:00, 115.01it/s]\n",
      "tokenizing: 1it [00:00, 26.45it/s]\n",
      "tokenizing: 1it [00:00, 20.81it/s]\n",
      "tokenizing: 1it [00:00, 11.03it/s]\n",
      "tokenizing: 1it [00:00,  9.16it/s]\n",
      "tokenizing: 1it [00:00, 11.81it/s]\n",
      "tokenizing: 1it [00:00, 18.42it/s]\n",
      "tokenizing: 1it [00:00, 22.82it/s]\n",
      "tokenizing: 1it [00:00, 17.07it/s]\n",
      "tokenizing: 1it [00:00, 18.50it/s]\n",
      "tokenizing: 1it [00:00, 11.51it/s]\n",
      "tokenizing: 1it [00:00, 20.59it/s]\n",
      "tokenizing: 1it [00:00, 17.40it/s]\n",
      "tokenizing: 1it [00:00, 25.63it/s]\n",
      "tokenizing: 1it [00:00, 14.31it/s]\n",
      "tokenizing: 1it [00:00, 20.64it/s]\n",
      "tokenizing: 1it [00:00, 27.41it/s]\n",
      "tokenizing: 1it [00:00, 14.16it/s]\n",
      "tokenizing: 1it [00:00, 48.17it/s]\n",
      "tokenizing: 1it [00:00, 14.15it/s]\n",
      "tokenizing: 1it [00:00, 36.01it/s]\n",
      "tokenizing: 1it [00:00, 17.36it/s]\n",
      "tokenizing: 1it [00:00, 16.05it/s]\n",
      "tokenizing: 1it [00:00, 34.28it/s]\n",
      "tokenizing: 1it [00:00, 11.67it/s]\n",
      "tokenizing: 1it [00:00, 30.51it/s]\n",
      "tokenizing: 1it [00:00, 38.66it/s]\n",
      "tokenizing: 1it [00:00, 34.14it/s]\n",
      "tokenizing: 1it [00:00, 34.88it/s]\n",
      "tokenizing: 1it [00:00, 32.43it/s]\n",
      "tokenizing: 1it [00:00, 29.86it/s]\n",
      "tokenizing: 1it [00:00, 24.91it/s]\n",
      "tokenizing: 1it [00:00, 36.80it/s]\n",
      "tokenizing: 1it [00:00, 12.75it/s]\n",
      "tokenizing: 1it [00:00, 31.63it/s]\n",
      "tokenizing: 1it [00:00, 30.68it/s]\n",
      "tokenizing: 1it [00:00, 33.74it/s]\n",
      "tokenizing: 1it [00:00, 11.66it/s]\n",
      "tokenizing: 1it [00:00, 110.14it/s]\n",
      "tokenizing: 1it [00:00, 17.25it/s]\n",
      "tokenizing: 1it [00:00, 37.88it/s]\n",
      "tokenizing: 1it [00:00, 14.95it/s]\n",
      "tokenizing: 1it [00:00, 14.25it/s]\n",
      "tokenizing: 1it [00:00, 18.04it/s]\n",
      "tokenizing: 1it [00:00, 28.37it/s]\n",
      "tokenizing: 1it [00:00, 28.01it/s]\n",
      "tokenizing: 1it [00:00, 26.60it/s]\n",
      "tokenizing: 1it [00:00, 22.24it/s]\n",
      "tokenizing: 1it [00:00, 23.93it/s]\n",
      "tokenizing: 1it [00:00, 36.16it/s]\n",
      "tokenizing: 1it [00:00, 23.12it/s]\n",
      "tokenizing: 1it [00:00, 24.62it/s]\n",
      "tokenizing: 1it [00:00, 10.63it/s]\n",
      "tokenizing: 1it [00:00, 16.45it/s]\n",
      "tokenizing: 1it [00:00, 17.14it/s]\n",
      "tokenizing: 1it [00:00, 31.47it/s]\n",
      "tokenizing: 1it [00:00, 18.23it/s]\n",
      "tokenizing: 1it [00:00, 35.01it/s]\n",
      "tokenizing: 1it [00:00, 13.06it/s]\n",
      "tokenizing: 1it [00:00, 11.71it/s]\n",
      "tokenizing: 1it [00:00, 13.96it/s]\n",
      "tokenizing: 1it [00:00, 33.19it/s]\n",
      "tokenizing: 1it [00:00, 15.78it/s]\n",
      "tokenizing: 1it [00:00, 10.82it/s]\n",
      "tokenizing: 1it [00:00, 11.06it/s]\n",
      "tokenizing: 1it [00:00, 25.79it/s]\n",
      "tokenizing: 1it [00:00, 28.29it/s]\n",
      "tokenizing: 1it [00:00, 31.51it/s]\n",
      "tokenizing: 1it [00:00, 17.90it/s]\n",
      "tokenizing: 1it [00:00, 16.76it/s]\n",
      "tokenizing: 1it [00:00,  9.99it/s]\n",
      "tokenizing: 1it [00:00, 11.44it/s]\n",
      "tokenizing: 1it [00:00, 16.50it/s]\n",
      "tokenizing: 1it [00:00, 28.25it/s]\n",
      "tokenizing: 1it [00:00,  8.72it/s]\n",
      "tokenizing: 1it [00:00, 30.19it/s]\n",
      "tokenizing: 1it [00:00, 12.88it/s]\n",
      "tokenizing: 1it [00:00, 19.78it/s]\n",
      "tokenizing: 1it [00:00,  9.50it/s]\n",
      "tokenizing: 1it [00:00, 16.29it/s]\n",
      "tokenizing: 1it [00:00, 18.83it/s]\n",
      "tokenizing: 1it [00:00, 34.22it/s]\n",
      "tokenizing: 1it [00:00, 12.89it/s]\n",
      "tokenizing: 1it [00:00, 28.32it/s]\n",
      "tokenizing: 1it [00:00, 16.70it/s]\n",
      "tokenizing: 1it [00:00, 12.83it/s]\n",
      "tokenizing: 1it [00:00, 16.51it/s]\n",
      "tokenizing: 1it [00:00, 16.50it/s]\n",
      "tokenizing: 1it [00:00, 18.13it/s]\n",
      "tokenizing: 1it [00:00, 15.07it/s]\n",
      "tokenizing: 1it [00:00, 12.58it/s]\n",
      "tokenizing: 1it [00:00, 18.22it/s]\n",
      "tokenizing: 1it [00:00, 25.73it/s]\n",
      "tokenizing: 1it [00:00, 11.02it/s]\n",
      "tokenizing: 1it [00:00, 27.42it/s]\n",
      "tokenizing: 1it [00:00, 11.36it/s]\n",
      "tokenizing: 1it [00:00, 26.16it/s]\n",
      "tokenizing: 1it [00:00,  7.79it/s]\n",
      "tokenizing: 1it [00:00, 15.93it/s]\n",
      "tokenizing: 1it [00:00, 14.70it/s]\n",
      "tokenizing: 1it [00:00,  7.49it/s]\n",
      "tokenizing: 1it [00:00,  8.50it/s]\n",
      "tokenizing: 1it [00:00, 17.39it/s]\n",
      "tokenizing: 1it [00:00, 92.13it/s]\n",
      "tokenizing: 1it [00:00, 30.29it/s]\n",
      "tokenizing: 1it [00:00, 37.90it/s]\n",
      "tokenizing: 1it [00:00, 36.39it/s]\n",
      "tokenizing: 1it [00:00, 36.23it/s]\n",
      "tokenizing: 1it [00:00, 24.56it/s]\n",
      "tokenizing: 1it [00:00, 16.55it/s]\n",
      "tokenizing: 1it [00:00, 29.40it/s]\n",
      "tokenizing: 1it [00:00, 29.27it/s]\n",
      "tokenizing: 1it [00:00, 26.17it/s]\n",
      "tokenizing: 1it [00:00, 17.36it/s]\n",
      "tokenizing: 1it [00:00, 18.60it/s]\n",
      "tokenizing: 1it [00:00, 40.68it/s]\n",
      "tokenizing: 1it [00:00, 11.91it/s]\n",
      "tokenizing: 1it [00:00, 18.66it/s]\n",
      "tokenizing: 1it [00:00, 35.41it/s]\n",
      "tokenizing: 1it [00:00, 12.66it/s]\n",
      "tokenizing: 1it [00:00, 52.93it/s]\n",
      "tokenizing: 1it [00:00, 27.48it/s]\n",
      "tokenizing: 1it [00:00, 12.79it/s]\n",
      "tokenizing: 1it [00:00, 19.31it/s]\n"
     ]
    },
    {
     "data": {
      "text/plain": [
       "146"
      ]
     },
     "execution_count": 219,
     "metadata": {},
     "output_type": "execute_result"
    }
   ],
   "source": [
    "y_pred=[]\n",
    "for x in x_test:\n",
    "# for x  in a_list:\n",
    "    pred_label=prompt_classification(x)\n",
    "#     print(pred_label)\n",
    "    y_pred.append(pred_label)\n",
    "    \n",
    "y_pred.__len__()"
   ]
  },
  {
   "cell_type": "code",
   "execution_count": 220,
   "metadata": {},
   "outputs": [
    {
     "name": "stdout",
     "output_type": "stream",
     "text": [
      "NON-SMOKER\n",
      "\n",
      "#####\n",
      "ctmc\n",
      "#####\n",
      "#####\n",
      "1/##/#### ##:##:## am\n",
      "discharge summary\n",
      "unsigned\n",
      "dis\n",
      "admission date :\n",
      "##/##/####\n",
      "report status :\n",
      "unsigned\n",
      "discharge date :\n",
      "##/##/####\n",
      "history of present illness :\n",
      "this is the second stamgibonnole hospital admission for this ## year old woman with a history of hypertension crest syndrome , bilateral dvt , status post mi #### , with recurrent angina in #### .\n",
      "catheterization report in #### showed subtotal occlusion of the rca with a high grade lad lesion .\n",
      "the patient has had increasing frequency of angina with exertion .\n",
      "she was referred for laser angiography in ##/## , but it was not done secondasry to extent of disease .\n",
      "cath report showed ##% ulcerated lad , ###% circumflex , ###% rca , inferior posterior , focal inferior apical o.k. ef ##% .\n",
      "past medical history :\n",
      "significant for as above , hypertension , crest , scleroderma , reynaud 's , esophagitis , telangectasia and calcinosis .\n",
      "she is status post bilateral dvt 's in ####'s and ####'s , treated with heparin and coumadin .\n",
      "she has a history of lymphangitis left arm .\n",
      "history of migraine , history of left shoulder bursitis .\n",
      "she has never been on steroids .\n",
      "past surgical history :\n",
      "status post tubal ligation , appendectomy .\n",
      "medications :\n",
      "dilt ## b.i.d. , lopressor ## b.i.d. , motrin ### t.i.d. decreased from q.i.d. , zantac prn .\n",
      "allergies are morphine causes hives .\n",
      "social history :\n",
      "she drinks alcohol 2-3 times per week .\n",
      "1-2 packs per day .\n",
      "hospital course :\n",
      "the patient underwent coronary artery bypass grafting x 2 with bilateral mammary arteries on 1/##/## .\n",
      "lma to rca , lma to lad .\n",
      "the patient was without operative complications .\n",
      "she was admitted to tng for blood pressure control .\n",
      "she was extubated on day 1 post-operatively and diuresis was initiated .\n",
      "she continued to do well .\n",
      "she was taken off nifedipine and continued on lopressor .\n",
      "on martin luther king day she was noted to be in and out of atrial fibrillation without symptoms .\n",
      "she was continued on lopressor ## b.i.d.\n",
      "it was recommended that her lopressor dose be increased to ## b.i.d.\n",
      "her chest tubes were kept in post-operatively due to a large output .\n",
      "chest x-ray showed bilateral pneumothorax , very small apical pneumothoraxes , several days post-operatively .\n",
      "the chest tubes were maintained until 1/##/## , at which time they were pulled sequentially .\n",
      "she was digitalized and due to refractory a-fib on the lopressor dose and the atrial fibrillation resolved .\n",
      "she is currently in sinus rhythm at a rate of high ##'s .\n",
      "she was assessed by holter and the results are pending as well as echo to assess lv function .\n",
      "results are pending .\n",
      "she is to be discharged on 1/##/## without her digitalis per recommendations of cardiology .\n",
      "disposition :\n",
      "meds on discharge are ecotrin 1 tab q.d. , motrin ### mg q.i.d. , lopressor ### mg b.i.d.\n",
      "she may or may not be started again on a low daily lasix dose of ## mg q.d.\n",
      "________________________________ lw###/#### rashanemar s. shingles , m.d. fz5\n",
      "d :\n",
      "##/##/##\n",
      "batch :\n",
      "####\n",
      "report :\n",
      "a####b1\n",
      "t :\n",
      "##/##/##\n",
      "dicatated by :\n",
      "eldjoh large , m.d.\n",
      "[ report_end ]\n",
      "\n"
     ]
    }
   ],
   "source": [
    "# import collections\n",
    "# weight=0.1\n",
    "# occurrences = collections.Counter(y_pred)\n",
    "# occurrences=dict(occurrences)\n",
    "# print(occurrences)\n",
    "# ## CHANGE CMOKER TO CLASS 1\n",
    "# if occurrences[\"SMOKER\"] > (weight*occurrences[\"NON-SMOKER\"]):\n",
    "#     print(\"SMOKER\")\n",
    "# else:\n",
    "#     print(\"NON-SMOKER\")\n",
    "\n",
    "print(y_pred[4])\n",
    "print(x_test[4])"
   ]
  },
  {
   "cell_type": "code",
   "execution_count": 221,
   "metadata": {
    "id": "YT4WwqpYK1Z0"
   },
   "outputs": [],
   "source": [
    "# # makcollectionszero-shot inference using pretrained MLM with prompt\n",
    "# import torch\n",
    "# promptModel.eval()\n",
    "# with torch.no_grad():\n",
    "#     for batch in data_loader:\n",
    "#         logits = promptModel(batch)\n",
    "#         print(logits)\n",
    "#         preds = torch.argmax(logits, dim = -1)\n",
    "        \n",
    "#         print(classes[preds])\n",
    "# # predictions would be 1, 0 for classes 'positive', 'negative'\n"
   ]
  },
  {
   "cell_type": "code",
   "execution_count": 222,
   "metadata": {
    "id": "RsY1V4xFQvIw"
   },
   "outputs": [
    {
     "name": "stdout",
     "output_type": "stream",
     "text": [
      "[[66  0]\n",
      " [80  0]]\n",
      "Classification accuracy is:  0.4520547945205479\n"
     ]
    }
   ],
   "source": [
    "from sklearn.metrics import confusion_matrix\n",
    "import numpy as np\n",
    "confusion = confusion_matrix(y_test, y_pred)\n",
    "print(confusion)\n",
    "print(\"Classification accuracy is: \", (confusion[0][0] + confusion[1][1]) / np.sum(confusion))"
   ]
  },
  {
   "cell_type": "code",
   "execution_count": 223,
   "metadata": {},
   "outputs": [],
   "source": [
    "y_test = [1 if i=='SMOKER' else 0 for i in y_test]\n",
    "y_pred = [1 if i=='SMOKER' else 0 for i in y_pred]"
   ]
  },
  {
   "cell_type": "code",
   "execution_count": 224,
   "metadata": {},
   "outputs": [
    {
     "name": "stderr",
     "output_type": "stream",
     "text": [
      "/ihome/yanshanwang/sos86/.local/lib/python3.8/site-packages/sklearn/metrics/_ranking.py:999: UndefinedMetricWarning:\n",
      "\n",
      "No positive samples in y_true, true positive value should be meaningless\n",
      "\n"
     ]
    },
    {
     "name": "stdout",
     "output_type": "stream",
     "text": [
      "AUC score is:  nan\n"
     ]
    },
    {
     "data": {
      "image/png": "[encoded data removed]",
      "text/plain": [
       "<Figure size 432x288 with 1 Axes>"
      ]
     },
     "metadata": {
      "needs_background": "light"
     },
     "output_type": "display_data"
    }
   ],
   "source": [
    "from sklearn.metrics import roc_curve\n",
    "y_test = [1 if i=='SMOKER' else 0 for i in y_test]\n",
    "y_pred = [1 if i=='SMOKER' else 0 for i in y_pred]\n",
    "# fpr, tpr, thresholds = roc_curve(y_test, y_pred, pos_label=\"SMOKER\")\n",
    "fpr, tpr, thresholds = roc_curve(y_test, y_pred)\n",
    "# find threshold closest to zero:\n",
    "close_zero = np.argmin(np.abs(thresholds))\n",
    "plt.plot(fpr[close_zero], tpr[close_zero], \"o\", markersize=10, \n",
    " label=\"threshold zero(default)\", fillstyle=\"none\", c=\"k\", mew=2)\n",
    "plt.plot([0,1], linestyle='-', lw=2, color='r', label='random', alpha=0.8)\n",
    "plt.legend(loc=4)\n",
    "plt.plot(fpr, tpr, label=\"ROC Curve\")\n",
    "plt.xlabel(\"False Positive Rate\")\n",
    "plt.ylabel(\"True Positive Rate (recall)\")\n",
    "plt.title(\"roc_curve\");\n",
    "from sklearn.metrics import auc\n",
    "print(\"AUC score is: \" , auc(fpr, tpr));"
   ]
  },
  {
   "cell_type": "code",
   "execution_count": 225,
   "metadata": {},
   "outputs": [
    {
     "data": {
      "text/html": [
       "<div>\n",
       "<style scoped>\n",
       "    .dataframe tbody tr th:only-of-type {\n",
       "        vertical-align: middle;\n",
       "    }\n",
       "\n",
       "    .dataframe tbody tr th {\n",
       "        vertical-align: top;\n",
       "    }\n",
       "\n",
       "    .dataframe thead th {\n",
       "        text-align: right;\n",
       "    }\n",
       "</style>\n",
       "<table border=\"1\" class=\"dataframe\">\n",
       "  <thead>\n",
       "    <tr style=\"text-align: right;\">\n",
       "      <th></th>\n",
       "      <th>Text</th>\n",
       "      <th>Labels</th>\n",
       "      <th>Predicted</th>\n",
       "    </tr>\n",
       "  </thead>\n",
       "  <tbody>\n",
       "    <tr>\n",
       "      <th>0</th>\n",
       "      <td>\\n#####\\nhlgmc\\n#####\\n#####\\n##/##/#### ##:##...</td>\n",
       "      <td>0</td>\n",
       "      <td>0</td>\n",
       "    </tr>\n",
       "    <tr>\n",
       "      <th>1</th>\n",
       "      <td>\\n#####\\ncmc\\n#####\\n3/##/#### ##:##:## am\\nme...</td>\n",
       "      <td>0</td>\n",
       "      <td>0</td>\n",
       "    </tr>\n",
       "    <tr>\n",
       "      <th>2</th>\n",
       "      <td>\\n#####\\nbh\\n#####\\n#####\\n##/##/#### ##:##:##...</td>\n",
       "      <td>0</td>\n",
       "      <td>0</td>\n",
       "    </tr>\n",
       "    <tr>\n",
       "      <th>3</th>\n",
       "      <td>\\n#####\\nnvh\\n#####\\n3/##/#### ##:##:## am\\ndi...</td>\n",
       "      <td>0</td>\n",
       "      <td>0</td>\n",
       "    </tr>\n",
       "    <tr>\n",
       "      <th>4</th>\n",
       "      <td>\\n#####\\nctmc\\n#####\\n#####\\n1/##/#### ##:##:#...</td>\n",
       "      <td>0</td>\n",
       "      <td>0</td>\n",
       "    </tr>\n",
       "  </tbody>\n",
       "</table>\n",
       "</div>"
      ],
      "text/plain": [
       "                                                Text  Labels  Predicted\n",
       "0  \\n#####\\nhlgmc\\n#####\\n#####\\n##/##/#### ##:##...       0          0\n",
       "1  \\n#####\\ncmc\\n#####\\n3/##/#### ##:##:## am\\nme...       0          0\n",
       "2  \\n#####\\nbh\\n#####\\n#####\\n##/##/#### ##:##:##...       0          0\n",
       "3  \\n#####\\nnvh\\n#####\\n3/##/#### ##:##:## am\\ndi...       0          0\n",
       "4  \\n#####\\nctmc\\n#####\\n#####\\n1/##/#### ##:##:#...       0          0"
      ]
     },
     "execution_count": 225,
     "metadata": {},
     "output_type": "execute_result"
    }
   ],
   "source": [
    "# DEBUGGING\n",
    "df_debug = pd.DataFrame({'Text': x_test, 'Labels': y_test, 'Predicted':y_pred})\n",
    "df_debug.head()"
   ]
  },
  {
   "cell_type": "code",
   "execution_count": 226,
   "metadata": {},
   "outputs": [
    {
     "data": {
      "text/plain": [
       "0    146\n",
       "Name: Predicted, dtype: int64"
      ]
     },
     "execution_count": 226,
     "metadata": {},
     "output_type": "execute_result"
    }
   ],
   "source": [
    "df_debug.Predicted.value_counts()"
   ]
  },
  {
   "cell_type": "code",
   "execution_count": null,
   "metadata": {},
   "outputs": [],
   "source": []
  },
  {
   "cell_type": "code",
   "execution_count": null,
   "metadata": {},
   "outputs": [],
   "source": []
  },
  {
   "cell_type": "code",
   "execution_count": null,
   "metadata": {},
   "outputs": [],
   "source": []
  }
 ],
 "metadata": {
  "colab": {
   "collapsed_sections": [],
   "name": "Openprompt-health example working.ipynb",
   "provenance": []
  },
  "kernelspec": {
   "display_name": "Python 3 (ipykernel)",
   "language": "python",
   "name": "python3"
  },
  "language_info": {
   "codemirror_mode": {
    "name": "ipython",
    "version": 3
   },
   "file_extension": ".py",
   "mimetype": "text/x-python",
   "name": "python",
   "nbconvert_exporter": "python",
   "pygments_lexer": "ipython3",
   "version": "3.8.5"
  }
 },
 "nbformat": 4,
 "nbformat_minor": 4
}
