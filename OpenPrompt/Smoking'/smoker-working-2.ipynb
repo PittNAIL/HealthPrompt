{
 "cells": [
  {
   "cell_type": "code",
   "execution_count": 1,
   "metadata": {
    "id": "Bgm_jBuEbJb-"
   },
   "outputs": [],
   "source": [
    "!pip install -q openprompt==0.1.1 \\\n",
    "'torch>=1.9.0' \\\n",
    "'transformers>=4.10.0' \\\n",
    "sentencepiece==0.1.96 \\\n",
    "'scikit-learn>=0.24.2' \\\n",
    "'tqdm>=4.62.2' \\\n",
    "tensorboardX \\\n",
    "nltk \\\n",
    "yacs \\\n",
    "dill \\\n",
    "datasets \\\n",
    "rouge==1.0.0 \\\n",
    "scipy==1.4.1 \\\n",
    "fugashi \\\n",
    "ipadic \\\n",
    "unidic-lite"
   ]
  },
  {
   "cell_type": "code",
   "execution_count": 50,
   "metadata": {},
   "outputs": [],
   "source": [
    "# !pip install -q matplotlib\n",
    "!pip install -q plotly"
   ]
  },
  {
   "cell_type": "code",
   "execution_count": 1,
   "metadata": {},
   "outputs": [],
   "source": [
    "import openprompt.plms as plms\n",
    "from openprompt.plms.mlm import MLMTokenizerWrapper\n",
    "from transformers import BertConfig, BertForMaskedLM, BertTokenizer\n",
    "from openprompt.data_utils import InputExample\n",
    "from transformers import AutoTokenizer, AutoModel\n",
    "from openprompt.plms import load_plm\n",
    "from openprompt.prompts import ManualTemplate\n",
    "from openprompt.prompts import PtuningTemplate\n",
    "from openprompt.prompts import ManualVerbalizer\n",
    "from openprompt import PromptForClassification\n",
    "from openprompt import PromptDataLoader\n",
    "import torch\n",
    "\n"
   ]
  },
  {
   "cell_type": "code",
   "execution_count": 2,
   "metadata": {},
   "outputs": [],
   "source": [
    "import xml.etree.ElementTree as ET\n",
    "tree = ET.parse('./smokers_surrogate_train_all_version2.xml')\n",
    "root = tree.getroot()"
   ]
  },
  {
   "cell_type": "code",
   "execution_count": 3,
   "metadata": {},
   "outputs": [
    {
     "name": "stdout",
     "output_type": "stream",
     "text": [
      "RECORD {'ID': '641'}\n",
      "RECORD {'ID': '643'}\n",
      "RECORD {'ID': '681'}\n",
      "RECORD {'ID': '704'}\n",
      "RECORD {'ID': '757'}\n",
      "RECORD {'ID': '786'}\n",
      "RECORD {'ID': '872'}\n",
      "RECORD {'ID': '874'}\n",
      "RECORD {'ID': '535'}\n",
      "RECORD {'ID': '540'}\n"
     ]
    }
   ],
   "source": [
    "root.attrib\n",
    "root.tag\n",
    "counter=0\n",
    "for child in root:\n",
    "    if counter == 10:\n",
    "        break\n",
    "    print(child.tag, child.attrib)\n",
    "    counter +=1\n",
    "    "
   ]
  },
  {
   "cell_type": "code",
   "execution_count": 4,
   "metadata": {},
   "outputs": [
    {
     "name": "stdout",
     "output_type": "stream",
     "text": [
      "ROOT\n",
      "RECORD\n",
      "SMOKING\n",
      "TEXT\n",
      "RECORD\n",
      "SMOKING\n",
      "TEXT\n",
      "RECORD\n",
      "SMOKING\n",
      "TEXT\n"
     ]
    }
   ],
   "source": [
    "[elem.tag for elem in root.iter()]\n",
    "\n",
    "counter=0\n",
    "for elem in root.iter():\n",
    "    if counter==10:\n",
    "        break\n",
    "    print(elem.tag)\n",
    "    counter+=1"
   ]
  },
  {
   "cell_type": "code",
   "execution_count": 5,
   "metadata": {},
   "outputs": [
    {
     "name": "stdout",
     "output_type": "stream",
     "text": [
      "CURRENT SMOKER\n",
      "CURRENT SMOKER\n",
      "CURRENT SMOKER\n",
      "CURRENT SMOKER\n",
      "CURRENT SMOKER\n",
      "CURRENT SMOKER\n",
      "CURRENT SMOKER\n",
      "CURRENT SMOKER\n",
      "CURRENT SMOKER\n",
      "CURRENT SMOKER\n"
     ]
    }
   ],
   "source": [
    "counter=0\n",
    "for smoking in root.iter('SMOKING'):\n",
    "    if counter==10:\n",
    "        break\n",
    "    print(smoking.attrib.get('STATUS'))\n",
    "    counter +=1\n",
    "    \n",
    "# for movie in root.iter('SMOKING'):\n",
    "#     print(movie.attrib)"
   ]
  },
  {
   "cell_type": "code",
   "execution_count": 6,
   "metadata": {},
   "outputs": [
    {
     "name": "stdout",
     "output_type": "stream",
     "text": [
      "\n",
      "977146916\n",
      "HLGMC\n",
      "2878891\n",
      "022690\n",
      "01/27/1997 12:00:00 AM\n",
      "CARCINOMA OF THE COLON .\n",
      "Unsigned\n",
      "DIS\n",
      "Report Status :\n",
      "Unsigned\n",
      "Please do not go above this box important format codes are contained .\n",
      "DISCHARGE SUMMARY\n",
      "ARF32 FA\n",
      "DISCHARGE SUMMARY NAME :\n",
      "GIRRESNET , DIEDREO A\n",
      "UNIT NUMBER :\n",
      "075-71-01\n",
      "ADMISSION DATE :\n",
      "01/27/1997\n",
      "DISCHARGE DATE :\n",
      "01/31/1997\n",
      "PRINCIPAL DIAGNOSIS :\n",
      "Carcinoma of the colon .\n",
      "ASSOCIATED DIAGNOSIS :\n",
      "Urinary tract infection , and cirrhosis of the liver .\n",
      "HISTORY OF PRESENT ILLNESS :\n",
      "The patient is an 80-year-old male , who had a history of colon cancer in the past , resected approximately ten years prior to admission , history of heavy alcohol use , who presented with a two week history of poor PO intake , weight loss , and was noted to have acute on chronic Hepatitis by chemistries and question of pyelonephritis .\n",
      "He lived alone but was driven to the hospital by his son because of reported worsening and general care and deconditioning .\n",
      "Emergency Department course ; he was evaluated in the emergency room , found to be severely cachectic and jaundiced .\n",
      "He was given a liter of normal saline , along with thiamine , folate .\n",
      "An abdominal ultrasound was performed showing no stones .\n",
      "Chest x-ray revealed clear lungs and then he was admitted to Team C for management .\n",
      "PAST MEDICAL HISTORY :\n",
      "Cancer , ten years prior to admission , status post resection .\n",
      "MEDICATIONS ON ADMISSION :\n",
      "Folic acid .\n",
      "ALLERGIES :\n",
      "None .\n",
      "FAMILY HISTORY :\n",
      "Not obtained .\n",
      "SOCIAL HISTORY :\n",
      "Lives in Merca .\n",
      "Drinks ginger brandy to excess , pipe and cigar smoker for many years .\n",
      "PHYSICAL EXAMINATION :\n",
      "In general was a cachectic , jaundiced man .\n",
      "bloodpressure :\n",
      "124/60 , 97.4 , 84 , 22 for vital signs .\n",
      "head , eyes , ears , nose and throat :\n",
      "notable for abscess ulcers on the lower gums .\n",
      "He was edentulous .\n",
      "Neck was supple , lungs were clear except for some scattered mild crackles .\n",
      "Cardiac :\n",
      "tachycardic with a II / VI systolic ejection murmur .\n",
      "Belly was tender in the right upper quadrant .\n",
      "Liver edge , thickened abdominal wall was palpable .\n",
      "No inguinal nodes .\n",
      "Rectal was guaiac negative .\n",
      "On mental status exam , he was somnolent but arousable .\n",
      "Oriented to name , year , and hospital .\n",
      "Skin was jaundiced .\n",
      "LABORATORY DATA :\n",
      "Notable for a BUN and creatinine 14 and 1.8 , phosphorous of .5 , magnesium 1.2 , albumin 2.1 .\n",
      "elevated liver function tests , bilirubin of 14 direct , 17 total .\n",
      "uric acid 11.4 , alkaline phosphatase 173 , serum glutamic oxaloacetic transaminase 309 , amylase 388 .\n",
      "His urinalysis showed 10-20 granular casts and 10-20 white blood cells , 3-5 red blood cells , 5-10 whites , 3-5 white blood cells cast .\n",
      "The white blood cell was 8.5 , hematocrit 34 .\n",
      "platelet count 74 .\n",
      "5% bands on differential .\n",
      "prothrombin time 14.9 , partial thromboplastin time 35 .\n",
      "HOSPITAL COURSE AND TREATMENT :\n",
      "The patient was admitted to the Staviewordna University Of Medical Center .\n",
      "His mental status proceeded to decline as he became more sleepy and less arousable and confused .\n",
      "His Hepatitis worsened , liver failure progressed with his coagulopathy worsening .\n",
      "His renal status also decreased with a drop in urine output , became more shortness of breath as he developed some pulmonary edema .\n",
      "A head computerized tomography scan was planned to evaluate his change in mental status , but after an extensive discussion with the son , who felt that he and other family members wanted to maximize the patient 's comforts and avoid heroic measures in the event of further deterioration , plans were made to make the patient as comfortable as possible .\n",
      "He was continued on antibiotics , and oxygen , and morphine , and small amounts of Dopamine , and at 4 AM on January 31 , was pronounced dead .\n",
      "_________________________ AJO C. CUCHKOTE , M.D.\n",
      "TR :\n",
      "tfv\n",
      "DD :\n",
      "09/08/1997\n",
      "TD :\n",
      "10/13/1997 3:47\n",
      "Pcc :\n",
      "AZEL USANNE WALL , M.D.\n",
      "[ report_end ]\n",
      "\n"
     ]
    }
   ],
   "source": [
    "# for text in root.iter('TEXT'):\n",
    "#     print(text.text)\n",
    "    \n",
    "counter=0\n",
    "for text in root.iter('TEXT'):\n",
    "    if counter==1:\n",
    "        break\n",
    "    print(text.text)\n",
    "    counter +=1    "
   ]
  },
  {
   "cell_type": "code",
   "execution_count": 7,
   "metadata": {},
   "outputs": [],
   "source": [
    "counter=0\n",
    "for text in root.findall(\"./SMOKING/[@STATUS='CURRENT SMOKER']\"):\n",
    "    if counter==10:\n",
    "        break\n",
    "    print(text.attrib)\n",
    "    print(counter)\n",
    "    counter +=1    "
   ]
  },
  {
   "cell_type": "code",
   "execution_count": 8,
   "metadata": {},
   "outputs": [],
   "source": [
    "# doc=xee.fromstring('./smokers_surrogate_train_all_version2.xml')\n",
    "\n",
    "for tag in root.findall('SMOKING'):\n",
    "    if tag.attrib['STATUS']!='CURRENT SMOKER':\n",
    "#         root.remove(tag)\n",
    "        print(tag)\n",
    "        \n",
    "# print(ET.tostring(root))"
   ]
  },
  {
   "cell_type": "code",
   "execution_count": 9,
   "metadata": {},
   "outputs": [
    {
     "name": "stdout",
     "output_type": "stream",
     "text": [
      "641\n",
      "CURRENT SMOKER\n",
      "0\n",
      "643\n",
      "CURRENT SMOKER\n",
      "1\n"
     ]
    }
   ],
   "source": [
    "# node=root\n",
    "# if node.tag == \"SMOKING\":\n",
    "#         status = node.attrib.get(\"STATUS\")\n",
    "#         print(status)\n",
    "#         if status is not None:\n",
    "#             print(node.attrib.get(\"TEXT\"))\n",
    "import xml.etree.ElementTree as ET\n",
    "tree = ET.parse('./smokers_surrogate_train_all_version2.xml')\n",
    "root = tree.getroot()\n",
    "\n",
    "text_list=[]\n",
    "counter =0             \n",
    "for record in root.iter('RECORD'):\n",
    "    if counter == 2:\n",
    "        break\n",
    "    print(record.attrib.get('ID'))\n",
    "    smoking = record.find('SMOKING')\n",
    "    print(smoking.attrib.get('STATUS'))\n",
    "    if smoking.attrib.get('STATUS')==\"CURRENT SMOKER\":\n",
    "        text=record.find('TEXT')\n",
    "        text_list.append(text)\n",
    "        print(counter)\n",
    "    counter +=1"
   ]
  },
  {
   "cell_type": "code",
   "execution_count": 10,
   "metadata": {},
   "outputs": [],
   "source": [
    "import xml.etree.ElementTree as ET\n",
    "tree = ET.parse('./smokers_surrogate_train_all_version2.xml')\n",
    "root = tree.getroot()\n",
    "\n",
    "text_list=[]\n",
    "label_list=[]\n",
    "counter =0             \n",
    "for record in root.iter('RECORD'):\n",
    "#     if counter:\n",
    "#         break\n",
    "#     print(record.attrib.get('ID'))\n",
    "    smoking = record.find('SMOKING')\n",
    "    label_list.append(smoking.attrib.get('STATUS'))\n",
    "#     print(smoking.attrib.get('STATUS'))\n",
    "    text=record.find('TEXT')\n",
    "    text_list.append(text.text)\n",
    "#     print(text_list.__len__())\n",
    "#     print(counter)\n",
    "    counter +=1"
   ]
  },
  {
   "cell_type": "code",
   "execution_count": 11,
   "metadata": {},
   "outputs": [
    {
     "name": "stdout",
     "output_type": "stream",
     "text": [
      "398\n",
      "398\n"
     ]
    }
   ],
   "source": [
    "print(text_list.__len__())\n",
    "print(label_list.__len__())"
   ]
  },
  {
   "cell_type": "code",
   "execution_count": 12,
   "metadata": {},
   "outputs": [
    {
     "data": {
      "text/plain": [
       "list"
      ]
     },
     "execution_count": 12,
     "metadata": {},
     "output_type": "execute_result"
    }
   ],
   "source": [
    "text_list.__class__\n",
    "label_list.__class__"
   ]
  },
  {
   "cell_type": "code",
   "execution_count": 13,
   "metadata": {},
   "outputs": [
    {
     "data": {
      "text/plain": [
       "'\\n026738007\\nCMC\\n15319689\\n3/25/1998 12:00:00 AM\\nMEDIASTINAL ADENOPATHY RT. LUNG MASS\\nSigned\\nDIS\\nAdmission Date :\\n03/25/1998\\nReport Status :\\nSigned\\nDischarge Date :\\n04/08/1998\\nPRINCIPAL DIAGNOSIS :\\nRight lung choriocarcinoma .\\nOTHER DIAGNOSIS :\\nPericardial effusion .\\nHISTORY OF PRESENT ILLNESS :\\nThe patient was in her usual state of health , carrying the diagnosis of right lung chorio carcinoma , when she began to develop dyspnea and on 03/24/98 an echocardiogram revealed a pericardial effusion and possible tamponade clinically .\\nThe patient was first diagnosed in 10/97 , when she presented with the symptoms of menorrhagia .\\nShe had elevated beta HCG levels , no tubal pregnancy was suspected .\\nAright oophorectomy was performed .\\nIn 11/97 , chest x-ray revealed an abnormality in the right upper lobe .\\nA lung biopsy was performed , revealing chorio carcinoma pathologically .\\nAt the time , she also had symptoms of hemoptysis .\\nOn November 26 , a chest CT revealed multiple bilateral cysts and bilateral ill-defined nodules , a right upper lobe mass , and extensive lymphadenopathy in the peritracheal region .\\nThere was also some distal tracheal compression .\\nShe received XRT and chemotherapy with carboplatin and Taxol .\\nA head CT was also performed , revealing frontal lobe lesions consistent with cranial metastasis .\\nVIP therapy and cranial XRT were performed .\\nOn 03/24/98 , an echocardiogram revealed a pericardial effusion .\\nThe patient had presented with shortness of breath .\\nThe patient was admitted to Thoracic Surgery with symptoms of dyspnea and a pericardial effusion revealed on echocardiogram .\\nPAST MEDICAL HISTORY :\\n1. Schizoaffective disorder .\\n2. Status post right oophorectomy .\\n3. History of seizure disorder .\\nALLERGIES :\\n1. Penicillin causes a rash .\\n2. Macrodantin causes joint stiffness .\\n3. Erythromycin causes hallucinations .\\n4. Talwin causes hallucinations .\\n5. Percocet causes hallucinations .\\nMEDICATIONS :\\n1. Clonidine .\\n2. Trazodone 100 mg p.o. q h.s.\\n3. Tegretol 200 mg p.o. t.i.d.\\n4. Klonopin 1 mg p.o. t.i.d.\\nFAMILY HISTORY :\\nThe patient reports no family history of cancer .\\nThe mother died of asthma .\\nThe father of died of coronary artery disease .\\nSOCIAL HISTORY :\\nThe patient lives in Jer by herself .\\nHowever , her boyfriend lives next-door .\\nShe reports having no siblings .\\nHABITS :\\nThe patient has a 20 pack-year smoking history .\\nShe reports having just quit prior to admission .\\nShe denies any alcohol or street drug use .\\nPHYSICAL EXAMINATION :\\nVITAL SIGNS :\\nTemperature 97.5 , heart rate 90 , blood pressure 104/80 , respiratory rate 18 .\\nOxygen saturation is 94% on room air .\\nHEENT :\\nPupils equal , round and reactive to light .\\nNormal mucosa .\\nNECK :\\nSupple .\\nLUNGS :\\nClear to auscultation bilaterally .\\nNo crackles .\\nCARDIOVASCULAR :\\nRegular rate and rhythm , no murmurs .\\nABDOMEN :\\nPositive bowel sounds , soft .\\nEXTREMITIES :\\nNo edema , 2+ pulses bilaterally .\\nDIAGNOSTIC STUDIES :\\nMetabolic 20 panel was unremarkable .\\nCBC was unremarkable .\\nEKG revealed normal sinus rhythm with no ST changes .\\nHOSPITAL COURSE :\\nThe patient remained on the Thoracic Surgery service for the first three days of hospitalization .\\nDuring that time , on 03/26/98 a pericardial centesis was performed and 550 cc of bloody fluid were removed .\\nAmediastinoscopy was also performed at that time .\\nThe patient had some improvement in her symptoms .\\nHowever , on 03/27/98 she had increasing dyspnea , pleuritic chest pain , and mild hemoptysis .\\nApulmonary embolus was suspected .\\nHowever , a VQ scan was performed , which revealed intermediate probability .\\nThe defects were in the right upper lobe and this was felt to be unlikely to be consistent with a pulmonary embolus .\\nOn 03/28/98 another pericardial centesis was performed , withdrawing 350-400 cc fluid .\\nOn 03/29/98 apericardial window was performed , revealing a non malignant effusion .\\nThe patient was transferred over to the Hematology-Oncology service , where her course was relatively uneventful .\\nOn 04/03/98 she began receiving salvage chemo therapy with Cisplatin and Velban .\\nVelban was continued for two days , while Cisplatin was continued for five days , until 04/07/98 .\\nThe patient tolerated chemotherapy very well , with no side effects .\\nDISPOSITION :\\nThe patient will be discharged to home to begin G-CSF therapy .\\nFollow-up will be with Dr. Shock , her primary hematologist-oncologist , on 04/13/98 .\\nDISCHARGE MEDICATIONS :\\n1. Tegretol 200 mg p.o. t.i.d.\\n2. Klonopin 1 mg p.o. b.i.d.\\n3. Colace 100 mg p.o. b.i.d.\\n4. Nicoderm 21 mg q d. topical .\\n5. Zofran 24 mg p.o. q d. x 3 days .\\n6. Mellaril 100 mg p.o. q h.s.\\n7. Trazodone 150 mg p.o. q h.s.\\n8. Compazine 10 mg p.o. q 6 h. p.r.n. for nausea .\\n9. G-CSF 300 microgram subq. q d.\\nDictated By :\\nBIE OODSHUFFPREHE , M.D. VT9\\nAttending :\\nRASHANEMAR S. LANCEDUHE , M.D. SQ2 SM439/6058\\nBatch :\\n25796\\nIndex No. LWART6 IO\\nD :\\n04/08/98\\nT :\\n04/09/98\\nCC :\\n1. DR. SHOCK\\n2. RASHANEMAR S. LANCEDUHE , M.D. PJ9\\n[ report_end ]\\n'"
      ]
     },
     "execution_count": 13,
     "metadata": {},
     "output_type": "execute_result"
    }
   ],
   "source": [
    "text_list[1]"
   ]
  },
  {
   "cell_type": "code",
   "execution_count": null,
   "metadata": {},
   "outputs": [],
   "source": []
  },
  {
   "cell_type": "markdown",
   "metadata": {},
   "source": [
    "# Datset"
   ]
  },
  {
   "cell_type": "code",
   "execution_count": 14,
   "metadata": {},
   "outputs": [
    {
     "name": "stdout",
     "output_type": "stream",
     "text": [
      "cuda:0\n"
     ]
    }
   ],
   "source": [
    "import torch\n",
    "from torch.utils.data.dataset import Dataset\n",
    "import pandas as pd\n",
    "from torch.utils.data import Dataset, DataLoader\n",
    " \n",
    "use_cuda = torch.cuda.is_available()\n",
    "device = torch.device(\"cuda:0\" if use_cuda else \"cpu\")\n",
    "print(device)\n",
    " \n",
    " \n",
    "class CustomTextDataset(Dataset):\n",
    "    def __init__(self, text, labels):\n",
    "        self.labels = labels\n",
    "        self.text = text\n",
    "        \n",
    "    def __len__(self):\n",
    "            return len(self.labels)\n",
    "        \n",
    "    def __getitem__(self, idx):\n",
    "            label = self.labels[idx]\n",
    "            text = self.text[idx]\n",
    "            sample = {\"Text\": text, \"Class\": label}\n",
    "            return sample"
   ]
  },
  {
   "cell_type": "code",
   "execution_count": 15,
   "metadata": {},
   "outputs": [],
   "source": [
    "import pandas as pd\n",
    "\n",
    "# text = ['Happy', 'Amazing', 'Sad', 'Unhapy', 'Glum']\n",
    "# labels = ['Positive', 'Positive', 'Negative', 'Negative', 'Negative']\n",
    "\n",
    "text_labels_df = pd.DataFrame({'Text': text_list, 'Labels': label_list})\n",
    "\n",
    "TD = CustomTextDataset(text_labels_df['Text'],\n",
    "                       text_labels_df['Labels'])"
   ]
  },
  {
   "cell_type": "code",
   "execution_count": 59,
   "metadata": {},
   "outputs": [
    {
     "name": "stdout",
     "output_type": "stream",
     "text": [
      "\n",
      "First iteration of data set:  {'Text': \"\\n977146916\\nHLGMC\\n2878891\\n022690\\n01/27/1997 12:00:00 AM\\nCARCINOMA OF THE COLON .\\nUnsigned\\nDIS\\nReport Status :\\nUnsigned\\nPlease do not go above this box important format codes are contained .\\nDISCHARGE SUMMARY\\nARF32 FA\\nDISCHARGE SUMMARY NAME :\\nGIRRESNET , DIEDREO A\\nUNIT NUMBER :\\n075-71-01\\nADMISSION DATE :\\n01/27/1997\\nDISCHARGE DATE :\\n01/31/1997\\nPRINCIPAL DIAGNOSIS :\\nCarcinoma of the colon .\\nASSOCIATED DIAGNOSIS :\\nUrinary tract infection , and cirrhosis of the liver .\\nHISTORY OF PRESENT ILLNESS :\\nThe patient is an 80-year-old male , who had a history of colon cancer in the past , resected approximately ten years prior to admission , history of heavy alcohol use , who presented with a two week history of poor PO intake , weight loss , and was noted to have acute on chronic Hepatitis by chemistries and question of pyelonephritis .\\nHe lived alone but was driven to the hospital by his son because of reported worsening and general care and deconditioning .\\nEmergency Department course ; he was evaluated in the emergency room , found to be severely cachectic and jaundiced .\\nHe was given a liter of normal saline , along with thiamine , folate .\\nAn abdominal ultrasound was performed showing no stones .\\nChest x-ray revealed clear lungs and then he was admitted to Team C for management .\\nPAST MEDICAL HISTORY :\\nCancer , ten years prior to admission , status post resection .\\nMEDICATIONS ON ADMISSION :\\nFolic acid .\\nALLERGIES :\\nNone .\\nFAMILY HISTORY :\\nNot obtained .\\nSOCIAL HISTORY :\\nLives in Merca .\\nDrinks ginger brandy to excess , pipe and cigar smoker for many years .\\nPHYSICAL EXAMINATION :\\nIn general was a cachectic , jaundiced man .\\nbloodpressure :\\n124/60 , 97.4 , 84 , 22 for vital signs .\\nhead , eyes , ears , nose and throat :\\nnotable for abscess ulcers on the lower gums .\\nHe was edentulous .\\nNeck was supple , lungs were clear except for some scattered mild crackles .\\nCardiac :\\ntachycardic with a II / VI systolic ejection murmur .\\nBelly was tender in the right upper quadrant .\\nLiver edge , thickened abdominal wall was palpable .\\nNo inguinal nodes .\\nRectal was guaiac negative .\\nOn mental status exam , he was somnolent but arousable .\\nOriented to name , year , and hospital .\\nSkin was jaundiced .\\nLABORATORY DATA :\\nNotable for a BUN and creatinine 14 and 1.8 , phosphorous of .5 , magnesium 1.2 , albumin 2.1 .\\nelevated liver function tests , bilirubin of 14 direct , 17 total .\\nuric acid 11.4 , alkaline phosphatase 173 , serum glutamic oxaloacetic transaminase 309 , amylase 388 .\\nHis urinalysis showed 10-20 granular casts and 10-20 white blood cells , 3-5 red blood cells , 5-10 whites , 3-5 white blood cells cast .\\nThe white blood cell was 8.5 , hematocrit 34 .\\nplatelet count 74 .\\n5% bands on differential .\\nprothrombin time 14.9 , partial thromboplastin time 35 .\\nHOSPITAL COURSE AND TREATMENT :\\nThe patient was admitted to the Staviewordna University Of Medical Center .\\nHis mental status proceeded to decline as he became more sleepy and less arousable and confused .\\nHis Hepatitis worsened , liver failure progressed with his coagulopathy worsening .\\nHis renal status also decreased with a drop in urine output , became more shortness of breath as he developed some pulmonary edema .\\nA head computerized tomography scan was planned to evaluate his change in mental status , but after an extensive discussion with the son , who felt that he and other family members wanted to maximize the patient 's comforts and avoid heroic measures in the event of further deterioration , plans were made to make the patient as comfortable as possible .\\nHe was continued on antibiotics , and oxygen , and morphine , and small amounts of Dopamine , and at 4 AM on January 31 , was pronounced dead .\\n_________________________ AJO C. CUCHKOTE , M.D.\\nTR :\\ntfv\\nDD :\\n09/08/1997\\nTD :\\n10/13/1997 3:47\\nPcc :\\nAZEL USANNE WALL , M.D.\\n[ report_end ]\\n\", 'Class': 'CURRENT SMOKER'} \n",
      "\n",
      "Length of data set:  398 \n",
      "\n"
     ]
    }
   ],
   "source": [
    "# Display text and label.\n",
    "print('\\nFirst iteration of data set: ', next(iter(TD)), '\\n')\n",
    "# Print how many items are in the data set\n",
    "print('Length of data set: ', len(TD), '\\n')\n",
    "# Print entire data set\n",
    "# print('Entire data set: ', list(DataLoader(TD)), '\\n')"
   ]
  },
  {
   "cell_type": "markdown",
   "metadata": {},
   "source": [
    "# Dataset pre-processing"
   ]
  },
  {
   "cell_type": "code",
   "execution_count": 60,
   "metadata": {},
   "outputs": [],
   "source": [
    "text_labels_df=text_labels_df[~text_labels_df.Labels.str.contains(\"UNKNOWN\")]"
   ]
  },
  {
   "cell_type": "code",
   "execution_count": 61,
   "metadata": {},
   "outputs": [
    {
     "data": {
      "text/html": [
       "<div>\n",
       "<style scoped>\n",
       "    .dataframe tbody tr th:only-of-type {\n",
       "        vertical-align: middle;\n",
       "    }\n",
       "\n",
       "    .dataframe tbody tr th {\n",
       "        vertical-align: top;\n",
       "    }\n",
       "\n",
       "    .dataframe thead th {\n",
       "        text-align: right;\n",
       "    }\n",
       "</style>\n",
       "<table border=\"1\" class=\"dataframe\">\n",
       "  <thead>\n",
       "    <tr style=\"text-align: right;\">\n",
       "      <th></th>\n",
       "      <th>Text</th>\n",
       "      <th>Labels</th>\n",
       "    </tr>\n",
       "  </thead>\n",
       "  <tbody>\n",
       "    <tr>\n",
       "      <th>17</th>\n",
       "      <td>\\n139964603\\nNVH\\n40876531\\n11/17/2003 12:00:0...</td>\n",
       "      <td>NON-SMOKER</td>\n",
       "    </tr>\n",
       "    <tr>\n",
       "      <th>18</th>\n",
       "      <td>\\n910458031\\nNVH\\n23238893\\n1/12/1991 12:00:00...</td>\n",
       "      <td>NON-SMOKER</td>\n",
       "    </tr>\n",
       "    <tr>\n",
       "      <th>19</th>\n",
       "      <td>\\n991509188\\nCTMC\\n51356028\\n369929\\n09/05/199...</td>\n",
       "      <td>NON-SMOKER</td>\n",
       "    </tr>\n",
       "    <tr>\n",
       "      <th>20</th>\n",
       "      <td>\\n320422564\\nCTMC\\n09300549\\n340424\\n06/16/199...</td>\n",
       "      <td>NON-SMOKER</td>\n",
       "    </tr>\n",
       "    <tr>\n",
       "      <th>21</th>\n",
       "      <td>\\n988183518\\nPUOMC\\n7961198\\n290757\\n137082\\n1...</td>\n",
       "      <td>NON-SMOKER</td>\n",
       "    </tr>\n",
       "  </tbody>\n",
       "</table>\n",
       "</div>"
      ],
      "text/plain": [
       "                                                 Text      Labels\n",
       "17  \\n139964603\\nNVH\\n40876531\\n11/17/2003 12:00:0...  NON-SMOKER\n",
       "18  \\n910458031\\nNVH\\n23238893\\n1/12/1991 12:00:00...  NON-SMOKER\n",
       "19  \\n991509188\\nCTMC\\n51356028\\n369929\\n09/05/199...  NON-SMOKER\n",
       "20  \\n320422564\\nCTMC\\n09300549\\n340424\\n06/16/199...  NON-SMOKER\n",
       "21  \\n988183518\\nPUOMC\\n7961198\\n290757\\n137082\\n1...  NON-SMOKER"
      ]
     },
     "execution_count": 61,
     "metadata": {},
     "output_type": "execute_result"
    }
   ],
   "source": [
    "text_labels_df_nonsmoker =text_labels_df[text_labels_df.Labels.str.contains(\"NON-SMOKER\")]\n",
    "text_labels_df_nonsmoker.head()"
   ]
  },
  {
   "cell_type": "code",
   "execution_count": 62,
   "metadata": {},
   "outputs": [
    {
     "name": "stderr",
     "output_type": "stream",
     "text": [
      "/ihome/yanshanwang/sos86/.local/lib/python3.8/site-packages/pandas/core/generic.py:5491: SettingWithCopyWarning:\n",
      "\n",
      "\n",
      "A value is trying to be set on a copy of a slice from a DataFrame.\n",
      "Try using .loc[row_indexer,col_indexer] = value instead\n",
      "\n",
      "See the caveats in the documentation: https://pandas.pydata.org/pandas-docs/stable/user_guide/indexing.html#returning-a-view-versus-a-copy\n",
      "\n"
     ]
    },
    {
     "data": {
      "text/html": [
       "<div>\n",
       "<style scoped>\n",
       "    .dataframe tbody tr th:only-of-type {\n",
       "        vertical-align: middle;\n",
       "    }\n",
       "\n",
       "    .dataframe tbody tr th {\n",
       "        vertical-align: top;\n",
       "    }\n",
       "\n",
       "    .dataframe thead th {\n",
       "        text-align: right;\n",
       "    }\n",
       "</style>\n",
       "<table border=\"1\" class=\"dataframe\">\n",
       "  <thead>\n",
       "    <tr style=\"text-align: right;\">\n",
       "      <th></th>\n",
       "      <th>Text</th>\n",
       "      <th>Labels</th>\n",
       "    </tr>\n",
       "  </thead>\n",
       "  <tbody>\n",
       "    <tr>\n",
       "      <th>0</th>\n",
       "      <td>\\n977146916\\nHLGMC\\n2878891\\n022690\\n01/27/199...</td>\n",
       "      <td>SMOKER</td>\n",
       "    </tr>\n",
       "    <tr>\n",
       "      <th>1</th>\n",
       "      <td>\\n026738007\\nCMC\\n15319689\\n3/25/1998 12:00:00...</td>\n",
       "      <td>SMOKER</td>\n",
       "    </tr>\n",
       "    <tr>\n",
       "      <th>2</th>\n",
       "      <td>\\n071962960\\nBH\\n4236518\\n417454\\n12/10/2001 1...</td>\n",
       "      <td>SMOKER</td>\n",
       "    </tr>\n",
       "    <tr>\n",
       "      <th>3</th>\n",
       "      <td>\\n418520250\\nNVH\\n61562872\\n3/11/1995 12:00:00...</td>\n",
       "      <td>SMOKER</td>\n",
       "    </tr>\n",
       "    <tr>\n",
       "      <th>4</th>\n",
       "      <td>\\n301443520\\nCTMC\\n49020928\\n448922\\n1/11/1990...</td>\n",
       "      <td>SMOKER</td>\n",
       "    </tr>\n",
       "  </tbody>\n",
       "</table>\n",
       "</div>"
      ],
      "text/plain": [
       "                                                Text  Labels\n",
       "0  \\n977146916\\nHLGMC\\n2878891\\n022690\\n01/27/199...  SMOKER\n",
       "1  \\n026738007\\nCMC\\n15319689\\n3/25/1998 12:00:00...  SMOKER\n",
       "2  \\n071962960\\nBH\\n4236518\\n417454\\n12/10/2001 1...  SMOKER\n",
       "3  \\n418520250\\nNVH\\n61562872\\n3/11/1995 12:00:00...  SMOKER\n",
       "4  \\n301443520\\nCTMC\\n49020928\\n448922\\n1/11/1990...  SMOKER"
      ]
     },
     "execution_count": 62,
     "metadata": {},
     "output_type": "execute_result"
    }
   ],
   "source": [
    "text_labels_df_smoker =text_labels_df[~text_labels_df.Labels.str.contains(\"NON-SMOKER\")]\n",
    "text_labels_df_smoker.Labels = \"SMOKER\"\n",
    "text_labels_df_smoker.head()"
   ]
  },
  {
   "cell_type": "code",
   "execution_count": 63,
   "metadata": {},
   "outputs": [
    {
     "data": {
      "text/plain": [
       "SMOKER    80\n",
       "Name: Labels, dtype: int64"
      ]
     },
     "execution_count": 63,
     "metadata": {},
     "output_type": "execute_result"
    }
   ],
   "source": [
    "text_labels_df_smoker.Labels.value_counts()"
   ]
  },
  {
   "cell_type": "code",
   "execution_count": 64,
   "metadata": {},
   "outputs": [],
   "source": [
    "df = text_labels_df_smoker.append(text_labels_df_nonsmoker, ignore_index=True)"
   ]
  },
  {
   "cell_type": "code",
   "execution_count": 65,
   "metadata": {},
   "outputs": [
    {
     "data": {
      "text/plain": [
       "SMOKER        80\n",
       "NON-SMOKER    66\n",
       "Name: Labels, dtype: int64"
      ]
     },
     "execution_count": 65,
     "metadata": {},
     "output_type": "execute_result"
    }
   ],
   "source": [
    "df.Labels.value_counts()"
   ]
  },
  {
   "cell_type": "code",
   "execution_count": 66,
   "metadata": {},
   "outputs": [
    {
     "data": {
      "text/plain": [
       "str"
      ]
     },
     "execution_count": 66,
     "metadata": {},
     "output_type": "execute_result"
    }
   ],
   "source": [
    "x_test=df.Text.to_list()\n",
    "y_test=df.Labels.to_list()\n",
    "x_test[1].__class__"
   ]
  },
  {
   "cell_type": "markdown",
   "metadata": {},
   "source": [
    "# TEXT Cleaning"
   ]
  },
  {
   "cell_type": "code",
   "execution_count": 84,
   "metadata": {},
   "outputs": [],
   "source": [
    "data=df\n",
    "# remove NULL Values from data\n",
    "data = data[pd.notnull(data['Text'])]"
   ]
  },
  {
   "cell_type": "code",
   "execution_count": 85,
   "metadata": {},
   "outputs": [
    {
     "data": {
      "text/plain": [
       "<AxesSubplot:ylabel='Frequency'>"
      ]
     },
     "execution_count": 85,
     "metadata": {},
     "output_type": "execute_result"
    },
    {
     "data": {
      "image/png": "[encoded data removed]",
      "text/plain": [
       "<Figure size 432x288 with 1 Axes>"
      ]
     },
     "metadata": {
      "needs_background": "light"
     },
     "output_type": "display_data"
    }
   ],
   "source": [
    "import matplotlib.pyplot as plt\n",
    "data['len'] = data['Text'].apply(lambda s : len(s))\n",
    "data['len'].plot.hist(bins=100)"
   ]
  },
  {
   "cell_type": "code",
   "execution_count": 86,
   "metadata": {},
   "outputs": [
    {
     "data": {
      "text/plain": [
       "9392.0"
      ]
     },
     "execution_count": 86,
     "metadata": {},
     "output_type": "execute_result"
    }
   ],
   "source": [
    "data.len.quantile(0.9)"
   ]
  },
  {
   "cell_type": "code",
   "execution_count": 87,
   "metadata": {},
   "outputs": [
    {
     "data": {
      "text/html": [
       "<div>\n",
       "<style scoped>\n",
       "    .dataframe tbody tr th:only-of-type {\n",
       "        vertical-align: middle;\n",
       "    }\n",
       "\n",
       "    .dataframe tbody tr th {\n",
       "        vertical-align: top;\n",
       "    }\n",
       "\n",
       "    .dataframe thead th {\n",
       "        text-align: right;\n",
       "    }\n",
       "</style>\n",
       "<table border=\"1\" class=\"dataframe\">\n",
       "  <thead>\n",
       "    <tr style=\"text-align: right;\">\n",
       "      <th></th>\n",
       "      <th>Labels</th>\n",
       "      <th>Text</th>\n",
       "    </tr>\n",
       "  </thead>\n",
       "  <tbody>\n",
       "    <tr>\n",
       "      <th>1</th>\n",
       "      <td>SMOKER</td>\n",
       "      <td>80</td>\n",
       "    </tr>\n",
       "    <tr>\n",
       "      <th>0</th>\n",
       "      <td>NON-SMOKER</td>\n",
       "      <td>66</td>\n",
       "    </tr>\n",
       "  </tbody>\n",
       "</table>\n",
       "</div>"
      ],
      "text/plain": [
       "       Labels  Text\n",
       "1      SMOKER    80\n",
       "0  NON-SMOKER    66"
      ]
     },
     "execution_count": 87,
     "metadata": {},
     "output_type": "execute_result"
    }
   ],
   "source": [
    "count_df = data[['Labels','Text']].groupby('Labels').aggregate({'Text':'count'}).reset_index().sort_values('Text',ascending=False)\n",
    "count_df.head()"
   ]
  },
  {
   "cell_type": "code",
   "execution_count": 88,
   "metadata": {},
   "outputs": [],
   "source": [
    "target_conditions = count_df[count_df['Text']>3000]['Labels'].values"
   ]
  },
  {
   "cell_type": "code",
   "execution_count": 82,
   "metadata": {},
   "outputs": [],
   "source": [
    "# BUGGGGGGGGGGGGGGGGG\n",
    "#def condition_parser(x):\n",
    "#     if x in target_conditions:\n",
    "#         return x\n",
    "#     else:\n",
    "#         return \"OTHER\"\n",
    "    \n",
    "# data['Labels'] = data['Labels'].apply(lambda x: condition_parser(x)) \n",
    "# data = data[data['Labels']!='OTHER']"
   ]
  },
  {
   "cell_type": "code",
   "execution_count": 89,
   "metadata": {},
   "outputs": [
    {
     "data": {
      "application/vnd.plotly.v1+json": {
       "config": {
        "plotlyServerURL": "https://plot.ly"
       },
       "data": [],
       "layout": {
        "autosize": true,
        "barmode": "relative",
        "legend": {
         "tracegroupgap": 0
        },
        "margin": {
         "t": 60
        },
        "template": {
         "data": {
          "bar": [
           {
            "error_x": {
             "color": "#2a3f5f"
            },
            "error_y": {
             "color": "#2a3f5f"
            },
            "marker": {
             "line": {
              "color": "#E5ECF6",
              "width": 0.5
             },
             "pattern": {
              "fillmode": "overlay",
              "size": 10,
              "solidity": 0.2
             }
            },
            "type": "bar"
           }
          ],
          "barpolar": [
           {
            "marker": {
             "line": {
              "color": "#E5ECF6",
              "width": 0.5
             },
             "pattern": {
              "fillmode": "overlay",
              "size": 10,
              "solidity": 0.2
             }
            },
            "type": "barpolar"
           }
          ],
          "carpet": [
           {
            "aaxis": {
             "endlinecolor": "#2a3f5f",
             "gridcolor": "white",
             "linecolor": "white",
             "minorgridcolor": "white",
             "startlinecolor": "#2a3f5f"
            },
            "baxis": {
             "endlinecolor": "#2a3f5f",
             "gridcolor": "white",
             "linecolor": "white",
             "minorgridcolor": "white",
             "startlinecolor": "#2a3f5f"
            },
            "type": "carpet"
           }
          ],
          "choropleth": [
           {
            "colorbar": {
             "outlinewidth": 0,
             "ticks": ""
            },
            "type": "choropleth"
           }
          ],
          "contour": [
           {
            "colorbar": {
             "outlinewidth": 0,
             "ticks": ""
            },
            "colorscale": [
             [
              0,
              "#0d0887"
             ],
             [
              0.1111111111111111,
              "#46039f"
             ],
             [
              0.2222222222222222,
              "#7201a8"
             ],
             [
              0.3333333333333333,
              "#9c179e"
             ],
             [
              0.4444444444444444,
              "#bd3786"
             ],
             [
              0.5555555555555556,
              "#d8576b"
             ],
             [
              0.6666666666666666,
              "#ed7953"
             ],
             [
              0.7777777777777778,
              "#fb9f3a"
             ],
             [
              0.8888888888888888,
              "#fdca26"
             ],
             [
              1,
              "#f0f921"
             ]
            ],
            "type": "contour"
           }
          ],
          "contourcarpet": [
           {
            "colorbar": {
             "outlinewidth": 0,
             "ticks": ""
            },
            "type": "contourcarpet"
           }
          ],
          "heatmap": [
           {
            "colorbar": {
             "outlinewidth": 0,
             "ticks": ""
            },
            "colorscale": [
             [
              0,
              "#0d0887"
             ],
             [
              0.1111111111111111,
              "#46039f"
             ],
             [
              0.2222222222222222,
              "#7201a8"
             ],
             [
              0.3333333333333333,
              "#9c179e"
             ],
             [
              0.4444444444444444,
              "#bd3786"
             ],
             [
              0.5555555555555556,
              "#d8576b"
             ],
             [
              0.6666666666666666,
              "#ed7953"
             ],
             [
              0.7777777777777778,
              "#fb9f3a"
             ],
             [
              0.8888888888888888,
              "#fdca26"
             ],
             [
              1,
              "#f0f921"
             ]
            ],
            "type": "heatmap"
           }
          ],
          "heatmapgl": [
           {
            "colorbar": {
             "outlinewidth": 0,
             "ticks": ""
            },
            "colorscale": [
             [
              0,
              "#0d0887"
             ],
             [
              0.1111111111111111,
              "#46039f"
             ],
             [
              0.2222222222222222,
              "#7201a8"
             ],
             [
              0.3333333333333333,
              "#9c179e"
             ],
             [
              0.4444444444444444,
              "#bd3786"
             ],
             [
              0.5555555555555556,
              "#d8576b"
             ],
             [
              0.6666666666666666,
              "#ed7953"
             ],
             [
              0.7777777777777778,
              "#fb9f3a"
             ],
             [
              0.8888888888888888,
              "#fdca26"
             ],
             [
              1,
              "#f0f921"
             ]
            ],
            "type": "heatmapgl"
           }
          ],
          "histogram": [
           {
            "marker": {
             "pattern": {
              "fillmode": "overlay",
              "size": 10,
              "solidity": 0.2
             }
            },
            "type": "histogram"
           }
          ],
          "histogram2d": [
           {
            "colorbar": {
             "outlinewidth": 0,
             "ticks": ""
            },
            "colorscale": [
             [
              0,
              "#0d0887"
             ],
             [
              0.1111111111111111,
              "#46039f"
             ],
             [
              0.2222222222222222,
              "#7201a8"
             ],
             [
              0.3333333333333333,
              "#9c179e"
             ],
             [
              0.4444444444444444,
              "#bd3786"
             ],
             [
              0.5555555555555556,
              "#d8576b"
             ],
             [
              0.6666666666666666,
              "#ed7953"
             ],
             [
              0.7777777777777778,
              "#fb9f3a"
             ],
             [
              0.8888888888888888,
              "#fdca26"
             ],
             [
              1,
              "#f0f921"
             ]
            ],
            "type": "histogram2d"
           }
          ],
          "histogram2dcontour": [
           {
            "colorbar": {
             "outlinewidth": 0,
             "ticks": ""
            },
            "colorscale": [
             [
              0,
              "#0d0887"
             ],
             [
              0.1111111111111111,
              "#46039f"
             ],
             [
              0.2222222222222222,
              "#7201a8"
             ],
             [
              0.3333333333333333,
              "#9c179e"
             ],
             [
              0.4444444444444444,
              "#bd3786"
             ],
             [
              0.5555555555555556,
              "#d8576b"
             ],
             [
              0.6666666666666666,
              "#ed7953"
             ],
             [
              0.7777777777777778,
              "#fb9f3a"
             ],
             [
              0.8888888888888888,
              "#fdca26"
             ],
             [
              1,
              "#f0f921"
             ]
            ],
            "type": "histogram2dcontour"
           }
          ],
          "mesh3d": [
           {
            "colorbar": {
             "outlinewidth": 0,
             "ticks": ""
            },
            "type": "mesh3d"
           }
          ],
          "parcoords": [
           {
            "line": {
             "colorbar": {
              "outlinewidth": 0,
              "ticks": ""
             }
            },
            "type": "parcoords"
           }
          ],
          "pie": [
           {
            "automargin": true,
            "type": "pie"
           }
          ],
          "scatter": [
           {
            "marker": {
             "colorbar": {
              "outlinewidth": 0,
              "ticks": ""
             }
            },
            "type": "scatter"
           }
          ],
          "scatter3d": [
           {
            "line": {
             "colorbar": {
              "outlinewidth": 0,
              "ticks": ""
             }
            },
            "marker": {
             "colorbar": {
              "outlinewidth": 0,
              "ticks": ""
             }
            },
            "type": "scatter3d"
           }
          ],
          "scattercarpet": [
           {
            "marker": {
             "colorbar": {
              "outlinewidth": 0,
              "ticks": ""
             }
            },
            "type": "scattercarpet"
           }
          ],
          "scattergeo": [
           {
            "marker": {
             "colorbar": {
              "outlinewidth": 0,
              "ticks": ""
             }
            },
            "type": "scattergeo"
           }
          ],
          "scattergl": [
           {
            "marker": {
             "colorbar": {
              "outlinewidth": 0,
              "ticks": ""
             }
            },
            "type": "scattergl"
           }
          ],
          "scattermapbox": [
           {
            "marker": {
             "colorbar": {
              "outlinewidth": 0,
              "ticks": ""
             }
            },
            "type": "scattermapbox"
           }
          ],
          "scatterpolar": [
           {
            "marker": {
             "colorbar": {
              "outlinewidth": 0,
              "ticks": ""
             }
            },
            "type": "scatterpolar"
           }
          ],
          "scatterpolargl": [
           {
            "marker": {
             "colorbar": {
              "outlinewidth": 0,
              "ticks": ""
             }
            },
            "type": "scatterpolargl"
           }
          ],
          "scatterternary": [
           {
            "marker": {
             "colorbar": {
              "outlinewidth": 0,
              "ticks": ""
             }
            },
            "type": "scatterternary"
           }
          ],
          "surface": [
           {
            "colorbar": {
             "outlinewidth": 0,
             "ticks": ""
            },
            "colorscale": [
             [
              0,
              "#0d0887"
             ],
             [
              0.1111111111111111,
              "#46039f"
             ],
             [
              0.2222222222222222,
              "#7201a8"
             ],
             [
              0.3333333333333333,
              "#9c179e"
             ],
             [
              0.4444444444444444,
              "#bd3786"
             ],
             [
              0.5555555555555556,
              "#d8576b"
             ],
             [
              0.6666666666666666,
              "#ed7953"
             ],
             [
              0.7777777777777778,
              "#fb9f3a"
             ],
             [
              0.8888888888888888,
              "#fdca26"
             ],
             [
              1,
              "#f0f921"
             ]
            ],
            "type": "surface"
           }
          ],
          "table": [
           {
            "cells": {
             "fill": {
              "color": "#EBF0F8"
             },
             "line": {
              "color": "white"
             }
            },
            "header": {
             "fill": {
              "color": "#C8D4E3"
             },
             "line": {
              "color": "white"
             }
            },
            "type": "table"
           }
          ]
         },
         "layout": {
          "annotationdefaults": {
           "arrowcolor": "#2a3f5f",
           "arrowhead": 0,
           "arrowwidth": 1
          },
          "autotypenumbers": "strict",
          "coloraxis": {
           "colorbar": {
            "outlinewidth": 0,
            "ticks": ""
           }
          },
          "colorscale": {
           "diverging": [
            [
             0,
             "#8e0152"
            ],
            [
             0.1,
             "#c51b7d"
            ],
            [
             0.2,
             "#de77ae"
            ],
            [
             0.3,
             "#f1b6da"
            ],
            [
             0.4,
             "#fde0ef"
            ],
            [
             0.5,
             "#f7f7f7"
            ],
            [
             0.6,
             "#e6f5d0"
            ],
            [
             0.7,
             "#b8e186"
            ],
            [
             0.8,
             "#7fbc41"
            ],
            [
             0.9,
             "#4d9221"
            ],
            [
             1,
             "#276419"
            ]
           ],
           "sequential": [
            [
             0,
             "#0d0887"
            ],
            [
             0.1111111111111111,
             "#46039f"
            ],
            [
             0.2222222222222222,
             "#7201a8"
            ],
            [
             0.3333333333333333,
             "#9c179e"
            ],
            [
             0.4444444444444444,
             "#bd3786"
            ],
            [
             0.5555555555555556,
             "#d8576b"
            ],
            [
             0.6666666666666666,
             "#ed7953"
            ],
            [
             0.7777777777777778,
             "#fb9f3a"
            ],
            [
             0.8888888888888888,
             "#fdca26"
            ],
            [
             1,
             "#f0f921"
            ]
           ],
           "sequentialminus": [
            [
             0,
             "#0d0887"
            ],
            [
             0.1111111111111111,
             "#46039f"
            ],
            [
             0.2222222222222222,
             "#7201a8"
            ],
            [
             0.3333333333333333,
             "#9c179e"
            ],
            [
             0.4444444444444444,
             "#bd3786"
            ],
            [
             0.5555555555555556,
             "#d8576b"
            ],
            [
             0.6666666666666666,
             "#ed7953"
            ],
            [
             0.7777777777777778,
             "#fb9f3a"
            ],
            [
             0.8888888888888888,
             "#fdca26"
            ],
            [
             1,
             "#f0f921"
            ]
           ]
          },
          "colorway": [
           "#636efa",
           "#EF553B",
           "#00cc96",
           "#ab63fa",
           "#FFA15A",
           "#19d3f3",
           "#FF6692",
           "#B6E880",
           "#FF97FF",
           "#FECB52"
          ],
          "font": {
           "color": "#2a3f5f"
          },
          "geo": {
           "bgcolor": "white",
           "lakecolor": "white",
           "landcolor": "#E5ECF6",
           "showlakes": true,
           "showland": true,
           "subunitcolor": "white"
          },
          "hoverlabel": {
           "align": "left"
          },
          "hovermode": "closest",
          "mapbox": {
           "style": "light"
          },
          "paper_bgcolor": "white",
          "plot_bgcolor": "#E5ECF6",
          "polar": {
           "angularaxis": {
            "gridcolor": "white",
            "linecolor": "white",
            "ticks": ""
           },
           "bgcolor": "#E5ECF6",
           "radialaxis": {
            "gridcolor": "white",
            "linecolor": "white",
            "ticks": ""
           }
          },
          "scene": {
           "xaxis": {
            "backgroundcolor": "#E5ECF6",
            "gridcolor": "white",
            "gridwidth": 2,
            "linecolor": "white",
            "showbackground": true,
            "ticks": "",
            "zerolinecolor": "white"
           },
           "yaxis": {
            "backgroundcolor": "#E5ECF6",
            "gridcolor": "white",
            "gridwidth": 2,
            "linecolor": "white",
            "showbackground": true,
            "ticks": "",
            "zerolinecolor": "white"
           },
           "zaxis": {
            "backgroundcolor": "#E5ECF6",
            "gridcolor": "white",
            "gridwidth": 2,
            "linecolor": "white",
            "showbackground": true,
            "ticks": "",
            "zerolinecolor": "white"
           }
          },
          "shapedefaults": {
           "line": {
            "color": "#2a3f5f"
           }
          },
          "ternary": {
           "aaxis": {
            "gridcolor": "white",
            "linecolor": "white",
            "ticks": ""
           },
           "baxis": {
            "gridcolor": "white",
            "linecolor": "white",
            "ticks": ""
           },
           "bgcolor": "#E5ECF6",
           "caxis": {
            "gridcolor": "white",
            "linecolor": "white",
            "ticks": ""
           }
          },
          "title": {
           "x": 0.05
          },
          "xaxis": {
           "automargin": true,
           "gridcolor": "white",
           "linecolor": "white",
           "ticks": "",
           "title": {
            "standoff": 15
           },
           "zerolinecolor": "white",
           "zerolinewidth": 2
          },
          "yaxis": {
           "automargin": true,
           "gridcolor": "white",
           "linecolor": "white",
           "ticks": "",
           "title": {
            "standoff": 15
           },
           "zerolinecolor": "white",
           "zerolinewidth": 2
          }
         }
        },
        "xaxis": {
         "anchor": "y",
         "autorange": true,
         "domain": [
          0,
          1
         ],
         "range": [
          -1,
          6
         ],
         "title": {
          "text": "Labels"
         }
        },
        "yaxis": {
         "anchor": "x",
         "autorange": true,
         "domain": [
          0,
          1
         ],
         "range": [
          -1,
          4
         ],
         "title": {
          "text": "Text"
         }
        }
       }
      },
      "image/png": "[encoded data removed]",
      "text/html": [
       "<div>                            <div id=\"228ab325-427c-4c49-9572-49fdf3f5eb15\" class=\"plotly-graph-div\" style=\"height:525px; width:100%;\"></div>            <script type=\"text/javascript\">                require([\"plotly\"], function(Plotly) {                    window.PLOTLYENV=window.PLOTLYENV || {};                                    if (document.getElementById(\"228ab325-427c-4c49-9572-49fdf3f5eb15\")) {                    Plotly.newPlot(                        \"228ab325-427c-4c49-9572-49fdf3f5eb15\",                        [],                        {\"template\":{\"data\":{\"bar\":[{\"error_x\":{\"color\":\"#2a3f5f\"},\"error_y\":{\"color\":\"#2a3f5f\"},\"marker\":{\"line\":{\"color\":\"#E5ECF6\",\"width\":0.5},\"pattern\":{\"fillmode\":\"overlay\",\"size\":10,\"solidity\":0.2}},\"type\":\"bar\"}],\"barpolar\":[{\"marker\":{\"line\":{\"color\":\"#E5ECF6\",\"width\":0.5},\"pattern\":{\"fillmode\":\"overlay\",\"size\":10,\"solidity\":0.2}},\"type\":\"barpolar\"}],\"carpet\":[{\"aaxis\":{\"endlinecolor\":\"#2a3f5f\",\"gridcolor\":\"white\",\"linecolor\":\"white\",\"minorgridcolor\":\"white\",\"startlinecolor\":\"#2a3f5f\"},\"baxis\":{\"endlinecolor\":\"#2a3f5f\",\"gridcolor\":\"white\",\"linecolor\":\"white\",\"minorgridcolor\":\"white\",\"startlinecolor\":\"#2a3f5f\"},\"type\":\"carpet\"}],\"choropleth\":[{\"colorbar\":{\"outlinewidth\":0,\"ticks\":\"\"},\"type\":\"choropleth\"}],\"contour\":[{\"colorbar\":{\"outlinewidth\":0,\"ticks\":\"\"},\"colorscale\":[[0.0,\"#0d0887\"],[0.1111111111111111,\"#46039f\"],[0.2222222222222222,\"#7201a8\"],[0.3333333333333333,\"#9c179e\"],[0.4444444444444444,\"#bd3786\"],[0.5555555555555556,\"#d8576b\"],[0.6666666666666666,\"#ed7953\"],[0.7777777777777778,\"#fb9f3a\"],[0.8888888888888888,\"#fdca26\"],[1.0,\"#f0f921\"]],\"type\":\"contour\"}],\"contourcarpet\":[{\"colorbar\":{\"outlinewidth\":0,\"ticks\":\"\"},\"type\":\"contourcarpet\"}],\"heatmap\":[{\"colorbar\":{\"outlinewidth\":0,\"ticks\":\"\"},\"colorscale\":[[0.0,\"#0d0887\"],[0.1111111111111111,\"#46039f\"],[0.2222222222222222,\"#7201a8\"],[0.3333333333333333,\"#9c179e\"],[0.4444444444444444,\"#bd3786\"],[0.5555555555555556,\"#d8576b\"],[0.6666666666666666,\"#ed7953\"],[0.7777777777777778,\"#fb9f3a\"],[0.8888888888888888,\"#fdca26\"],[1.0,\"#f0f921\"]],\"type\":\"heatmap\"}],\"heatmapgl\":[{\"colorbar\":{\"outlinewidth\":0,\"ticks\":\"\"},\"colorscale\":[[0.0,\"#0d0887\"],[0.1111111111111111,\"#46039f\"],[0.2222222222222222,\"#7201a8\"],[0.3333333333333333,\"#9c179e\"],[0.4444444444444444,\"#bd3786\"],[0.5555555555555556,\"#d8576b\"],[0.6666666666666666,\"#ed7953\"],[0.7777777777777778,\"#fb9f3a\"],[0.8888888888888888,\"#fdca26\"],[1.0,\"#f0f921\"]],\"type\":\"heatmapgl\"}],\"histogram\":[{\"marker\":{\"pattern\":{\"fillmode\":\"overlay\",\"size\":10,\"solidity\":0.2}},\"type\":\"histogram\"}],\"histogram2d\":[{\"colorbar\":{\"outlinewidth\":0,\"ticks\":\"\"},\"colorscale\":[[0.0,\"#0d0887\"],[0.1111111111111111,\"#46039f\"],[0.2222222222222222,\"#7201a8\"],[0.3333333333333333,\"#9c179e\"],[0.4444444444444444,\"#bd3786\"],[0.5555555555555556,\"#d8576b\"],[0.6666666666666666,\"#ed7953\"],[0.7777777777777778,\"#fb9f3a\"],[0.8888888888888888,\"#fdca26\"],[1.0,\"#f0f921\"]],\"type\":\"histogram2d\"}],\"histogram2dcontour\":[{\"colorbar\":{\"outlinewidth\":0,\"ticks\":\"\"},\"colorscale\":[[0.0,\"#0d0887\"],[0.1111111111111111,\"#46039f\"],[0.2222222222222222,\"#7201a8\"],[0.3333333333333333,\"#9c179e\"],[0.4444444444444444,\"#bd3786\"],[0.5555555555555556,\"#d8576b\"],[0.6666666666666666,\"#ed7953\"],[0.7777777777777778,\"#fb9f3a\"],[0.8888888888888888,\"#fdca26\"],[1.0,\"#f0f921\"]],\"type\":\"histogram2dcontour\"}],\"mesh3d\":[{\"colorbar\":{\"outlinewidth\":0,\"ticks\":\"\"},\"type\":\"mesh3d\"}],\"parcoords\":[{\"line\":{\"colorbar\":{\"outlinewidth\":0,\"ticks\":\"\"}},\"type\":\"parcoords\"}],\"pie\":[{\"automargin\":true,\"type\":\"pie\"}],\"scatter\":[{\"marker\":{\"colorbar\":{\"outlinewidth\":0,\"ticks\":\"\"}},\"type\":\"scatter\"}],\"scatter3d\":[{\"line\":{\"colorbar\":{\"outlinewidth\":0,\"ticks\":\"\"}},\"marker\":{\"colorbar\":{\"outlinewidth\":0,\"ticks\":\"\"}},\"type\":\"scatter3d\"}],\"scattercarpet\":[{\"marker\":{\"colorbar\":{\"outlinewidth\":0,\"ticks\":\"\"}},\"type\":\"scattercarpet\"}],\"scattergeo\":[{\"marker\":{\"colorbar\":{\"outlinewidth\":0,\"ticks\":\"\"}},\"type\":\"scattergeo\"}],\"scattergl\":[{\"marker\":{\"colorbar\":{\"outlinewidth\":0,\"ticks\":\"\"}},\"type\":\"scattergl\"}],\"scattermapbox\":[{\"marker\":{\"colorbar\":{\"outlinewidth\":0,\"ticks\":\"\"}},\"type\":\"scattermapbox\"}],\"scatterpolar\":[{\"marker\":{\"colorbar\":{\"outlinewidth\":0,\"ticks\":\"\"}},\"type\":\"scatterpolar\"}],\"scatterpolargl\":[{\"marker\":{\"colorbar\":{\"outlinewidth\":0,\"ticks\":\"\"}},\"type\":\"scatterpolargl\"}],\"scatterternary\":[{\"marker\":{\"colorbar\":{\"outlinewidth\":0,\"ticks\":\"\"}},\"type\":\"scatterternary\"}],\"surface\":[{\"colorbar\":{\"outlinewidth\":0,\"ticks\":\"\"},\"colorscale\":[[0.0,\"#0d0887\"],[0.1111111111111111,\"#46039f\"],[0.2222222222222222,\"#7201a8\"],[0.3333333333333333,\"#9c179e\"],[0.4444444444444444,\"#bd3786\"],[0.5555555555555556,\"#d8576b\"],[0.6666666666666666,\"#ed7953\"],[0.7777777777777778,\"#fb9f3a\"],[0.8888888888888888,\"#fdca26\"],[1.0,\"#f0f921\"]],\"type\":\"surface\"}],\"table\":[{\"cells\":{\"fill\":{\"color\":\"#EBF0F8\"},\"line\":{\"color\":\"white\"}},\"header\":{\"fill\":{\"color\":\"#C8D4E3\"},\"line\":{\"color\":\"white\"}},\"type\":\"table\"}]},\"layout\":{\"annotationdefaults\":{\"arrowcolor\":\"#2a3f5f\",\"arrowhead\":0,\"arrowwidth\":1},\"autotypenumbers\":\"strict\",\"coloraxis\":{\"colorbar\":{\"outlinewidth\":0,\"ticks\":\"\"}},\"colorscale\":{\"diverging\":[[0,\"#8e0152\"],[0.1,\"#c51b7d\"],[0.2,\"#de77ae\"],[0.3,\"#f1b6da\"],[0.4,\"#fde0ef\"],[0.5,\"#f7f7f7\"],[0.6,\"#e6f5d0\"],[0.7,\"#b8e186\"],[0.8,\"#7fbc41\"],[0.9,\"#4d9221\"],[1,\"#276419\"]],\"sequential\":[[0.0,\"#0d0887\"],[0.1111111111111111,\"#46039f\"],[0.2222222222222222,\"#7201a8\"],[0.3333333333333333,\"#9c179e\"],[0.4444444444444444,\"#bd3786\"],[0.5555555555555556,\"#d8576b\"],[0.6666666666666666,\"#ed7953\"],[0.7777777777777778,\"#fb9f3a\"],[0.8888888888888888,\"#fdca26\"],[1.0,\"#f0f921\"]],\"sequentialminus\":[[0.0,\"#0d0887\"],[0.1111111111111111,\"#46039f\"],[0.2222222222222222,\"#7201a8\"],[0.3333333333333333,\"#9c179e\"],[0.4444444444444444,\"#bd3786\"],[0.5555555555555556,\"#d8576b\"],[0.6666666666666666,\"#ed7953\"],[0.7777777777777778,\"#fb9f3a\"],[0.8888888888888888,\"#fdca26\"],[1.0,\"#f0f921\"]]},\"colorway\":[\"#636efa\",\"#EF553B\",\"#00cc96\",\"#ab63fa\",\"#FFA15A\",\"#19d3f3\",\"#FF6692\",\"#B6E880\",\"#FF97FF\",\"#FECB52\"],\"font\":{\"color\":\"#2a3f5f\"},\"geo\":{\"bgcolor\":\"white\",\"lakecolor\":\"white\",\"landcolor\":\"#E5ECF6\",\"showlakes\":true,\"showland\":true,\"subunitcolor\":\"white\"},\"hoverlabel\":{\"align\":\"left\"},\"hovermode\":\"closest\",\"mapbox\":{\"style\":\"light\"},\"paper_bgcolor\":\"white\",\"plot_bgcolor\":\"#E5ECF6\",\"polar\":{\"angularaxis\":{\"gridcolor\":\"white\",\"linecolor\":\"white\",\"ticks\":\"\"},\"bgcolor\":\"#E5ECF6\",\"radialaxis\":{\"gridcolor\":\"white\",\"linecolor\":\"white\",\"ticks\":\"\"}},\"scene\":{\"xaxis\":{\"backgroundcolor\":\"#E5ECF6\",\"gridcolor\":\"white\",\"gridwidth\":2,\"linecolor\":\"white\",\"showbackground\":true,\"ticks\":\"\",\"zerolinecolor\":\"white\"},\"yaxis\":{\"backgroundcolor\":\"#E5ECF6\",\"gridcolor\":\"white\",\"gridwidth\":2,\"linecolor\":\"white\",\"showbackground\":true,\"ticks\":\"\",\"zerolinecolor\":\"white\"},\"zaxis\":{\"backgroundcolor\":\"#E5ECF6\",\"gridcolor\":\"white\",\"gridwidth\":2,\"linecolor\":\"white\",\"showbackground\":true,\"ticks\":\"\",\"zerolinecolor\":\"white\"}},\"shapedefaults\":{\"line\":{\"color\":\"#2a3f5f\"}},\"ternary\":{\"aaxis\":{\"gridcolor\":\"white\",\"linecolor\":\"white\",\"ticks\":\"\"},\"baxis\":{\"gridcolor\":\"white\",\"linecolor\":\"white\",\"ticks\":\"\"},\"bgcolor\":\"#E5ECF6\",\"caxis\":{\"gridcolor\":\"white\",\"linecolor\":\"white\",\"ticks\":\"\"}},\"title\":{\"x\":0.05},\"xaxis\":{\"automargin\":true,\"gridcolor\":\"white\",\"linecolor\":\"white\",\"ticks\":\"\",\"title\":{\"standoff\":15},\"zerolinecolor\":\"white\",\"zerolinewidth\":2},\"yaxis\":{\"automargin\":true,\"gridcolor\":\"white\",\"linecolor\":\"white\",\"ticks\":\"\",\"title\":{\"standoff\":15},\"zerolinecolor\":\"white\",\"zerolinewidth\":2}}},\"xaxis\":{\"anchor\":\"y\",\"domain\":[0.0,1.0],\"title\":{\"text\":\"Labels\"}},\"yaxis\":{\"anchor\":\"x\",\"domain\":[0.0,1.0],\"title\":{\"text\":\"Text\"}},\"legend\":{\"tracegroupgap\":0},\"margin\":{\"t\":60},\"barmode\":\"relative\"},                        {\"responsive\": true}                    ).then(function(){\n",
       "                            \n",
       "var gd = document.getElementById('228ab325-427c-4c49-9572-49fdf3f5eb15');\n",
       "var x = new MutationObserver(function (mutations, observer) {{\n",
       "        var display = window.getComputedStyle(gd).display;\n",
       "        if (!display || display === 'none') {{\n",
       "            console.log([gd, 'removed!']);\n",
       "            Plotly.purge(gd);\n",
       "            observer.disconnect();\n",
       "        }}\n",
       "}});\n",
       "\n",
       "// Listen for the removal of the full notebook cells\n",
       "var notebookContainer = gd.closest('#notebook-container');\n",
       "if (notebookContainer) {{\n",
       "    x.observe(notebookContainer, {childList: true});\n",
       "}}\n",
       "\n",
       "// Listen for the clearing of the current output cell\n",
       "var outputEl = gd.closest('.output');\n",
       "if (outputEl) {{\n",
       "    x.observe(outputEl, {childList: true});\n",
       "}}\n",
       "\n",
       "                        })                };                });            </script>        </div>"
      ]
     },
     "metadata": {},
     "output_type": "display_data"
    }
   ],
   "source": [
    "import plotly.express as px\n",
    "px.bar(count_df[count_df['Text']>3000],x='Labels',y='Text')"
   ]
  },
  {
   "cell_type": "code",
   "execution_count": 91,
   "metadata": {},
   "outputs": [],
   "source": [
    "import re\n",
    "\n",
    "def clean_text(x):\n",
    "    pattern = r'[^a-zA-z0-9\\s]'\n",
    "    text = re.sub(pattern, '', x)\n",
    "    return x\n",
    "\n",
    "def clean_numbers(x):\n",
    "    if bool(re.search(r'\\d', x)):\n",
    "        x = re.sub('[0-9]{5,}', '#####', x)\n",
    "        x = re.sub('[0-9]{4}', '####', x)\n",
    "        x = re.sub('[0-9]{3}', '###', x)\n",
    "        x = re.sub('[0-9]{2}', '##', x)\n",
    "    return x"
   ]
  },
  {
   "cell_type": "code",
   "execution_count": 92,
   "metadata": {},
   "outputs": [
    {
     "data": {
      "text/plain": [
       "'this is a text with contraction'"
      ]
     },
     "execution_count": 92,
     "metadata": {},
     "output_type": "execute_result"
    }
   ],
   "source": [
    "\n",
    "contraction_dict = {\"ain't\": \"is not\", \"aren't\": \"are not\",\"can't\": \"cannot\", \"'cause\": \"because\", \"could've\": \"could have\", \"couldn't\": \"could not\", \"didn't\": \"did not\",  \"doesn't\": \"does not\", \"don't\": \"do not\", \"hadn't\": \"had not\", \"hasn't\": \"has not\", \"haven't\": \"have not\", \"he'd\": \"he would\",\"he'll\": \"he will\", \"he's\": \"he is\", \"how'd\": \"how did\", \"how'd'y\": \"how do you\", \"how'll\": \"how will\", \"how's\": \"how is\",  \"I'd\": \"I would\", \"I'd've\": \"I would have\", \"I'll\": \"I will\", \"I'll've\": \"I will have\",\"I'm\": \"I am\", \"I've\": \"I have\", \"i'd\": \"i would\", \"i'd've\": \"i would have\", \"i'll\": \"i will\",  \"i'll've\": \"i will have\",\"i'm\": \"i am\", \"i've\": \"i have\", \"isn't\": \"is not\", \"it'd\": \"it would\", \"it'd've\": \"it would have\", \"it'll\": \"it will\", \"it'll've\": \"it will have\",\"it's\": \"it is\", \"let's\": \"let us\", \"ma'am\": \"madam\", \"mayn't\": \"may not\", \"might've\": \"might have\",\"mightn't\": \"might not\",\"mightn't've\": \"might not have\", \"must've\": \"must have\", \"mustn't\": \"must not\", \"mustn't've\": \"must not have\", \"needn't\": \"need not\", \"needn't've\": \"need not have\",\"o'clock\": \"of the clock\", \"oughtn't\": \"ought not\", \"oughtn't've\": \"ought not have\", \"shan't\": \"shall not\", \"sha'n't\": \"shall not\", \"shan't've\": \"shall not have\", \"she'd\": \"she would\", \"she'd've\": \"she would have\", \"she'll\": \"she will\", \"she'll've\": \"she will have\", \"she's\": \"she is\", \"should've\": \"should have\", \"shouldn't\": \"should not\", \"shouldn't've\": \"should not have\", \"so've\": \"so have\",\"so's\": \"so as\", \"this's\": \"this is\",\"that'd\": \"that would\", \"that'd've\": \"that would have\", \"that's\": \"that is\", \"there'd\": \"there would\", \"there'd've\": \"there would have\", \"there's\": \"there is\", \"here's\": \"here is\",\"they'd\": \"they would\", \"they'd've\": \"they would have\", \"they'll\": \"they will\", \"they'll've\": \"they will have\", \"they're\": \"they are\", \"they've\": \"they have\", \"to've\": \"to have\", \"wasn't\": \"was not\", \"we'd\": \"we would\", \"we'd've\": \"we would have\", \"we'll\": \"we will\", \"we'll've\": \"we will have\", \"we're\": \"we are\", \"we've\": \"we have\", \"weren't\": \"were not\", \"what'll\": \"what will\", \"what'll've\": \"what will have\", \"what're\": \"what are\",  \"what's\": \"what is\", \"what've\": \"what have\", \"when's\": \"when is\", \"when've\": \"when have\", \"where'd\": \"where did\", \"where's\": \"where is\", \"where've\": \"where have\", \"who'll\": \"who will\", \"who'll've\": \"who will have\", \"who's\": \"who is\", \"who've\": \"who have\", \"why's\": \"why is\", \"why've\": \"why have\", \"will've\": \"will have\", \"won't\": \"will not\", \"won't've\": \"will not have\", \"would've\": \"would have\", \"wouldn't\": \"would not\", \"wouldn't've\": \"would not have\", \"y'all\": \"you all\", \"y'all'd\": \"you all would\",\"y'all'd've\": \"you all would have\",\"y'all're\": \"you all are\",\"y'all've\": \"you all have\",\"you'd\": \"you would\", \"you'd've\": \"you would have\", \"you'll\": \"you will\", \"you'll've\": \"you will have\", \"you're\": \"you are\", \"you've\": \"you have\"}\n",
    "def _get_contractions(contraction_dict):\n",
    "    contraction_re = re.compile('(%s)' % '|'.join(contraction_dict.keys()))\n",
    "    return contraction_dict, contraction_re\n",
    "contractions, contractions_re = _get_contractions(contraction_dict)\n",
    "def replace_contractions(text):\n",
    "    def replace(match):\n",
    "        return contractions[match.group(0)]\n",
    "    return contractions_re.sub(replace, text)\n",
    "# Usage\n",
    "replace_contractions(\"this's a text with contraction\")"
   ]
  },
  {
   "cell_type": "code",
   "execution_count": 93,
   "metadata": {},
   "outputs": [],
   "source": [
    "# lower the text\n",
    "data[\"Text\"] = data[\"Text\"].apply(lambda x: x.lower())\n",
    "\n",
    "# Clean the text\n",
    "data[\"Text\"] = data[\"Text\"].apply(lambda x: clean_text(x))\n",
    "\n",
    "# Clean numbers\n",
    "data[\"Text\"] = data[\"Text\"].apply(lambda x: clean_numbers(x))\n",
    "\n",
    "# Clean Contractions\n",
    "data[\"Text\"] = data[\"Text\"].apply(lambda x: replace_contractions(x))"
   ]
  },
  {
   "cell_type": "code",
   "execution_count": 97,
   "metadata": {},
   "outputs": [
    {
     "data": {
      "text/html": [
       "<div>\n",
       "<style scoped>\n",
       "    .dataframe tbody tr th:only-of-type {\n",
       "        vertical-align: middle;\n",
       "    }\n",
       "\n",
       "    .dataframe tbody tr th {\n",
       "        vertical-align: top;\n",
       "    }\n",
       "\n",
       "    .dataframe thead th {\n",
       "        text-align: right;\n",
       "    }\n",
       "</style>\n",
       "<table border=\"1\" class=\"dataframe\">\n",
       "  <thead>\n",
       "    <tr style=\"text-align: right;\">\n",
       "      <th></th>\n",
       "      <th>Text</th>\n",
       "      <th>Labels</th>\n",
       "      <th>len</th>\n",
       "    </tr>\n",
       "  </thead>\n",
       "  <tbody>\n",
       "    <tr>\n",
       "      <th>0</th>\n",
       "      <td>\\n#####\\nhlgmc\\n#####\\n#####\\n##/##/#### ##:##...</td>\n",
       "      <td>SMOKER</td>\n",
       "      <td>3855</td>\n",
       "    </tr>\n",
       "    <tr>\n",
       "      <th>1</th>\n",
       "      <td>\\n#####\\ncmc\\n#####\\n3/##/#### ##:##:## am\\nme...</td>\n",
       "      <td>SMOKER</td>\n",
       "      <td>4985</td>\n",
       "    </tr>\n",
       "    <tr>\n",
       "      <th>2</th>\n",
       "      <td>\\n#####\\nbh\\n#####\\n#####\\n##/##/#### ##:##:##...</td>\n",
       "      <td>SMOKER</td>\n",
       "      <td>7926</td>\n",
       "    </tr>\n",
       "    <tr>\n",
       "      <th>3</th>\n",
       "      <td>\\n#####\\nnvh\\n#####\\n3/##/#### ##:##:## am\\ndi...</td>\n",
       "      <td>SMOKER</td>\n",
       "      <td>8872</td>\n",
       "    </tr>\n",
       "    <tr>\n",
       "      <th>4</th>\n",
       "      <td>\\n#####\\nctmc\\n#####\\n#####\\n1/##/#### ##:##:#...</td>\n",
       "      <td>SMOKER</td>\n",
       "      <td>3087</td>\n",
       "    </tr>\n",
       "  </tbody>\n",
       "</table>\n",
       "</div>"
      ],
      "text/plain": [
       "                                                Text  Labels   len\n",
       "0  \\n#####\\nhlgmc\\n#####\\n#####\\n##/##/#### ##:##...  SMOKER  3855\n",
       "1  \\n#####\\ncmc\\n#####\\n3/##/#### ##:##:## am\\nme...  SMOKER  4985\n",
       "2  \\n#####\\nbh\\n#####\\n#####\\n##/##/#### ##:##:##...  SMOKER  7926\n",
       "3  \\n#####\\nnvh\\n#####\\n3/##/#### ##:##:## am\\ndi...  SMOKER  8872\n",
       "4  \\n#####\\nctmc\\n#####\\n#####\\n1/##/#### ##:##:#...  SMOKER  3087"
      ]
     },
     "execution_count": 97,
     "metadata": {},
     "output_type": "execute_result"
    }
   ],
   "source": [
    "data.head()"
   ]
  },
  {
   "cell_type": "code",
   "execution_count": 95,
   "metadata": {},
   "outputs": [
    {
     "data": {
      "text/plain": [
       "array(['SMOKER', 'NON-SMOKER'], dtype=object)"
      ]
     },
     "execution_count": 95,
     "metadata": {},
     "output_type": "execute_result"
    }
   ],
   "source": [
    "data['Labels'].unique()"
   ]
  },
  {
   "cell_type": "code",
   "execution_count": 98,
   "metadata": {},
   "outputs": [
    {
     "data": {
      "text/html": [
       "<div>\n",
       "<style scoped>\n",
       "    .dataframe tbody tr th:only-of-type {\n",
       "        vertical-align: middle;\n",
       "    }\n",
       "\n",
       "    .dataframe tbody tr th {\n",
       "        vertical-align: top;\n",
       "    }\n",
       "\n",
       "    .dataframe thead th {\n",
       "        text-align: right;\n",
       "    }\n",
       "</style>\n",
       "<table border=\"1\" class=\"dataframe\">\n",
       "  <thead>\n",
       "    <tr style=\"text-align: right;\">\n",
       "      <th></th>\n",
       "      <th>Text</th>\n",
       "      <th>Labels</th>\n",
       "      <th>len</th>\n",
       "    </tr>\n",
       "  </thead>\n",
       "  <tbody>\n",
       "    <tr>\n",
       "      <th>80</th>\n",
       "      <td>\\n#####\\nnvh\\n#####\\n##/##/#### ##:##:## am\\np...</td>\n",
       "      <td>NON-SMOKER</td>\n",
       "      <td>7323</td>\n",
       "    </tr>\n",
       "    <tr>\n",
       "      <th>81</th>\n",
       "      <td>\\n#####\\nnvh\\n#####\\n1/##/#### ##:##:## am\\ndi...</td>\n",
       "      <td>NON-SMOKER</td>\n",
       "      <td>9041</td>\n",
       "    </tr>\n",
       "    <tr>\n",
       "      <th>82</th>\n",
       "      <td>\\n#####\\nctmc\\n#####\\n#####\\n##/##/#### ##:##:...</td>\n",
       "      <td>NON-SMOKER</td>\n",
       "      <td>6668</td>\n",
       "    </tr>\n",
       "    <tr>\n",
       "      <th>83</th>\n",
       "      <td>\\n#####\\nctmc\\n#####\\n#####\\n##/##/#### ##:##:...</td>\n",
       "      <td>NON-SMOKER</td>\n",
       "      <td>3218</td>\n",
       "    </tr>\n",
       "    <tr>\n",
       "      <th>84</th>\n",
       "      <td>\\n#####\\npuomc\\n#####\\n#####\\n#####\\n1/##/####...</td>\n",
       "      <td>NON-SMOKER</td>\n",
       "      <td>7501</td>\n",
       "    </tr>\n",
       "  </tbody>\n",
       "</table>\n",
       "</div>"
      ],
      "text/plain": [
       "                                                 Text      Labels   len\n",
       "80  \\n#####\\nnvh\\n#####\\n##/##/#### ##:##:## am\\np...  NON-SMOKER  7323\n",
       "81  \\n#####\\nnvh\\n#####\\n1/##/#### ##:##:## am\\ndi...  NON-SMOKER  9041\n",
       "82  \\n#####\\nctmc\\n#####\\n#####\\n##/##/#### ##:##:...  NON-SMOKER  6668\n",
       "83  \\n#####\\nctmc\\n#####\\n#####\\n##/##/#### ##:##:...  NON-SMOKER  3218\n",
       "84  \\n#####\\npuomc\\n#####\\n#####\\n#####\\n1/##/####...  NON-SMOKER  7501"
      ]
     },
     "execution_count": 98,
     "metadata": {},
     "output_type": "execute_result"
    }
   ],
   "source": [
    "data_nonsmoker=data[data['Labels']==\"NON-SMOKER\"]\n",
    "data_nonsmoker.head()"
   ]
  },
  {
   "cell_type": "code",
   "execution_count": 129,
   "metadata": {},
   "outputs": [
    {
     "name": "stdout",
     "output_type": "stream",
     "text": [
      "['\\n#####\\nnvh\\n#####\\n##/##/#### ##:##:## am\\npelvic mass\\nsigned\\ndis\\nadmission date :\\n##/##/####\\nreport status :\\nsigned\\ndischarge date :\\n##/##/####\\nattending :\\nday second md\\nthis dictation goes through ##/##/## .', 'the patient received care on the baydell medical center .', 'principal diagnosis :\\npelvic mass .', 'problems :\\ninclude hypertension .', 'history of present illness :\\nthis is a ##-year-old female status post ert with recurrence of a pelvic mass and resection at an outside hospital in ##/## .', 'per the patient , the mass was benign .', 'the patient developed severe left lower quadrant pain in ##/## .', 'an mri was done on ##/##/## that showed an 8 cm left lower quadrant mass with both cystic and solid components .', 'the patient was started on lupron on ##/##/## , but pain was not affected .', 'she was put on vicodin es and ultram with minimal relief .', \"on ##/##/## , the patient 's pain increased and she presented to an outside hospital with nausea and vomiting and an inability to tolerate p.o.\", 'intake .', 'the left lower quadrant pain in the groin radiated to the left knee .', 'no fevers or chills , no vaginal discharge or bleeding .', 'potassium at the outside hospital was 3.1 .\\nwhite count was ##.3 with ##% bands .', 'hematocrit was ##.7 .\\nthe patient was transferred to nvh after receiving intravenous fluid with potassium , demerol for pain control and clindamycin , valium and droperidol .', 'past medical history :\\nhypothyroidism , arthritis , hypertension , hypercholesterolemia , anemia and asthma .', 'surgical history :\\na tah-bso in #### and an exploratory laparotomy with resection of a pelvic mass in ##/## .', 'medications at home :\\n1. vicodin ##/### p.r.n.', '2. ultram .', '3. verapamil ### mg b.i.d.', '4. synthroid ### mcg q.d.', '5. hctz ## mg q.d.', '6. arthrotec 0.2 mg b.i.d.', '7. advair ###/## mcg one puff q.a.m.', '8. tofranil .', '9. ambien ## mg q.h.s.', '##.', 'trazadone ### mg q.h.s.', '##.', 'ferrous sulfate ### mg t.i.d.', '##.', 'colace .', 'allergies :\\nher allergies are penicillin , which cause throat edema .', 'social history :\\nno tobacco , alcohol or drug use .', 'the patient was admitted to nvh and started on vancomycin , levofloxacin and flagyl .', 'cultures were taken .', 'blood cultures were done for a possible rectosigmoid mass or fistula and a ct showed questionable abscess versus tumor in the left lower quadrant .', 'blood cultures done on ##/##/## grew c. perfringens .', 'other blood culture was negative .', 'on ##/##/## , a pe protocol ct was negative for both dvt and pe .', 'the patient was taken to the operating room for bilateral stent placement , resection of the pelvic mass , lysis of adhesions , left ureterolysis , rectosigmoid resection , sbr , removal of a vaginal tumor , omentectomy complicated by an enterotomy and was admitted to the icu postoperatively on ##/##/## .', 'postoperative course by systems is as follows :\\n1. neuro :\\nshe had a pcea for pain , then a dilaudid pca .', 'the patient was anxious with depression poorly controlled until ##/##/## .', 'the patient was seen by onc psychiatry consult , who recommended imipramine ## mg ; that was subsequently increased to ### mg p.o.', 'q.h.s.', ', trazadone ### mg q.h.s.', 'and ambien ## mg q.h.s.', '2. cardiovascular :\\nthe patient has baseline hypertension that was difficult to control .', 'in the icu , the patient was on enalapril , hydralazine and labetalol .', 'after a cardiology consulton ##/##/## , the patient was started on metoprolol ### mg p.o.', 'q.i.d.', ', lisinopril ## mg q.d.', ', hydrochlorothiazide ## mg q.d. .\\nhydralazine was stopped .', 'blood pressure stayed high with an sbp in the ###s , so amlodipine ## mg q.d.', 'was added and that blood pressure was still elevated .', 'at the time of transfer to the ________ onc service , blood pressure was within the normal range .', '3. pulmonary :\\nthe patient was extubated on ##/##/## .', 'once the patient was extubated , after the third surgery , the patient could not be weaned off 2 liters of nasal cannula and was to ______ to ## breaths per minute despite nebulizer treatment .', 'the patient was restarted on advair and by ##/##/## , was weaned to room air likely an effective advair and control of anxiety and psychiatric issues .', '4. gi :\\non postoperative day 4 , after the initial surgery , the patient had increased shortness of breath and tachycardia with abdominal pain .', 'a chest x-ray revealed increased free air under the diaphragm .', 'a ct revealed a large amount of free air .', 'the patient was taken to the or on postop day 5 for emergent exploratory laparotomy that disclosed a small bowel enterotomy with 2 liters of bilious fluid within the peritoneum .', 'on postop day 9 , the patient had a similar increased abdominal pain episode and was taken back to the operating room for another emergent exploratory laparotomy revealing another peroration at the site of previous repair .', 'intraoperatively , the patient suffered hypotension with induction and respiratory insufficiency .', 'the patient was transferred to the icu intubated with stable .', 'the patient was kept npo with an ng tube until postop day ## and_____ started on clear sips with tpn for nutritional supplementation .', 'the patient intermittently tolerated diet advancement , but then would vomit and would have the ng tube replaced .', 'the patient , at the time of transfer , was tolerating clears with low stoma output , likely to tolerate slow advancement .', 'the patient still had a picc line at the time , although tpn was being held and calorie counts were done to evaluate the benefit of p.o.', 'nutrition .', '5. gu :\\nno issues .', 'the patient generally had good urine output .', 'presumably , should follow up with the urology clinic for removal of the ureteral stents at some point .', '6. infectious disease :\\nblood cultures mentioned previously were positive for c. perfringens .', 'the patient was started on empiricvancomycin , levofloxacin and flagyl after the second exploratory laparotomy .', 'she was started on vancomycin , levofloxacin , flagyl , doxycycline and fluconazole .', 'blood cultures drawn on ##/##/## were negative .', 'jp drain was cultured on ##/##/## along with aurine culture .', 'tlc , tib and blood culture were all negative .', \"these were cultured because the patient 's white blood count was increasing to the mid ##s without fever or other symptoms for explanation .\", 'the patient , at the time of transfer , to the gyn / onc service was not antibiotics and the white blood cell count was trending down .', '7. heme :\\nthe patient was stable .', 'she was receiving sub .q.', 'heparin for dvt prophylaxis postoperatively .', 'on postop day 6 , an id consult noted erythema at the right ij line site .', 'on postop day 8 , the right ij line was pulled .', 'the tip was cultured with no growth .', 'on postop day 9 , bilateral upper extremity dopplers revealed a right ij clot .', 'the patient was started on heparin .', 'the patient transitioned to lovenox on ##/##/## after a cardiology consult indicated increased survival with lovenox therapy .', '8. endocrine :\\nhas a history of hypothyroidism .', 'the patient was on home synthroid dose during her hospitalization , insulin sliding scale with q.6h.', 'fingersticks while she was on tpn .', 'the patient was transferred to the gynecologic oncology service on ##/##/## .', 'the rest of the dictation is to follow .', 'escription document :\\n2-##### jfddaua tel\\ndictated by :\\nfoordrig , la boma\\nattending :\\nsecond , ca dictation id #####\\nd :\\n##/##/##\\nt :\\n##/##/##\\n[ report_end ]']\n"
     ]
    },
    {
     "name": "stderr",
     "output_type": "stream",
     "text": [
      "[nltk_data] Downloading package punkt to\n",
      "[nltk_data]     /ihome/yanshanwang/sos86/nltk_data...\n",
      "[nltk_data]   Package punkt is already up-to-date!\n"
     ]
    }
   ],
   "source": [
    "import nltk\n",
    "nltk.download('punkt')\n",
    "# text = \"I do not like green eggs and ham. I do like them Sam-I-am.\"\n",
    "text=data_nonsmoker.Text.to_list()\n",
    "a_list = nltk.tokenize.sent_tokenize(text[0])\n",
    "\n",
    "print(a_list)"
   ]
  },
  {
   "cell_type": "code",
   "execution_count": null,
   "metadata": {},
   "outputs": [],
   "source": []
  },
  {
   "cell_type": "code",
   "execution_count": null,
   "metadata": {},
   "outputs": [],
   "source": []
  },
  {
   "cell_type": "code",
   "execution_count": null,
   "metadata": {},
   "outputs": [],
   "source": []
  },
  {
   "cell_type": "code",
   "execution_count": null,
   "metadata": {},
   "outputs": [],
   "source": []
  },
  {
   "cell_type": "markdown",
   "metadata": {
    "id": "h40NMlRG5qWE"
   },
   "source": [
    "# BERT\n",
    "OpenPrompt"
   ]
  },
  {
   "cell_type": "code",
   "execution_count": 130,
   "metadata": {
    "id": "rHra-taOa7_R"
   },
   "outputs": [],
   "source": [
    "import openprompt.plms as plms\n",
    "from openprompt.plms.mlm import MLMTokenizerWrapper\n",
    "from transformers import BertConfig, BertForMaskedLM, BertTokenizer"
   ]
  },
  {
   "cell_type": "code",
   "execution_count": 131,
   "metadata": {
    "id": "OZWrokM5cF8I"
   },
   "outputs": [],
   "source": [
    "plms._MODEL_CLASSES['bert'] = plms.ModelClass(**{\n",
    "    'config': BertConfig,\n",
    "    'tokenizer': BertTokenizer,\n",
    "    'model':BertForMaskedLM,\n",
    "    'wrapper': MLMTokenizerWrapper,\n",
    "})"
   ]
  },
  {
   "cell_type": "code",
   "execution_count": 132,
   "metadata": {
    "id": "gsxMMn8pdQx2"
   },
   "outputs": [
    {
     "data": {
      "text/plain": [
       "{'bert': ModelClass(config=<class 'transformers.models.bert.configuration_bert.BertConfig'>, tokenizer=<class 'transformers.models.bert.tokenization_bert.BertTokenizer'>, model=<class 'transformers.models.bert.modeling_bert.BertForMaskedLM'>, wrapper=<class 'openprompt.plms.mlm.MLMTokenizerWrapper'>),\n",
       " 'roberta': ModelClass(config=<class 'transformers.models.roberta.configuration_roberta.RobertaConfig'>, tokenizer=<class 'transformers.models.roberta.tokenization_roberta.RobertaTokenizer'>, model=<class 'transformers.models.roberta.modeling_roberta.RobertaForMaskedLM'>, wrapper=<class 'openprompt.plms.mlm.MLMTokenizerWrapper'>),\n",
       " 'albert': ModelClass(config=<class 'transformers.models.albert.configuration_albert.AlbertConfig'>, tokenizer=<class 'transformers.models.albert.tokenization_albert.AlbertTokenizer'>, model=<class 'transformers.models.albert.modeling_albert.AlbertForMaskedLM'>, wrapper=<class 'openprompt.plms.mlm.MLMTokenizerWrapper'>),\n",
       " 'gpt': ModelClass(config=<class 'transformers.models.openai.configuration_openai.OpenAIGPTConfig'>, tokenizer=<class 'transformers.models.openai.tokenization_openai.OpenAIGPTTokenizer'>, model=<class 'transformers.models.openai.modeling_openai.OpenAIGPTLMHeadModel'>, wrapper=<class 'openprompt.plms.lm.LMTokenizerWrapper'>),\n",
       " 'gpt2': ModelClass(config=<class 'transformers.models.gpt2.configuration_gpt2.GPT2Config'>, tokenizer=<class 'transformers.models.gpt2.tokenization_gpt2.GPT2Tokenizer'>, model=<class 'transformers.models.gpt2.modeling_gpt2.GPT2LMHeadModel'>, wrapper=<class 'openprompt.plms.lm.LMTokenizerWrapper'>),\n",
       " 't5': ModelClass(config=<class 'transformers.models.t5.configuration_t5.T5Config'>, tokenizer=<class 'transformers.models.t5.tokenization_t5.T5Tokenizer'>, model=<class 'transformers.models.t5.modeling_t5.T5ForConditionalGeneration'>, wrapper=<class 'openprompt.plms.seq2seq.T5TokenizerWrapper'>),\n",
       " 't5-lm': ModelClass(config=<class 'transformers.models.t5.configuration_t5.T5Config'>, tokenizer=<class 'transformers.models.t5.tokenization_t5.T5Tokenizer'>, model=<class 'transformers.models.t5.modeling_t5.T5ForConditionalGeneration'>, wrapper=<class 'openprompt.plms.seq2seq.T5LMTokenizerWrapper'>)}"
      ]
     },
     "execution_count": 132,
     "metadata": {},
     "output_type": "execute_result"
    }
   ],
   "source": [
    "plms._MODEL_CLASSES"
   ]
  },
  {
   "cell_type": "markdown",
   "metadata": {
    "id": "lqqf6NKRKVgI"
   },
   "source": [
    "# PROMPT Function\n"
   ]
  },
  {
   "cell_type": "code",
   "execution_count": 133,
   "metadata": {
    "id": "YnhS5PiJJuPM"
   },
   "outputs": [],
   "source": [
    "\n",
    "def prompt_classification(text):\n",
    "    classes = [ \n",
    "        \"SMOKER\",\n",
    "        \"NON-SMOKER\",\n",
    "    ]\n",
    "#     print(text)\n",
    "\n",
    "    dataset = [ \n",
    "          InputExample(\n",
    "    #         guid = 0,\n",
    "            text_a =text\n",
    "#               \"Asthma affects lungs  and can be hard to diagnose. The signs of asthma can seem like the signs of COPD, pneumonia, bronchitis, pulmonary embolism, anxiety, and heart disease.\", #lung\n",
    "        ),\n",
    "    #     InputExample(\n",
    "    #         guid = 1,\n",
    "    #         text_a = \"COVID-19 is caused by a coronavirus called SARS-CoV-2\", #virus\n",
    "    #     ),\n",
    "    #     InputExample(\n",
    "    #         guid = 2,\n",
    "    #         text_a = \"When your brain is damaged, it can affect many different things, including your memory, your sensation, and even your personality. Brain disorders include any conditions or disabilities that affect your brain.\", #brain\n",
    "    #     ),\n",
    "    #     InputExample(\n",
    "    #         guid = 3,\n",
    "    #         text_a = \"Symptoms may appear 2-14 days after exposure to the virus\", #virus\n",
    "    #     ),\n",
    "#             InputExample(\n",
    "#     #         guid = 4,\n",
    "#             text_a = \"\"\"Neurodegenerative diseases cause your brain and nerves to deteriorate over time. They can change your personality and cause confusion. They can also destroy your brain’s tissue and nerves.\n",
    "\n",
    "#     Some brain diseases, such as Alzheimer’s disease, may develop as you age. \"\"\", #brain\n",
    "#         ),\n",
    "    ]\n",
    "\n",
    "\n",
    "#     plm, tokenizer, model_config, WrapperClass = load_plm_fn()\n",
    "\n",
    "\n",
    "    # template_text = '{\"placeholder\":\"text_a\"}: This effects {\"mask\"}'\n",
    "    template_text= 'A {\"mask\"} disorder :  {\"placeholder\": \"text_a\"}'\n",
    "\n",
    "    promptTemplate = ManualTemplate(\n",
    "        text = template_text,\n",
    "        tokenizer = tokenizer,\n",
    "    )\n",
    "\n",
    "    promptVerbalizer = ManualVerbalizer(\n",
    "        classes = classes,\n",
    "        label_words = {\n",
    "            \"SMOKER\": [\"cigar smoker\", \"tobacco user\", \"pipe smoker\", \"chain-smoker\"],\n",
    "            \"NON-SMOKER\": [\"person who does not smoke tobacco\", \"non-smoker\"\n",
    "                           \"nonsmoker\", \"ex-smoker\", \"never-smoker\"] #\"healthy\", \n",
    "        },\n",
    "        tokenizer = tokenizer,\n",
    "    )\n",
    "\n",
    "    promptModel = PromptForClassification(\n",
    "        template = promptTemplate,\n",
    "        plm = plm,\n",
    "        verbalizer = promptVerbalizer\n",
    "    )\n",
    "\n",
    "\n",
    "    data_loader = PromptDataLoader(\n",
    "        dataset = dataset,\n",
    "        tokenizer = tokenizer, \n",
    "        template = promptTemplate, \n",
    "        tokenizer_wrapper_class=WrapperClass,\n",
    "        max_seq_length=256, decoder_max_length=3, \n",
    "        batch_size=1,shuffle=False, teacher_forcing=False, predict_eos_token=False,\n",
    "        truncate_method=\"head\"\n",
    "    )\n",
    "\n",
    "    promptModel.eval()\n",
    "    with torch.no_grad():\n",
    "        for batch in data_loader:\n",
    "            logits = promptModel(batch)\n",
    "    #         print(logits)\n",
    "            preds = torch.argmax(logits, dim = -1)\n",
    "#             print(classes[preds])\n",
    "            \n",
    "    return classes[preds]\n",
    "\n",
    "\n"
   ]
  },
  {
   "cell_type": "code",
   "execution_count": 134,
   "metadata": {},
   "outputs": [
    {
     "name": "stderr",
     "output_type": "stream",
     "text": [
      "Some weights of the model checkpoint at emilyalsentzer/Bio_ClinicalBERT were not used when initializing BertForMaskedLM: ['cls.seq_relationship.weight', 'cls.seq_relationship.bias']\n",
      "- This IS expected if you are initializing BertForMaskedLM from the checkpoint of a model trained on another task or with another architecture (e.g. initializing a BertForSequenceClassification model from a BertForPreTraining model).\n",
      "- This IS NOT expected if you are initializing BertForMaskedLM from the checkpoint of a model that you expect to be exactly identical (initializing a BertForSequenceClassification model from a BertForSequenceClassification model).\n"
     ]
    }
   ],
   "source": [
    "#if __name__ == \"__main__\":\n",
    "    \n",
    "#     st.title(\"HealthPrompt: Classifying clinical texts\")\n",
    "#     st.write(\"Upload Clinical text, Classify it..\")\n",
    "\n",
    "#     @st.cache(allow_output_mutation=True)\n",
    "def load_plm_fn():\n",
    "#         plm, tokenizer, model_config, WrapperClass = load_plm(\"bert\", \"bert-base-uncased\")\n",
    "        plm, tokenizer, model_config, WrapperClass = load_plm(\"bert\", \"emilyalsentzer/Bio_ClinicalBERT\")\n",
    "#         plm, tokenizer, model_config, WrapperClass = load_plm(\"bert\", \"mrm8488/bioclinicalBERT-finetuned-covid-papers\")\n",
    "        return plm, tokenizer, model_config, WrapperClass\n",
    "    \n",
    "#     with st.spinner(\"Loading PLM into memory...\"):\n",
    "plm, tokenizer, model_config, WrapperClass = load_plm_fn()\n",
    "        \n",
    "#     text = st.text_input('Enter the clinical text here: ')\n",
    "        \n",
    "#     if text:\n",
    "#         st.write(\"Response: \")\n",
    "#         with st.spinner(\"Searching for classes..\"):\n",
    "#             res=prompt_classification(text)\n",
    "#             st.write(\"Class : {} - disease\".format(res))\n",
    "#         st.write(\"\")\n",
    "\n",
    "# res=prompt_classification(text)"
   ]
  },
  {
   "cell_type": "code",
   "execution_count": 135,
   "metadata": {},
   "outputs": [
    {
     "name": "stderr",
     "output_type": "stream",
     "text": [
      "tokenizing: 1it [00:00, 476.68it/s]\n",
      "tokenizing: 1it [00:00, 797.24it/s]\n",
      "tokenizing: 1it [00:00, 865.70it/s]\n",
      "tokenizing: 1it [00:00, 871.09it/s]\n",
      "tokenizing: 1it [00:00, 558.72it/s]\n",
      "tokenizing: 1it [00:00, 849.57it/s]\n",
      "tokenizing: 1it [00:00, 763.16it/s]\n",
      "tokenizing: 1it [00:00, 640.06it/s]\n",
      "tokenizing: 1it [00:00, 723.78it/s]\n",
      "tokenizing: 1it [00:00, 777.59it/s]\n",
      "tokenizing: 1it [00:00, 585.80it/s]\n",
      "tokenizing: 1it [00:00, 988.99it/s]\n",
      "tokenizing: 1it [00:00, 754.78it/s]\n",
      "tokenizing: 1it [00:00, 789.29it/s]\n",
      "tokenizing: 1it [00:00, 720.79it/s]\n",
      "tokenizing: 1it [00:00, 520.84it/s]\n",
      "tokenizing: 1it [00:00, 607.17it/s]\n",
      "tokenizing: 1it [00:00, 628.64it/s]\n",
      "tokenizing: 1it [00:00, 690.99it/s]\n",
      "tokenizing: 1it [00:00, 959.36it/s]\n",
      "tokenizing: 1it [00:00, 877.47it/s]\n",
      "tokenizing: 1it [00:00, 877.47it/s]\n",
      "tokenizing: 1it [00:00, 912.60it/s]\n",
      "tokenizing: 1it [00:00, 875.45it/s]\n",
      "tokenizing: 1it [00:00, 835.52it/s]\n",
      "tokenizing: 1it [00:00, 942.12it/s]\n",
      "tokenizing: 1it [00:00, 901.42it/s]\n",
      "tokenizing: 1it [00:00, 1016.31it/s]\n",
      "tokenizing: 1it [00:00, 449.55it/s]\n",
      "tokenizing: 1it [00:00, 1017.05it/s]\n",
      "tokenizing: 1it [00:00, 858.78it/s]\n",
      "tokenizing: 1it [00:00, 1011.16it/s]\n",
      "tokenizing: 1it [00:00, 977.47it/s]\n",
      "tokenizing: 1it [00:00, 739.34it/s]\n",
      "tokenizing: 1it [00:00, 816.49it/s]\n",
      "tokenizing: 1it [00:00, 687.93it/s]\n",
      "tokenizing: 1it [00:00, 930.21it/s]\n",
      "tokenizing: 1it [00:00, 575.59it/s]\n",
      "tokenizing: 1it [00:00, 672.38it/s]\n",
      "tokenizing: 1it [00:00, 874.54it/s]\n",
      "tokenizing: 1it [00:00, 750.32it/s]\n",
      "tokenizing: 1it [00:00, 375.90it/s]\n",
      "tokenizing: 1it [00:00, 639.86it/s]\n",
      "tokenizing: 1it [00:00, 737.65it/s]\n",
      "tokenizing: 1it [00:00, 600.04it/s]\n",
      "tokenizing: 1it [00:00, 988.76it/s]\n",
      "tokenizing: 1it [00:00, 879.86it/s]\n",
      "tokenizing: 1it [00:00, 897.75it/s]\n",
      "tokenizing: 1it [00:00, 609.28it/s]\n",
      "tokenizing: 1it [00:00, 722.91it/s]\n",
      "tokenizing: 1it [00:00, 656.18it/s]\n",
      "tokenizing: 1it [00:00, 991.56it/s]\n",
      "tokenizing: 1it [00:00, 875.82it/s]\n",
      "tokenizing: 1it [00:00, 709.82it/s]\n",
      "tokenizing: 1it [00:00, 703.39it/s]\n",
      "tokenizing: 1it [00:00, 806.44it/s]\n",
      "tokenizing: 1it [00:00, 667.88it/s]\n",
      "tokenizing: 1it [00:00, 775.86it/s]\n",
      "tokenizing: 1it [00:00, 420.27it/s]\n",
      "tokenizing: 1it [00:00, 560.36it/s]\n",
      "tokenizing: 1it [00:00, 573.38it/s]\n",
      "tokenizing: 1it [00:00, 753.42it/s]\n",
      "tokenizing: 1it [00:00, 836.35it/s]\n",
      "tokenizing: 1it [00:00, 506.19it/s]\n",
      "tokenizing: 1it [00:00, 474.79it/s]\n",
      "tokenizing: 1it [00:00, 641.13it/s]\n",
      "tokenizing: 1it [00:00, 769.17it/s]\n",
      "tokenizing: 1it [00:00, 581.57it/s]\n",
      "tokenizing: 1it [00:00, 568.18it/s]\n",
      "tokenizing: 1it [00:00, 618.45it/s]\n",
      "tokenizing: 1it [00:00, 592.16it/s]\n",
      "tokenizing: 1it [00:00, 976.78it/s]\n",
      "tokenizing: 1it [00:00, 916.99it/s]\n",
      "tokenizing: 1it [00:00, 827.28it/s]\n",
      "tokenizing: 1it [00:00, 649.68it/s]\n",
      "tokenizing: 1it [00:00, 684.23it/s]\n",
      "tokenizing: 1it [00:00, 602.80it/s]\n",
      "tokenizing: 1it [00:00, 666.82it/s]\n",
      "tokenizing: 1it [00:00, 695.80it/s]\n",
      "tokenizing: 1it [00:00, 757.37it/s]\n",
      "tokenizing: 1it [00:00, 809.71it/s]\n",
      "tokenizing: 1it [00:00, 588.67it/s]\n",
      "tokenizing: 1it [00:00, 595.11it/s]\n",
      "tokenizing: 1it [00:00, 858.26it/s]\n",
      "tokenizing: 1it [00:00, 903.17it/s]\n",
      "tokenizing: 1it [00:00, 791.38it/s]\n",
      "tokenizing: 1it [00:00, 716.73it/s]\n",
      "tokenizing: 1it [00:00, 812.85it/s]\n",
      "tokenizing: 1it [00:00, 724.40it/s]\n",
      "tokenizing: 1it [00:00, 708.02it/s]\n",
      "tokenizing: 1it [00:00, 853.54it/s]\n",
      "tokenizing: 1it [00:00, 618.36it/s]\n",
      "tokenizing: 1it [00:00, 777.01it/s]\n",
      "tokenizing: 1it [00:00, 666.19it/s]\n",
      "tokenizing: 1it [00:00, 853.37it/s]\n",
      "tokenizing: 1it [00:00, 710.66it/s]\n",
      "tokenizing: 1it [00:00, 836.35it/s]\n",
      "tokenizing: 1it [00:00, 523.57it/s]\n"
     ]
    },
    {
     "data": {
      "text/plain": [
       "98"
      ]
     },
     "execution_count": 135,
     "metadata": {},
     "output_type": "execute_result"
    }
   ],
   "source": [
    "y_pred=[]\n",
    "# for x in x_test:\n",
    "for x  in a_list:\n",
    "    pred_label=prompt_classification(x)\n",
    "#     print(pred_label)\n",
    "    y_pred.append(pred_label)\n",
    "    \n",
    "y_pred.__len__()"
   ]
  },
  {
   "cell_type": "code",
   "execution_count": 141,
   "metadata": {},
   "outputs": [
    {
     "name": "stdout",
     "output_type": "stream",
     "text": [
      "{'NON-SMOKER': 90, 'SMOKER': 8}\n",
      "SMOKER\n",
      "SMOKER\n"
     ]
    }
   ],
   "source": [
    "import collections\n",
    "weight=0.05\n",
    "occurrences = collections.Counter(y_pred)\n",
    "occurrences=dict(occurrences)\n",
    "print(occurrences)\n",
    "## CHANGE CMOKER TO CLASS 1\n",
    "if occurrences[\"SMOKER\"] > (weight*occurrences[\"NON-SMOKER\"]):\n",
    "    print(\"SMOKER\")\n",
    "else:\n",
    "    print(\"NON-SMOKER\")\n",
    "\n",
    "print(y_test[0])"
   ]
  },
  {
   "cell_type": "code",
   "execution_count": 137,
   "metadata": {
    "id": "YT4WwqpYK1Z0"
   },
   "outputs": [],
   "source": [
    "# # makcollectionszero-shot inference using pretrained MLM with prompt\n",
    "# import torch\n",
    "# promptModel.eval()\n",
    "# with torch.no_grad():\n",
    "#     for batch in data_loader:\n",
    "#         logits = promptModel(batch)\n",
    "#         print(logits)\n",
    "#         preds = torch.argmax(logits, dim = -1)\n",
    "        \n",
    "#         print(classes[preds])\n",
    "# # predictions would be 1, 0 for classes 'positive', 'negative'\n"
   ]
  },
  {
   "cell_type": "code",
   "execution_count": 138,
   "metadata": {
    "id": "RsY1V4xFQvIw"
   },
   "outputs": [
    {
     "ename": "ValueError",
     "evalue": "Found input variables with inconsistent numbers of samples: [146, 98]",
     "output_type": "error",
     "traceback": [
      "\u001b[0;31m---------------------------------------------------------------------------\u001b[0m",
      "\u001b[0;31mValueError\u001b[0m                                Traceback (most recent call last)",
      "\u001b[0;32m/scratch/slurm-253544/ipykernel_22483/802199274.py\u001b[0m in \u001b[0;36m<module>\u001b[0;34m\u001b[0m\n\u001b[1;32m      1\u001b[0m \u001b[0;32mfrom\u001b[0m \u001b[0msklearn\u001b[0m\u001b[0;34m.\u001b[0m\u001b[0mmetrics\u001b[0m \u001b[0;32mimport\u001b[0m \u001b[0mconfusion_matrix\u001b[0m\u001b[0;34m\u001b[0m\u001b[0;34m\u001b[0m\u001b[0m\n\u001b[1;32m      2\u001b[0m \u001b[0;32mimport\u001b[0m \u001b[0mnumpy\u001b[0m \u001b[0;32mas\u001b[0m \u001b[0mnp\u001b[0m\u001b[0;34m\u001b[0m\u001b[0;34m\u001b[0m\u001b[0m\n\u001b[0;32m----> 3\u001b[0;31m \u001b[0mconfusion\u001b[0m \u001b[0;34m=\u001b[0m \u001b[0mconfusion_matrix\u001b[0m\u001b[0;34m(\u001b[0m\u001b[0my_test\u001b[0m\u001b[0;34m,\u001b[0m \u001b[0my_pred\u001b[0m\u001b[0;34m)\u001b[0m\u001b[0;34m\u001b[0m\u001b[0;34m\u001b[0m\u001b[0m\n\u001b[0m\u001b[1;32m      4\u001b[0m \u001b[0mprint\u001b[0m\u001b[0;34m(\u001b[0m\u001b[0mconfusion\u001b[0m\u001b[0;34m)\u001b[0m\u001b[0;34m\u001b[0m\u001b[0;34m\u001b[0m\u001b[0m\n\u001b[1;32m      5\u001b[0m \u001b[0mprint\u001b[0m\u001b[0;34m(\u001b[0m\u001b[0;34m\"Classification accuracy is: \"\u001b[0m\u001b[0;34m,\u001b[0m \u001b[0;34m(\u001b[0m\u001b[0mconfusion\u001b[0m\u001b[0;34m[\u001b[0m\u001b[0;36m0\u001b[0m\u001b[0;34m]\u001b[0m\u001b[0;34m[\u001b[0m\u001b[0;36m0\u001b[0m\u001b[0;34m]\u001b[0m \u001b[0;34m+\u001b[0m \u001b[0mconfusion\u001b[0m\u001b[0;34m[\u001b[0m\u001b[0;36m1\u001b[0m\u001b[0;34m]\u001b[0m\u001b[0;34m[\u001b[0m\u001b[0;36m1\u001b[0m\u001b[0;34m]\u001b[0m\u001b[0;34m)\u001b[0m \u001b[0;34m/\u001b[0m \u001b[0mnp\u001b[0m\u001b[0;34m.\u001b[0m\u001b[0msum\u001b[0m\u001b[0;34m(\u001b[0m\u001b[0mconfusion\u001b[0m\u001b[0;34m)\u001b[0m\u001b[0;34m)\u001b[0m\u001b[0;34m\u001b[0m\u001b[0;34m\u001b[0m\u001b[0m\n",
      "\u001b[0;32m~/.local/lib/python3.8/site-packages/sklearn/metrics/_classification.py\u001b[0m in \u001b[0;36mconfusion_matrix\u001b[0;34m(y_true, y_pred, labels, sample_weight, normalize)\u001b[0m\n\u001b[1;32m    305\u001b[0m     \u001b[0;34m(\u001b[0m\u001b[0;36m0\u001b[0m\u001b[0;34m,\u001b[0m \u001b[0;36m2\u001b[0m\u001b[0;34m,\u001b[0m \u001b[0;36m1\u001b[0m\u001b[0;34m,\u001b[0m \u001b[0;36m1\u001b[0m\u001b[0;34m)\u001b[0m\u001b[0;34m\u001b[0m\u001b[0;34m\u001b[0m\u001b[0m\n\u001b[1;32m    306\u001b[0m     \"\"\"\n\u001b[0;32m--> 307\u001b[0;31m     \u001b[0my_type\u001b[0m\u001b[0;34m,\u001b[0m \u001b[0my_true\u001b[0m\u001b[0;34m,\u001b[0m \u001b[0my_pred\u001b[0m \u001b[0;34m=\u001b[0m \u001b[0m_check_targets\u001b[0m\u001b[0;34m(\u001b[0m\u001b[0my_true\u001b[0m\u001b[0;34m,\u001b[0m \u001b[0my_pred\u001b[0m\u001b[0;34m)\u001b[0m\u001b[0;34m\u001b[0m\u001b[0;34m\u001b[0m\u001b[0m\n\u001b[0m\u001b[1;32m    308\u001b[0m     \u001b[0;32mif\u001b[0m \u001b[0my_type\u001b[0m \u001b[0;32mnot\u001b[0m \u001b[0;32min\u001b[0m \u001b[0;34m(\u001b[0m\u001b[0;34m\"binary\"\u001b[0m\u001b[0;34m,\u001b[0m \u001b[0;34m\"multiclass\"\u001b[0m\u001b[0;34m)\u001b[0m\u001b[0;34m:\u001b[0m\u001b[0;34m\u001b[0m\u001b[0;34m\u001b[0m\u001b[0m\n\u001b[1;32m    309\u001b[0m         \u001b[0;32mraise\u001b[0m \u001b[0mValueError\u001b[0m\u001b[0;34m(\u001b[0m\u001b[0;34m\"%s is not supported\"\u001b[0m \u001b[0;34m%\u001b[0m \u001b[0my_type\u001b[0m\u001b[0;34m)\u001b[0m\u001b[0;34m\u001b[0m\u001b[0;34m\u001b[0m\u001b[0m\n",
      "\u001b[0;32m~/.local/lib/python3.8/site-packages/sklearn/metrics/_classification.py\u001b[0m in \u001b[0;36m_check_targets\u001b[0;34m(y_true, y_pred)\u001b[0m\n\u001b[1;32m     82\u001b[0m     \u001b[0my_pred\u001b[0m \u001b[0;34m:\u001b[0m \u001b[0marray\u001b[0m \u001b[0;32mor\u001b[0m \u001b[0mindicator\u001b[0m \u001b[0mmatrix\u001b[0m\u001b[0;34m\u001b[0m\u001b[0;34m\u001b[0m\u001b[0m\n\u001b[1;32m     83\u001b[0m     \"\"\"\n\u001b[0;32m---> 84\u001b[0;31m     \u001b[0mcheck_consistent_length\u001b[0m\u001b[0;34m(\u001b[0m\u001b[0my_true\u001b[0m\u001b[0;34m,\u001b[0m \u001b[0my_pred\u001b[0m\u001b[0;34m)\u001b[0m\u001b[0;34m\u001b[0m\u001b[0;34m\u001b[0m\u001b[0m\n\u001b[0m\u001b[1;32m     85\u001b[0m     \u001b[0mtype_true\u001b[0m \u001b[0;34m=\u001b[0m \u001b[0mtype_of_target\u001b[0m\u001b[0;34m(\u001b[0m\u001b[0my_true\u001b[0m\u001b[0;34m)\u001b[0m\u001b[0;34m\u001b[0m\u001b[0;34m\u001b[0m\u001b[0m\n\u001b[1;32m     86\u001b[0m     \u001b[0mtype_pred\u001b[0m \u001b[0;34m=\u001b[0m \u001b[0mtype_of_target\u001b[0m\u001b[0;34m(\u001b[0m\u001b[0my_pred\u001b[0m\u001b[0;34m)\u001b[0m\u001b[0;34m\u001b[0m\u001b[0;34m\u001b[0m\u001b[0m\n",
      "\u001b[0;32m~/.local/lib/python3.8/site-packages/sklearn/utils/validation.py\u001b[0m in \u001b[0;36mcheck_consistent_length\u001b[0;34m(*arrays)\u001b[0m\n\u001b[1;32m    330\u001b[0m     \u001b[0muniques\u001b[0m \u001b[0;34m=\u001b[0m \u001b[0mnp\u001b[0m\u001b[0;34m.\u001b[0m\u001b[0munique\u001b[0m\u001b[0;34m(\u001b[0m\u001b[0mlengths\u001b[0m\u001b[0;34m)\u001b[0m\u001b[0;34m\u001b[0m\u001b[0;34m\u001b[0m\u001b[0m\n\u001b[1;32m    331\u001b[0m     \u001b[0;32mif\u001b[0m \u001b[0mlen\u001b[0m\u001b[0;34m(\u001b[0m\u001b[0muniques\u001b[0m\u001b[0;34m)\u001b[0m \u001b[0;34m>\u001b[0m \u001b[0;36m1\u001b[0m\u001b[0;34m:\u001b[0m\u001b[0;34m\u001b[0m\u001b[0;34m\u001b[0m\u001b[0m\n\u001b[0;32m--> 332\u001b[0;31m         raise ValueError(\n\u001b[0m\u001b[1;32m    333\u001b[0m             \u001b[0;34m\"Found input variables with inconsistent numbers of samples: %r\"\u001b[0m\u001b[0;34m\u001b[0m\u001b[0;34m\u001b[0m\u001b[0m\n\u001b[1;32m    334\u001b[0m             \u001b[0;34m%\u001b[0m \u001b[0;34m[\u001b[0m\u001b[0mint\u001b[0m\u001b[0;34m(\u001b[0m\u001b[0ml\u001b[0m\u001b[0;34m)\u001b[0m \u001b[0;32mfor\u001b[0m \u001b[0ml\u001b[0m \u001b[0;32min\u001b[0m \u001b[0mlengths\u001b[0m\u001b[0;34m]\u001b[0m\u001b[0;34m\u001b[0m\u001b[0;34m\u001b[0m\u001b[0m\n",
      "\u001b[0;31mValueError\u001b[0m: Found input variables with inconsistent numbers of samples: [146, 98]"
     ]
    }
   ],
   "source": [
    "from sklearn.metrics import confusion_matrix\n",
    "import numpy as np\n",
    "confusion = confusion_matrix(y_test, y_pred)\n",
    "print(confusion)\n",
    "print(\"Classification accuracy is: \", (confusion[0][0] + confusion[1][1]) / np.sum(confusion))"
   ]
  },
  {
   "cell_type": "code",
   "execution_count": null,
   "metadata": {},
   "outputs": [],
   "source": [
    "# DEBUGGING\n",
    "df_debug = pd.DataFrame({'Text': x_test, 'Labels': y_test, 'Predicted':y_pred})\n",
    "df_debug.head()"
   ]
  },
  {
   "cell_type": "code",
   "execution_count": null,
   "metadata": {},
   "outputs": [],
   "source": [
    "df_debug.Predicted.value_counts()"
   ]
  },
  {
   "cell_type": "code",
   "execution_count": null,
   "metadata": {},
   "outputs": [],
   "source": []
  },
  {
   "cell_type": "code",
   "execution_count": null,
   "metadata": {},
   "outputs": [],
   "source": []
  },
  {
   "cell_type": "code",
   "execution_count": null,
   "metadata": {},
   "outputs": [],
   "source": []
  }
 ],
 "metadata": {
  "colab": {
   "collapsed_sections": [],
   "name": "Openprompt-health example working.ipynb",
   "provenance": []
  },
  "kernelspec": {
   "display_name": "Python 3 (ipykernel)",
   "language": "python",
   "name": "python3"
  },
  "language_info": {
   "codemirror_mode": {
    "name": "ipython",
    "version": 3
   },
   "file_extension": ".py",
   "mimetype": "text/x-python",
   "name": "python",
   "nbconvert_exporter": "python",
   "pygments_lexer": "ipython3",
   "version": "3.8.5"
  }
 },
 "nbformat": 4,
 "nbformat_minor": 4
}
