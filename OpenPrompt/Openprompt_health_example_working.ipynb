{
  "nbformat": 4,
  "nbformat_minor": 0,
  "metadata": {
    "colab": {
      "name": "Openprompt-health example working.ipynb",
      "provenance": [],
      "private_outputs": true,
      "collapsed_sections": []
    },
    "kernelspec": {
      "name": "python3",
      "display_name": "Python 3"
    },
    "language_info": {
      "name": "python"
    }
  },
  "cells": [
    {
      "cell_type": "code",
      "source": [
        "!pip install openprompt==0.1.1 \\\n",
        "'torch>=1.9.0' \\\n",
        "'transformers>=4.10.0' \\\n",
        "sentencepiece==0.1.96 \\\n",
        "'scikit-learn>=0.24.2' \\\n",
        "'tqdm>=4.62.2' \\\n",
        "tensorboardX \\\n",
        "nltk \\\n",
        "yacs \\\n",
        "dill \\\n",
        "datasets \\\n",
        "rouge==1.0.0 \\\n",
        "scipy==1.4.1 \\\n",
        "fugashi \\\n",
        "ipadic \\\n",
        "unidic-lite"
      ],
      "metadata": {
        "id": "Bgm_jBuEbJb-"
      },
      "execution_count": null,
      "outputs": []
    },
    {
      "cell_type": "markdown",
      "source": [
        "# BERT\n",
        "OpenPrompt"
      ],
      "metadata": {
        "id": "h40NMlRG5qWE"
      }
    },
    {
      "cell_type": "code",
      "source": [
        "import openprompt.plms as plms\n",
        "from openprompt.plms.mlm import MLMTokenizerWrapper\n",
        "from transformers import BertConfig, BertForMaskedLM, BertTokenizer"
      ],
      "metadata": {
        "id": "rHra-taOa7_R"
      },
      "execution_count": null,
      "outputs": []
    },
    {
      "cell_type": "code",
      "source": [
        "plms._MODEL_CLASSES['bert'] = plms.ModelClass(**{\n",
        "    'config': BertConfig,\n",
        "    'tokenizer': BertTokenizer,\n",
        "    'model':BertForMaskedLM,\n",
        "    'wrapper': MLMTokenizerWrapper,\n",
        "})"
      ],
      "metadata": {
        "id": "OZWrokM5cF8I"
      },
      "execution_count": null,
      "outputs": []
    },
    {
      "cell_type": "code",
      "source": [
        "plms._MODEL_CLASSES"
      ],
      "metadata": {
        "id": "gsxMMn8pdQx2"
      },
      "execution_count": null,
      "outputs": []
    },
    {
      "cell_type": "markdown",
      "source": [
        "# Step 1: Define a task\n",
        "|"
      ],
      "metadata": {
        "id": "lqqf6NKRKVgI"
      }
    },
    {
      "cell_type": "code",
      "source": [
        "from openprompt.data_utils import InputExample\n",
        "classes = [ \n",
        "    \"lung\",\n",
        "    \"brain\"\n",
        "]\n",
        "dataset = [ \n",
        "      InputExample(\n",
        "        guid = 0,\n",
        "        text_a = \"Asthma affects lungs  and can be hard to diagnose. The signs of asthma can seem like the signs of COPD, pneumonia, bronchitis, pulmonary embolism, anxiety, and heart disease.\", #lung\n",
        "    ),\n",
        "    # InputExample(\n",
        "    #     guid = 1,\n",
        "    #     text_a = \"COVID-19 is caused by a coronavirus called SARS-CoV-2\", #virus\n",
        "    # ),\n",
        "    InputExample(\n",
        "        guid = 2,\n",
        "        text_a = \"When your brain is damaged, it can affect many different things, including your memory, your sensation, and even your personality. Brain disorders include any conditions or disabilities that affect your brain.\", #brain\n",
        "    ),\n",
        "    # InputExample(\n",
        "    #     guid = 3,\n",
        "    #     text_a = \"Symptoms may appear 2-14 days after exposure to the virus\", #virus\n",
        "    # ),\n",
        "        InputExample(\n",
        "        guid = 4,\n",
        "        text_a = \"\"\"Neurodegenerative diseases cause your brain and nerves to deteriorate over time. They can change your personality and cause confusion. They can also destroy your brain’s tissue and nerves.\n",
        "\n",
        "Some brain diseases, such as Alzheimer’s disease, may develop as you age. \"\"\", #brain\n",
        "    ),\n",
        "]"
      ],
      "metadata": {
        "id": "YnhS5PiJJuPM"
      },
      "execution_count": null,
      "outputs": []
    },
    {
      "cell_type": "markdown",
      "source": [
        "# Step 2: Define a Pre-trained Language Models (PLMs)"
      ],
      "metadata": {
        "id": "DymjAiXFKYw7"
      }
    },
    {
      "cell_type": "code",
      "source": [
        "from transformers import AutoTokenizer, AutoModel\n",
        "from openprompt.plms import load_plm\n",
        "plm, tokenizer, model_config, WrapperClass = load_plm(\"bert\", \"dmis-lab/biobert-v1.1\")\n"
      ],
      "metadata": {
        "id": "rFp3ya01J3nb"
      },
      "execution_count": null,
      "outputs": []
    },
    {
      "cell_type": "code",
      "source": [
        "tokenizer.tokenize(\"I think this drug is not a solution\")"
      ],
      "metadata": {
        "id": "bM7D10XJg49q"
      },
      "execution_count": null,
      "outputs": []
    },
    {
      "cell_type": "markdown",
      "source": [
        "# Step 3: Define a Template.\n"
      ],
      "metadata": {
        "id": "zsI0hUZyKe4A"
      }
    },
    {
      "cell_type": "code",
      "source": [
        "from openprompt.prompts import ManualTemplate\n",
        "# template_text = '{\"placeholder\":\"text_a\"}: This effects {\"mask\"}'\n",
        "template_text= 'A {\"mask\"} disorder :  {\"placeholder\": \"text_a\"}'\n",
        "\n",
        "promptTemplate = ManualTemplate(\n",
        "    text = template_text,\n",
        "    tokenizer = tokenizer,\n",
        ")"
      ],
      "metadata": {
        "id": "HG7p1ETaKg4O"
      },
      "execution_count": null,
      "outputs": []
    },
    {
      "cell_type": "markdown",
      "source": [
        "# Step 4: Define a Verbalizer\n"
      ],
      "metadata": {
        "id": "hthNbpJCKh9R"
      }
    },
    {
      "cell_type": "code",
      "source": [
        "from openprompt.prompts import ManualVerbalizer\n",
        "promptVerbalizer = ManualVerbalizer(\n",
        "    classes = classes,\n",
        "    label_words = {\n",
        "        \"lung\": [\"breathe\", \"lungs\"],\n",
        "        \"brain\": [\"head\",\"brain\"],\n",
        "    },\n",
        "    tokenizer = tokenizer,\n",
        ")"
      ],
      "metadata": {
        "id": "QALc5AqJKl6w"
      },
      "execution_count": null,
      "outputs": []
    },
    {
      "cell_type": "markdown",
      "source": [
        "# Step 5: Combine them into a PromptModel\n",
        "Given the task, now we have a PLM, a Template and a Verbalizer,  combine them into a PromptModel. "
      ],
      "metadata": {
        "id": "WD8leL4PKpNM"
      }
    },
    {
      "cell_type": "code",
      "source": [
        "from openprompt import PromptForClassification\n",
        "promptModel = PromptForClassification(\n",
        "    template = promptTemplate,\n",
        "    plm = plm,\n",
        "    verbalizer = promptVerbalizer\n",
        ")"
      ],
      "metadata": {
        "id": "U-qTGso-Kqez"
      },
      "execution_count": null,
      "outputs": []
    },
    {
      "cell_type": "markdown",
      "source": [
        "# Step 6: Define a DataLoader\n",
        "A PromptDataLoader is basically a prompt version of pytorch Dataloader, which also includes a Tokenizer, a Template and a TokenizerWrapper."
      ],
      "metadata": {
        "id": "4E7vuggeKuCI"
      }
    },
    {
      "cell_type": "code",
      "source": [
        "from openprompt import PromptDataLoader\n",
        "data_loader = PromptDataLoader(\n",
        "    dataset = dataset,\n",
        "    tokenizer = tokenizer, \n",
        "    template = promptTemplate, \n",
        "    tokenizer_wrapper_class=WrapperClass,\n",
        "    max_seq_length=256, decoder_max_length=3, \n",
        "    batch_size=1,shuffle=False, teacher_forcing=False, predict_eos_token=False,\n",
        "    truncate_method=\"head\"\n",
        ")\n"
      ],
      "metadata": {
        "id": "AkrXsdLgKwh7"
      },
      "execution_count": null,
      "outputs": []
    },
    {
      "cell_type": "markdown",
      "source": [
        "# Step 7: Train and inference\n",
        "Done! We can conduct training and inference the same as other processes in Pytorch."
      ],
      "metadata": {
        "id": "rCQSvF5HK0Z3"
      }
    },
    {
      "cell_type": "code",
      "source": [
        "# making zero-shot inference using pretrained MLM with prompt\n",
        "import torch\n",
        "promptModel.eval()\n",
        "with torch.no_grad():\n",
        "    for batch in data_loader:\n",
        "        logits = promptModel(batch)\n",
        "        print(logits)\n",
        "        preds = torch.argmax(logits, dim = -1)\n",
        "        print(classes[preds])\n",
        "# predictions would be 1, 0 for classes 'positive', 'negative'\n"
      ],
      "metadata": {
        "id": "YT4WwqpYK1Z0"
      },
      "execution_count": null,
      "outputs": []
    },
    {
      "cell_type": "code",
      "source": [
        ""
      ],
      "metadata": {
        "id": "RsY1V4xFQvIw"
      },
      "execution_count": null,
      "outputs": []
    }
  ]
}